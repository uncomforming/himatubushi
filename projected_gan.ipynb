{
  "cells": [
    {
      "cell_type": "markdown",
      "metadata": {
        "id": "view-in-github",
        "colab_type": "text"
      },
      "source": [
        "<a href=\"https://colab.research.google.com/github/uncomforming/himatubushi/blob/main/projected_gan.ipynb\" target=\"_parent\"><img src=\"https://colab.research.google.com/assets/colab-badge.svg\" alt=\"Open In Colab\"/></a>"
      ]
    },
    {
      "cell_type": "markdown",
      "source": [
        "ドライブの画像データの前処理\n",
        "①ドライブのマウント\n",
        "\n",
        "② jpg→pngの変換\n",
        "\n",
        "③  正方形に成形\n",
        "\n",
        "④ zip圧縮"
      ],
      "metadata": {
        "id": "0NsAUwmM2U-C"
      }
    },
    {
      "cell_type": "code",
      "source": [
        "import shutil\n",
        "#driveにマウントしてdriveの画像を使えるように\n",
        "from google.colab import drive\n",
        "from PIL import Image\n",
        "drive.mount('/content/drive')\n",
        "\n",
        "def crop_max(pil_img, crop_width, crop_height):\n",
        "    img_width, img_height = pil_img.size\n",
        "    return pil_img.crop(((img_width - crop_width) // 2,#left\n",
        "                         (img_height - crop_height) // 2,#upper\n",
        "                         #(0) // 2,#upper\n",
        "                         (img_width + crop_width) // 2,#right\n",
        "                         (img_height + crop_height) // 2))#lower\n",
        "                         #(crop_height)))#lower\n",
        "def crop_max_square(pil_img):\n",
        "    return crop_max(pil_img, max(pil_img.size), max(pil_img.size))\n",
        "def crop_min(pil_img, crop_width, crop_height):\n",
        "    img_width, img_height = pil_img.size\n",
        "    return pil_img.crop(((img_width - crop_width) // 2,#left\n",
        "                         #(img_height - crop_height) // 2,#upper\n",
        "                         (0) // 2,#upper\n",
        "                         (img_width + crop_width) // 2,#right\n",
        "                         #(img_height + crop_height) // 2))#lower\n",
        "                         (crop_height) // 2))#lower\n",
        "def crop_min_square(pil_img):\n",
        "    return crop_min(pil_img, min(pil_img.size), min(pil_img.size))\n",
        "i=3\n",
        "im = Image.open(f'/content/drive/MyDrive/fgosava/0000/{i:03}.jpg')\n",
        "im=crop_max_square(im)\n",
        "im.save(f'/content/{i:03}.png')"
      ],
      "metadata": {
        "id": "gkF95Yagpbtt",
        "outputId": "7366e8e8-ba7d-4821-989e-b33bc8bd7bcd",
        "colab": {
          "base_uri": "https://localhost:8080/"
        }
      },
      "execution_count": 2,
      "outputs": [
        {
          "output_type": "stream",
          "name": "stdout",
          "text": [
            "Mounted at /content/drive\n"
          ]
        }
      ]
    },
    {
      "cell_type": "code",
      "source": [
        "%mkdir fgopng\n",
        "%cd fgopng\n",
        "%mkdir 0000\n",
        "%cd ..\n",
        "%cp /content/drive/MyDrive/fgosava/dataset.json /content/fgopng\n",
        "for j in range(342):\n",
        "  i =j+1\n",
        "  try:\n",
        "     im = Image.open(f'/content/drive/MyDrive/fgosava/0000/{i:03}.jpg')\n",
        "     im=crop_max_square(im)\n",
        "     im.save(f'/content/fgopng/0000/{i:03}.png')\n",
        "  except:\n",
        "    pass\n",
        "shutil.make_archive('/content/zipfgosavasq/', format='zip', root_dir='/content/fgopng')"
      ],
      "metadata": {
        "id": "Nkzl6gp6YjW1",
        "outputId": "0bb37324-f059-408a-e07d-2c136d53e846",
        "colab": {
          "base_uri": "https://localhost:8080/",
          "height": 371
        }
      },
      "execution_count": 3,
      "outputs": [
        {
          "output_type": "stream",
          "name": "stdout",
          "text": [
            "/content/fgopng\n",
            "/content\n"
          ]
        },
        {
          "output_type": "error",
          "ename": "FileNotFoundError",
          "evalue": "ignored",
          "traceback": [
            "\u001b[0;31m---------------------------------------------------------------------------\u001b[0m",
            "\u001b[0;31mFileNotFoundError\u001b[0m                         Traceback (most recent call last)",
            "\u001b[0;32m<ipython-input-3-4621dfee2afc>\u001b[0m in \u001b[0;36m<module>\u001b[0;34m()\u001b[0m\n\u001b[1;32m     12\u001b[0m   \u001b[0;32mexcept\u001b[0m\u001b[0;34m:\u001b[0m\u001b[0;34m\u001b[0m\u001b[0;34m\u001b[0m\u001b[0m\n\u001b[1;32m     13\u001b[0m     \u001b[0;32mpass\u001b[0m\u001b[0;34m\u001b[0m\u001b[0;34m\u001b[0m\u001b[0m\n\u001b[0;32m---> 14\u001b[0;31m \u001b[0mshutil\u001b[0m\u001b[0;34m.\u001b[0m\u001b[0mmake_archive\u001b[0m\u001b[0;34m(\u001b[0m\u001b[0;34m'/content/zipfgosavasq/'\u001b[0m\u001b[0;34m,\u001b[0m \u001b[0mformat\u001b[0m\u001b[0;34m=\u001b[0m\u001b[0;34m'zip'\u001b[0m\u001b[0;34m,\u001b[0m \u001b[0mroot_dir\u001b[0m\u001b[0;34m=\u001b[0m\u001b[0;34m'/content/testfgo'\u001b[0m\u001b[0;34m)\u001b[0m\u001b[0;34m\u001b[0m\u001b[0;34m\u001b[0m\u001b[0m\n\u001b[0m",
            "\u001b[0;32m/usr/lib/python3.7/shutil.py\u001b[0m in \u001b[0;36mmake_archive\u001b[0;34m(base_name, format, root_dir, base_dir, verbose, dry_run, owner, group, logger)\u001b[0m\n\u001b[1;32m    799\u001b[0m         \u001b[0mbase_name\u001b[0m \u001b[0;34m=\u001b[0m \u001b[0mos\u001b[0m\u001b[0;34m.\u001b[0m\u001b[0mpath\u001b[0m\u001b[0;34m.\u001b[0m\u001b[0mabspath\u001b[0m\u001b[0;34m(\u001b[0m\u001b[0mbase_name\u001b[0m\u001b[0;34m)\u001b[0m\u001b[0;34m\u001b[0m\u001b[0;34m\u001b[0m\u001b[0m\n\u001b[1;32m    800\u001b[0m         \u001b[0;32mif\u001b[0m \u001b[0;32mnot\u001b[0m \u001b[0mdry_run\u001b[0m\u001b[0;34m:\u001b[0m\u001b[0;34m\u001b[0m\u001b[0;34m\u001b[0m\u001b[0m\n\u001b[0;32m--> 801\u001b[0;31m             \u001b[0mos\u001b[0m\u001b[0;34m.\u001b[0m\u001b[0mchdir\u001b[0m\u001b[0;34m(\u001b[0m\u001b[0mroot_dir\u001b[0m\u001b[0;34m)\u001b[0m\u001b[0;34m\u001b[0m\u001b[0;34m\u001b[0m\u001b[0m\n\u001b[0m\u001b[1;32m    802\u001b[0m \u001b[0;34m\u001b[0m\u001b[0m\n\u001b[1;32m    803\u001b[0m     \u001b[0;32mif\u001b[0m \u001b[0mbase_dir\u001b[0m \u001b[0;32mis\u001b[0m \u001b[0;32mNone\u001b[0m\u001b[0;34m:\u001b[0m\u001b[0;34m\u001b[0m\u001b[0;34m\u001b[0m\u001b[0m\n",
            "\u001b[0;31mFileNotFoundError\u001b[0m: [Errno 2] No such file or directory: '/content/testfgo'"
          ]
        }
      ]
    },
    {
      "cell_type": "code",
      "source": [
        "#shutil.make_archive('/content/zipfgosavasq/', format='zip', root_dir='/content/fgopng')"
      ],
      "metadata": {
        "id": "78WdcpGsM4aV",
        "outputId": "76299744-4000-4947-d4b7-49a495eee065",
        "colab": {
          "base_uri": "https://localhost:8080/",
          "height": 36
        }
      },
      "execution_count": 4,
      "outputs": [
        {
          "output_type": "execute_result",
          "data": {
            "text/plain": [
              "'/content/zipfgosavasq.zip'"
            ],
            "application/vnd.google.colaboratory.intrinsic+json": {
              "type": "string"
            }
          },
          "metadata": {},
          "execution_count": 4
        }
      ]
    },
    {
      "cell_type": "markdown",
      "metadata": {
        "id": "RUaixszCnlKd"
      },
      "source": [
        "\n",
        "# Training Projected GAN\n",
        "This is a self-contained notebook for training Projected GAN."
      ]
    },
    {
      "cell_type": "markdown",
      "metadata": {
        "id": "SBwzYACTn05w"
      },
      "source": [
        "## Setup\n",
        "\n",
        "Make sure you're running a GPU runtime; if not, select \"GPU\" as the hardware accelerator in Runtime > Change Runtime Type in the menu. \n",
        "\n",
        "Now, get the repo and install missing dependencies.\n",
        "\n",
        "日本語訳\n",
        "GPU ランタイムを実行していることを確認します。そうでない場合は、メニューの Runtime > Change Runtime Type でハードウェアアクセラレータとして \"GPU\" を選択します。\n",
        "\n",
        "さて、レポを入手し、不足している依存関係をインストールします。\n"
      ]
    },
    {
      "cell_type": "markdown",
      "metadata": {
        "id": "YRrYJBn1Yf3q"
      },
      "source": [
        "git pull#コマンド実行\n",
        "\n",
        "git add .#コミット対象に変更\n",
        "\n",
        "git commit#コミット\n",
        "\n",
        "git push#更新を反映\n",
        "\n"
      ]
    },
    {
      "cell_type": "code",
      "execution_count": 5,
      "metadata": {
        "id": "VZ3pwUJSoOdO"
      },
      "outputs": [],
      "source": [
        "#captureで画面に表示、bashでbashコマンドを有効に（このセル内のみ）\n",
        "%%capture\n",
        "%%bash\n",
        "# clone repo\n",
        "git clone https://github.com/autonomousvision/projected_gan\n",
        "pip install timm dill"
      ]
    },
    {
      "cell_type": "code",
      "execution_count": 6,
      "metadata": {
        "id": "i4N21o-gzMjB",
        "outputId": "7c11e242-6c5b-49ed-e7b7-d103667e0a2a",
        "colab": {
          "base_uri": "https://localhost:8080/"
        }
      },
      "outputs": [
        {
          "output_type": "stream",
          "name": "stdout",
          "text": [
            "/content/projected_gan\n"
          ]
        }
      ],
      "source": [
        "%cd projected_gan"
      ]
    },
    {
      "cell_type": "markdown",
      "metadata": {
        "id": "G0hD7dKQR00t"
      },
      "source": [
        "## Data Preparation\n",
        "データの準備。大きなファイルをdriveから持ってくるからgdownを使う\n",
        "We need to download and prepare the data. In this example, we use the few-shot datasets of the [FastGAN repo](https://github.com/odegeasslbc/FastGAN-pytorch)."
      ]
    },
    {
      "cell_type": "code",
      "execution_count": 7,
      "metadata": {
        "id": "1mz2_Eynze8K",
        "outputId": "821ce96c-8287-416e-f072-0ef21210db63",
        "colab": {
          "base_uri": "https://localhost:8080/"
        }
      },
      "outputs": [
        {
          "output_type": "stream",
          "name": "stdout",
          "text": [
            "Downloading...\n",
            "From: https://drive.google.com/u/0/uc?id=1aAJCZbXNHyraJ6Mi13dSbe7pTyfPXha0\n",
            "To: /content/projected_gan/few-shot-image-datasets.zip\n",
            "100% 913M/913M [00:03<00:00, 229MB/s]\n"
          ]
        }
      ],
      "source": [
        "#gdownでdriveから大きなファイルをダウンロード\n",
        "!gdown https://drive.google.com/u/0/uc?id=1aAJCZbXNHyraJ6Mi13dSbe7pTyfPXha0&export=download"
      ]
    },
    {
      "cell_type": "code",
      "execution_count": 8,
      "metadata": {
        "id": "S6NTT3zVzesu"
      },
      "outputs": [],
      "source": [
        "#captureで画面に表示\n",
        "%%capture\n",
        "!unzip few-shot-image-datasets.zip\n",
        "!mv few-shot-images data"
      ]
    },
    {
      "cell_type": "code",
      "execution_count": 9,
      "metadata": {
        "id": "_TnMmxJrPFZs",
        "outputId": "68a89a47-737f-44c9-baae-21269da744a4",
        "colab": {
          "base_uri": "https://localhost:8080/"
        }
      },
      "outputs": [
        {
          "output_type": "stream",
          "name": "stderr",
          "text": [
            "\r  0%|          | 0/1000 [00:00<?, ?it/s]\r  1%|          | 6/1000 [00:00<00:18, 53.81it/s]\r  1%|          | 12/1000 [00:00<00:17, 55.79it/s]\r  2%|▏         | 18/1000 [00:00<00:17, 56.50it/s]\r  2%|▏         | 24/1000 [00:00<00:17, 56.76it/s]\r  3%|▎         | 30/1000 [00:00<00:16, 57.60it/s]\r  4%|▎         | 36/1000 [00:00<00:16, 57.94it/s]\r  4%|▍         | 42/1000 [00:00<00:16, 57.28it/s]\r  5%|▍         | 48/1000 [00:00<00:16, 57.31it/s]\r  5%|▌         | 54/1000 [00:00<00:16, 57.32it/s]\r  6%|▌         | 60/1000 [00:01<00:16, 56.39it/s]\r  7%|▋         | 66/1000 [00:01<00:16, 56.94it/s]\r  7%|▋         | 72/1000 [00:01<00:16, 55.98it/s]\r  8%|▊         | 78/1000 [00:01<00:16, 55.77it/s]\r  8%|▊         | 84/1000 [00:01<00:16, 56.00it/s]\r  9%|▉         | 90/1000 [00:01<00:16, 56.48it/s]\r 10%|▉         | 96/1000 [00:01<00:15, 57.44it/s]\r 10%|█         | 102/1000 [00:01<00:15, 58.03it/s]\r 11%|█         | 108/1000 [00:01<00:15, 58.21it/s]\r 11%|█▏        | 114/1000 [00:01<00:15, 57.75it/s]\r 12%|█▏        | 120/1000 [00:02<00:15, 58.18it/s]\r 13%|█▎        | 126/1000 [00:02<00:14, 58.58it/s]\r 13%|█▎        | 132/1000 [00:02<00:14, 58.31it/s]\r 14%|█▍        | 138/1000 [00:02<00:14, 58.48it/s]\r 14%|█▍        | 144/1000 [00:02<00:14, 58.64it/s]\r 15%|█▌        | 150/1000 [00:02<00:14, 58.52it/s]\r 16%|█▌        | 156/1000 [00:02<00:14, 58.60it/s]\r 16%|█▌        | 162/1000 [00:02<00:14, 58.20it/s]\r 17%|█▋        | 168/1000 [00:02<00:14, 57.00it/s]\r 17%|█▋        | 174/1000 [00:03<00:14, 56.70it/s]\r 18%|█▊        | 180/1000 [00:03<00:14, 57.42it/s]\r 19%|█▊        | 187/1000 [00:03<00:14, 58.04it/s]\r 19%|█▉        | 193/1000 [00:03<00:13, 58.46it/s]\r 20%|█▉        | 199/1000 [00:03<00:13, 58.68it/s]\r 20%|██        | 205/1000 [00:03<00:13, 58.83it/s]\r 21%|██        | 212/1000 [00:03<00:13, 59.43it/s]\r 22%|██▏       | 219/1000 [00:03<00:13, 59.61it/s]\r 22%|██▎       | 225/1000 [00:03<00:13, 59.03it/s]\r 23%|██▎       | 231/1000 [00:04<00:13, 56.71it/s]\r 24%|██▎       | 237/1000 [00:04<00:15, 50.34it/s]\r 24%|██▍       | 243/1000 [00:04<00:16, 46.55it/s]\r 25%|██▍       | 248/1000 [00:04<00:16, 44.53it/s]\r 25%|██▌       | 253/1000 [00:04<00:17, 43.11it/s]\r 26%|██▌       | 258/1000 [00:04<00:19, 37.30it/s]\r 26%|██▋       | 263/1000 [00:04<00:18, 39.38it/s]\r 27%|██▋       | 269/1000 [00:04<00:16, 44.16it/s]\r 28%|██▊       | 275/1000 [00:05<00:15, 47.79it/s]\r 28%|██▊       | 281/1000 [00:05<00:14, 50.84it/s]\r 29%|██▊       | 287/1000 [00:05<00:13, 52.97it/s]\r 29%|██▉       | 293/1000 [00:05<00:12, 54.82it/s]\r 30%|██▉       | 299/1000 [00:05<00:12, 55.42it/s]\r 30%|███       | 305/1000 [00:05<00:12, 56.38it/s]\r 31%|███       | 311/1000 [00:05<00:12, 57.35it/s]\r 32%|███▏      | 317/1000 [00:05<00:11, 57.75it/s]\r 32%|███▏      | 323/1000 [00:05<00:11, 57.92it/s]\r 33%|███▎      | 329/1000 [00:05<00:11, 57.95it/s]\r 34%|███▎      | 335/1000 [00:06<00:11, 57.31it/s]\r 34%|███▍      | 341/1000 [00:06<00:11, 57.88it/s]\r 35%|███▍      | 348/1000 [00:06<00:11, 58.50it/s]\r 35%|███▌      | 354/1000 [00:06<00:11, 58.69it/s]\r 36%|███▌      | 360/1000 [00:06<00:11, 57.86it/s]\r 37%|███▋      | 366/1000 [00:06<00:10, 57.87it/s]\r 37%|███▋      | 372/1000 [00:06<00:10, 58.46it/s]\r 38%|███▊      | 379/1000 [00:06<00:10, 58.94it/s]\r 38%|███▊      | 385/1000 [00:06<00:10, 58.94it/s]\r 39%|███▉      | 392/1000 [00:07<00:10, 58.91it/s]\r 40%|███▉      | 398/1000 [00:07<00:10, 58.62it/s]\r 40%|████      | 404/1000 [00:07<00:10, 59.01it/s]\r 41%|████      | 410/1000 [00:07<00:09, 59.10it/s]\r 42%|████▏     | 416/1000 [00:07<00:09, 59.24it/s]\r 42%|████▏     | 422/1000 [00:07<00:09, 59.07it/s]\r 43%|████▎     | 428/1000 [00:07<00:09, 58.80it/s]\r 43%|████▎     | 434/1000 [00:07<00:09, 59.12it/s]\r 44%|████▍     | 440/1000 [00:07<00:09, 58.81it/s]\r 45%|████▍     | 446/1000 [00:07<00:09, 58.53it/s]\r 45%|████▌     | 452/1000 [00:08<00:09, 57.51it/s]\r 46%|████▌     | 458/1000 [00:08<00:09, 58.11it/s]\r 46%|████▋     | 464/1000 [00:08<00:09, 58.44it/s]\r 47%|████▋     | 470/1000 [00:08<00:09, 58.83it/s]\r 48%|████▊     | 476/1000 [00:08<00:08, 58.89it/s]\r 48%|████▊     | 482/1000 [00:08<00:08, 58.43it/s]\r 49%|████▉     | 488/1000 [00:08<00:08, 58.73it/s]\r 50%|████▉     | 495/1000 [00:08<00:08, 59.50it/s]\r 50%|█████     | 501/1000 [00:08<00:08, 59.43it/s]\r 51%|█████     | 507/1000 [00:09<00:08, 59.41it/s]\r 51%|█████▏    | 513/1000 [00:09<00:08, 58.65it/s]\r 52%|█████▏    | 519/1000 [00:09<00:08, 58.93it/s]\r 52%|█████▎    | 525/1000 [00:09<00:08, 59.09it/s]\r 53%|█████▎    | 531/1000 [00:09<00:07, 59.17it/s]\r 54%|█████▎    | 537/1000 [00:09<00:07, 58.68it/s]\r 54%|█████▍    | 543/1000 [00:09<00:07, 58.26it/s]\r 55%|█████▍    | 549/1000 [00:09<00:08, 54.12it/s]\r 56%|█████▌    | 555/1000 [00:09<00:08, 53.95it/s]\r 56%|█████▌    | 561/1000 [00:09<00:08, 54.84it/s]\r 57%|█████▋    | 567/1000 [00:10<00:07, 56.12it/s]\r 57%|█████▋    | 573/1000 [00:10<00:07, 56.27it/s]\r 58%|█████▊    | 579/1000 [00:10<00:07, 57.13it/s]\r 58%|█████▊    | 585/1000 [00:10<00:07, 57.54it/s]\r 59%|█████▉    | 591/1000 [00:10<00:07, 57.44it/s]\r 60%|█████▉    | 597/1000 [00:10<00:07, 57.51it/s]\r 60%|██████    | 604/1000 [00:10<00:06, 58.83it/s]\r 61%|██████    | 611/1000 [00:10<00:06, 59.22it/s]\r 62%|██████▏   | 617/1000 [00:10<00:06, 58.44it/s]\r 62%|██████▏   | 623/1000 [00:11<00:06, 58.49it/s]\r 63%|██████▎   | 629/1000 [00:11<00:06, 57.96it/s]\r 64%|██████▎   | 635/1000 [00:11<00:06, 58.15it/s]\r 64%|██████▍   | 641/1000 [00:11<00:06, 57.50it/s]\r 65%|██████▍   | 647/1000 [00:11<00:06, 57.15it/s]\r 65%|██████▌   | 653/1000 [00:11<00:06, 56.89it/s]\r 66%|██████▌   | 659/1000 [00:11<00:05, 56.95it/s]\r 66%|██████▋   | 665/1000 [00:11<00:05, 57.21it/s]\r 67%|██████▋   | 671/1000 [00:11<00:05, 57.43it/s]\r 68%|██████▊   | 677/1000 [00:11<00:05, 57.45it/s]\r 68%|██████▊   | 683/1000 [00:12<00:05, 57.93it/s]\r 69%|██████▉   | 689/1000 [00:12<00:05, 57.48it/s]\r 70%|██████▉   | 696/1000 [00:12<00:05, 58.40it/s]\r 70%|███████   | 702/1000 [00:12<00:05, 58.78it/s]\r 71%|███████   | 708/1000 [00:12<00:05, 58.00it/s]\r 71%|███████▏  | 714/1000 [00:12<00:04, 58.53it/s]\r 72%|███████▏  | 720/1000 [00:12<00:04, 58.72it/s]\r 73%|███████▎  | 727/1000 [00:12<00:04, 59.15it/s]\r 73%|███████▎  | 733/1000 [00:12<00:04, 58.94it/s]\r 74%|███████▍  | 739/1000 [00:13<00:04, 58.78it/s]\r 74%|███████▍  | 745/1000 [00:13<00:04, 58.91it/s]\r 75%|███████▌  | 751/1000 [00:13<00:04, 58.35it/s]\r 76%|███████▌  | 758/1000 [00:13<00:04, 59.04it/s]\r 76%|███████▋  | 764/1000 [00:13<00:03, 59.31it/s]\r 77%|███████▋  | 770/1000 [00:13<00:03, 58.94it/s]\r 78%|███████▊  | 776/1000 [00:13<00:03, 58.96it/s]\r 78%|███████▊  | 782/1000 [00:13<00:03, 59.03it/s]\r 79%|███████▉  | 788/1000 [00:13<00:03, 58.95it/s]\r 79%|███████▉  | 794/1000 [00:13<00:03, 58.95it/s]\r 80%|████████  | 800/1000 [00:14<00:03, 58.41it/s]\r 81%|████████  | 806/1000 [00:14<00:03, 57.98it/s]\r 81%|████████  | 812/1000 [00:14<00:03, 56.86it/s]\r 82%|████████▏ | 818/1000 [00:14<00:03, 57.54it/s]\r 82%|████████▎ | 825/1000 [00:14<00:02, 58.44it/s]\r 83%|████████▎ | 831/1000 [00:14<00:02, 58.45it/s]\r 84%|████████▎ | 837/1000 [00:14<00:02, 58.08it/s]\r 84%|████████▍ | 843/1000 [00:14<00:02, 56.30it/s]\r 85%|████████▍ | 849/1000 [00:14<00:02, 54.85it/s]\r 86%|████████▌ | 855/1000 [00:15<00:02, 56.16it/s]\r 86%|████████▌ | 861/1000 [00:15<00:02, 57.12it/s]\r 87%|████████▋ | 867/1000 [00:15<00:02, 56.32it/s]\r 87%|████████▋ | 873/1000 [00:15<00:02, 57.00it/s]\r 88%|████████▊ | 879/1000 [00:15<00:02, 57.06it/s]\r 88%|████████▊ | 885/1000 [00:15<00:02, 57.40it/s]\r 89%|████████▉ | 891/1000 [00:15<00:01, 57.70it/s]\r 90%|████████▉ | 898/1000 [00:15<00:01, 58.57it/s]\r 90%|█████████ | 904/1000 [00:15<00:01, 58.93it/s]\r 91%|█████████ | 910/1000 [00:15<00:01, 58.82it/s]\r 92%|█████████▏| 916/1000 [00:16<00:01, 58.51it/s]\r 92%|█████████▏| 922/1000 [00:16<00:01, 58.67it/s]\r 93%|█████████▎| 928/1000 [00:16<00:01, 57.57it/s]\r 94%|█████████▎| 935/1000 [00:16<00:01, 58.50it/s]\r 94%|█████████▍| 941/1000 [00:16<00:01, 57.82it/s]\r 95%|█████████▍| 947/1000 [00:16<00:00, 58.01it/s]\r 95%|█████████▌| 953/1000 [00:16<00:00, 58.48it/s]\r 96%|█████████▌| 959/1000 [00:16<00:00, 58.51it/s]\r 96%|█████████▋| 965/1000 [00:16<00:00, 58.56it/s]\r 97%|█████████▋| 971/1000 [00:17<00:00, 58.28it/s]\r 98%|█████████▊| 977/1000 [00:17<00:00, 57.09it/s]\r 98%|█████████▊| 983/1000 [00:17<00:00, 56.21it/s]\r 99%|█████████▉| 989/1000 [00:17<00:00, 56.77it/s]\r100%|█████████▉| 995/1000 [00:17<00:00, 57.50it/s]\r100%|██████████| 1000/1000 [00:17<00:00, 56.99it/s]\n"
          ]
        }
      ],
      "source": [
        "#bashでbashコマンドを有効に（このセル内のみ）\n",
        "%%bash\n",
        "python dataset_tool.py --source=./data/art-painting --dest=./data/art_painting256.zip --resolution=256x256"
      ]
    },
    {
      "cell_type": "markdown",
      "metadata": {
        "id": "OcS63jN9RMdy"
      },
      "source": [
        "## Training\n",
        "\n",
        "Now that the data is prepared, we can start training!  The training loop tracks FID, but the computations seems to lead to problems in colab. Hence, it is disable by default (```metrics=[]```). The loop also generates fixed noise samples after a defined amount of ticks, eg. below ```--snap=1```.\n",
        "\n",
        "日本語訳\n",
        "\n",
        "データの準備ができたので、トレーニングを開始します 学習ループはFIDを追跡しますが、その計算がcolabで問題になるようです。そのため、デフォルトでは無効になっています(metrics=[])。また、このループは、定義されたtick数の後に、固定ノイズサンプルを生成します。\n"
      ]
    },
    {
      "cell_type": "code",
      "execution_count": 10,
      "metadata": {
        "id": "Yrjw0aes9YV_"
      },
      "outputs": [],
      "source": [
        "import os\n",
        "import json\n",
        "import re\n",
        "import dnnlib\n",
        "\n",
        "from training import training_loop\n",
        "from torch_utils import training_stats\n",
        "from train import init_dataset_kwargs\n",
        "from metrics import metric_main"
      ]
    },
    {
      "cell_type": "code",
      "execution_count": 11,
      "metadata": {
        "id": "Q-VAjxpv9s3T"
      },
      "outputs": [],
      "source": [
        "def launch_training(c, desc, outdir, rank=0):\n",
        "    # Pick output directory.(出力用ディレクトリの選択)\n",
        "    prev_run_dirs = []\n",
        "    if os.path.isdir(outdir):\n",
        "        prev_run_dirs = [x for x in os.listdir(outdir) if os.path.isdir(os.path.join(outdir, x))]\n",
        "\n",
        "    matching_dirs = [re.fullmatch(r'\\d{5}' + f'-{desc}', x) for x in prev_run_dirs if re.fullmatch(r'\\d{5}' + f'-{desc}', x) is not None]\n",
        "    if c.restart_every > 0 and len(matching_dirs) > 0:  # expect unique desc, continue in this directory\n",
        "        assert len(matching_dirs) == 1, f'Multiple directories found for resuming: {matching_dirs}'\n",
        "        c.run_dir = os.path.join(outdir, matching_dirs[0].group())\n",
        "    else:                     # fallback to standard\n",
        "        prev_run_ids = [re.match(r'^\\d+', x) for x in prev_run_dirs]\n",
        "        prev_run_ids = [int(x.group()) for x in prev_run_ids if x is not None]\n",
        "        cur_run_id = max(prev_run_ids, default=-1) + 1\n",
        "        c.run_dir = os.path.join(outdir, f'{cur_run_id:05d}-{desc}')\n",
        "        assert not os.path.exists(c.run_dir)\n",
        "\n",
        "\n",
        "    # Print options.\n",
        "    print()\n",
        "    print('Training options:')\n",
        "    print(json.dumps(c, indent=2))\n",
        "    print()\n",
        "    print(f'Output directory:    {c.run_dir}')\n",
        "    print(f'Number of GPUs:      {c.num_gpus}')\n",
        "    print(f'Batch size:          {c.batch_size} images')\n",
        "    print(f'Training duration:   {c.total_kimg} kimg')\n",
        "    print(f'Dataset path:        {c.training_set_kwargs.path}')\n",
        "    print(f'Dataset size:        {c.training_set_kwargs.max_size} images')\n",
        "    print(f'Dataset resolution:  {c.training_set_kwargs.resolution}')\n",
        "    print(f'Dataset labels:      {c.training_set_kwargs.use_labels}')\n",
        "    print(f'Dataset x-flips:     {c.training_set_kwargs.xflip}')\n",
        "    print()\n",
        "\n",
        "    # Create output directory.(出力用ディレクトリの作成)\n",
        "    print('Creating output directory...')\n",
        "    os.makedirs(c.run_dir, exist_ok=c.restart_every > 0)\n",
        "    with open(os.path.join(c.run_dir, 'training_options.json'), 'wt+') as f:\n",
        "        json.dump(c, f, indent=2)\n",
        "\n",
        "    # Start training\n",
        "    dnnlib.util.Logger(file_name=os.path.join(c.run_dir, 'log.txt'), file_mode='a', should_flush=False)\n",
        "    sync_device = torch.device('cuda', rank) if c.num_gpus > 1 else None\n",
        "    training_stats.init_multiprocessing(rank=rank, sync_device=sync_device)\n",
        "    training_loop.training_loop(rank=rank, **c)"
      ]
    },
    {
      "cell_type": "code",
      "execution_count": 12,
      "metadata": {
        "id": "yqqzoKQk9tRt"
      },
      "outputs": [],
      "source": [
        "def train(**kwargs):#kwargs=可変引数キーワード引数を辞書として受け取る\n",
        "    # Initialize config.(configの初期化)\n",
        "    opts = dnnlib.EasyDict(kwargs) # Command line arguments.\n",
        "    c = dnnlib.EasyDict() # Main config dict.\n",
        "    c.G_kwargs = dnnlib.EasyDict(class_name=None, z_dim=64, w_dim=128, mapping_kwargs=dnnlib.EasyDict())\n",
        "    c.G_opt_kwargs = dnnlib.EasyDict(class_name='torch.optim.Adam', betas=[0,0.99], eps=1e-8)\n",
        "    c.D_opt_kwargs = dnnlib.EasyDict(class_name='torch.optim.Adam', betas=[0,0.99], eps=1e-8)\n",
        "    c.data_loader_kwargs = dnnlib.EasyDict(pin_memory=True, prefetch_factor=2)\n",
        "\n",
        "    # Training set.(訓練データの生成)\n",
        "    c.training_set_kwargs, dataset_name = init_dataset_kwargs(data=opts.data)\n",
        "    if opts.cond and not c.training_set_kwargs.use_labels:\n",
        "        raise ValueError('--cond=True requires labels specified in dataset.json')\n",
        "    c.training_set_kwargs.use_labels = opts.cond\n",
        "    c.training_set_kwargs.xflip = opts.mirror\n",
        "\n",
        "    # Hyperparameters & settings.(ハイパーパラメータの設定)\n",
        "    c.num_gpus = opts.gpus\n",
        "    c.batch_size = opts.batch\n",
        "    c.batch_gpu = opts.batch_gpu or opts.batch // opts.gpus\n",
        "    c.G_kwargs.channel_base = opts.cbase\n",
        "    c.G_kwargs.channel_max = opts.cmax\n",
        "    c.G_kwargs.mapping_kwargs.num_layers = 2\n",
        "    c.G_opt_kwargs.lr = (0.002 if opts.cfg == 'stylegan2' else 0.0025) if opts.glr is None else opts.glr\n",
        "    c.D_opt_kwargs.lr = opts.dlr\n",
        "    c.metrics = opts.metrics\n",
        "    c.total_kimg = opts.kimg\n",
        "    c.kimg_per_tick = opts.tick\n",
        "    c.image_snapshot_ticks = c.network_snapshot_ticks = opts.snap\n",
        "    c.random_seed = c.training_set_kwargs.random_seed = opts.seed\n",
        "    c.data_loader_kwargs.num_workers = opts.workers\n",
        "\n",
        "    # Sanity checks.(バグ確認)\n",
        "    if c.batch_size % c.num_gpus != 0:\n",
        "        raise ValueError('--batch must be a multiple of --gpus')\n",
        "    if c.batch_size % (c.num_gpus * c.batch_gpu) != 0:\n",
        "        raise ValueError('--batch must be a multiple of --gpus times --batch-gpu')\n",
        "    if any(not metric_main.is_valid_metric(metric) for metric in c.metrics):\n",
        "        raise ValueError('\\n'.join(['--metrics can only contain the following values:'] + metric_main.list_valid_metrics()))\n",
        "\n",
        "    # Base configuration.(基本構成定義？)(cfgでganの種類を定義(stylegan2 or fastgan))\n",
        "    c.ema_kimg = c.batch_size * 10 / 32\n",
        "    if opts.cfg == 'stylegan2':\n",
        "        c.G_kwargs.class_name = 'pg_modules.networks_stylegan2.Generator'\n",
        "        c.G_kwargs.fused_modconv_default = 'inference_only' # Speed up training by using regular convolutions instead of grouped convolutions.\n",
        "        use_separable_discs = True\n",
        "\n",
        "    elif opts.cfg == 'fastgan':\n",
        "        c.G_kwargs = dnnlib.EasyDict(class_name='pg_modules.networks_fastgan.Generator', cond=opts.cond)\n",
        "        c.G_opt_kwargs.lr = c.D_opt_kwargs.lr = 0.0002\n",
        "        use_separable_discs = False\n",
        "\n",
        "    # Restart.(やり直し)\n",
        "    c.restart_every = opts.restart_every\n",
        "\n",
        "    # Description string.(説明)\n",
        "    desc = f'{opts.cfg:s}-{dataset_name:s}-gpus{c.num_gpus:d}-batch{c.batch_size:d}'\n",
        "    if opts.desc is not None:\n",
        "        desc += f'-{opts.desc}'\n",
        "\n",
        "    # Projected and Multi-Scale Discriminators\n",
        "    c.loss_kwargs = dnnlib.EasyDict(class_name='training.loss.ProjectedGANLoss')\n",
        "    c.D_kwargs = dnnlib.EasyDict(\n",
        "        class_name='pg_modules.discriminator.ProjectedDiscriminator',\n",
        "        diffaug=True,\n",
        "        interp224=(c.training_set_kwargs.resolution < 224),\n",
        "        backbone_kwargs=dnnlib.EasyDict(),\n",
        "    )\n",
        "\n",
        "    c.D_kwargs.backbone_kwargs.cout = 64\n",
        "    c.D_kwargs.backbone_kwargs.expand = True\n",
        "    c.D_kwargs.backbone_kwargs.proj_type = 2\n",
        "    c.D_kwargs.backbone_kwargs.num_discs = 4\n",
        "    c.D_kwargs.backbone_kwargs.separable = use_separable_discs\n",
        "    c.D_kwargs.backbone_kwargs.cond = opts.cond\n",
        "\n",
        "    # Launch.\n",
        "    launch_training(c=c, desc=desc, outdir=opts.outdir)"
      ]
    },
    {
      "cell_type": "code",
      "execution_count": 14,
      "metadata": {
        "id": "uKHfWFKe9tWB",
        "outputId": "0667f2a2-40f6-41c9-9add-5b2d0b1ca26a",
        "colab": {
          "base_uri": "https://localhost:8080/",
          "height": 377
        }
      },
      "outputs": [
        {
          "output_type": "error",
          "ename": "KeyboardInterrupt",
          "evalue": "ignored",
          "traceback": [
            "\u001b[0;31m---------------------------------------------------------------------------\u001b[0m",
            "\u001b[0;31mKeyboardInterrupt\u001b[0m                         Traceback (most recent call last)",
            "\u001b[0;32m<ipython-input-14-6a9550e77860>\u001b[0m in \u001b[0;36m<module>\u001b[0;34m()\u001b[0m\n\u001b[1;32m     22\u001b[0m     \u001b[0mseed\u001b[0m\u001b[0;34m=\u001b[0m\u001b[0;36m0\u001b[0m\u001b[0;34m,\u001b[0m\u001b[0;34m\u001b[0m\u001b[0;34m\u001b[0m\u001b[0m\n\u001b[1;32m     23\u001b[0m     \u001b[0mworkers\u001b[0m\u001b[0;34m=\u001b[0m\u001b[0;36m0\u001b[0m\u001b[0;34m,\u001b[0m\u001b[0;34m\u001b[0m\u001b[0;34m\u001b[0m\u001b[0m\n\u001b[0;32m---> 24\u001b[0;31m     \u001b[0mrestart_every\u001b[0m\u001b[0;34m=\u001b[0m\u001b[0;36m999999\u001b[0m\u001b[0;34m,\u001b[0m\u001b[0;34m\u001b[0m\u001b[0;34m\u001b[0m\u001b[0m\n\u001b[0m\u001b[1;32m     25\u001b[0m )\n",
            "\u001b[0;32m<ipython-input-12-1817d67a9e4a>\u001b[0m in \u001b[0;36mtrain\u001b[0;34m(**kwargs)\u001b[0m\n\u001b[1;32m     76\u001b[0m \u001b[0;34m\u001b[0m\u001b[0m\n\u001b[1;32m     77\u001b[0m     \u001b[0;31m# Launch.\u001b[0m\u001b[0;34m\u001b[0m\u001b[0;34m\u001b[0m\u001b[0;34m\u001b[0m\u001b[0m\n\u001b[0;32m---> 78\u001b[0;31m     \u001b[0mlaunch_training\u001b[0m\u001b[0;34m(\u001b[0m\u001b[0mc\u001b[0m\u001b[0;34m=\u001b[0m\u001b[0mc\u001b[0m\u001b[0;34m,\u001b[0m \u001b[0mdesc\u001b[0m\u001b[0;34m=\u001b[0m\u001b[0mdesc\u001b[0m\u001b[0;34m,\u001b[0m \u001b[0moutdir\u001b[0m\u001b[0;34m=\u001b[0m\u001b[0mopts\u001b[0m\u001b[0;34m.\u001b[0m\u001b[0moutdir\u001b[0m\u001b[0;34m)\u001b[0m\u001b[0;34m\u001b[0m\u001b[0;34m\u001b[0m\u001b[0m\n\u001b[0m",
            "\u001b[0;32m<ipython-input-11-5e752ff2afa4>\u001b[0m in \u001b[0;36mlaunch_training\u001b[0;34m(c, desc, outdir, rank)\u001b[0m\n\u001b[1;32m     43\u001b[0m     \u001b[0msync_device\u001b[0m \u001b[0;34m=\u001b[0m \u001b[0mtorch\u001b[0m\u001b[0;34m.\u001b[0m\u001b[0mdevice\u001b[0m\u001b[0;34m(\u001b[0m\u001b[0;34m'cuda'\u001b[0m\u001b[0;34m,\u001b[0m \u001b[0mrank\u001b[0m\u001b[0;34m)\u001b[0m \u001b[0;32mif\u001b[0m \u001b[0mc\u001b[0m\u001b[0;34m.\u001b[0m\u001b[0mnum_gpus\u001b[0m \u001b[0;34m>\u001b[0m \u001b[0;36m1\u001b[0m \u001b[0;32melse\u001b[0m \u001b[0;32mNone\u001b[0m\u001b[0;34m\u001b[0m\u001b[0;34m\u001b[0m\u001b[0m\n\u001b[1;32m     44\u001b[0m     \u001b[0mtraining_stats\u001b[0m\u001b[0;34m.\u001b[0m\u001b[0minit_multiprocessing\u001b[0m\u001b[0;34m(\u001b[0m\u001b[0mrank\u001b[0m\u001b[0;34m=\u001b[0m\u001b[0mrank\u001b[0m\u001b[0;34m,\u001b[0m \u001b[0msync_device\u001b[0m\u001b[0;34m=\u001b[0m\u001b[0msync_device\u001b[0m\u001b[0;34m)\u001b[0m\u001b[0;34m\u001b[0m\u001b[0;34m\u001b[0m\u001b[0m\n\u001b[0;32m---> 45\u001b[0;31m     \u001b[0mtraining_loop\u001b[0m\u001b[0;34m.\u001b[0m\u001b[0mtraining_loop\u001b[0m\u001b[0;34m(\u001b[0m\u001b[0mrank\u001b[0m\u001b[0;34m=\u001b[0m\u001b[0mrank\u001b[0m\u001b[0;34m,\u001b[0m \u001b[0;34m**\u001b[0m\u001b[0mc\u001b[0m\u001b[0;34m)\u001b[0m\u001b[0;34m\u001b[0m\u001b[0;34m\u001b[0m\u001b[0m\n\u001b[0m",
            "\u001b[0;32m/content/projected_gan/training/training_loop.py\u001b[0m in \u001b[0;36mtraining_loop\u001b[0;34m(run_dir, training_set_kwargs, data_loader_kwargs, G_kwargs, D_kwargs, G_opt_kwargs, D_opt_kwargs, loss_kwargs, metrics, random_seed, num_gpus, rank, batch_size, batch_gpu, ema_kimg, ema_rampup, G_reg_interval, D_reg_interval, total_kimg, kimg_per_tick, image_snapshot_ticks, network_snapshot_ticks, resume_pkl, resume_kimg, cudnn_benchmark, abort_fn, progress_fn, restart_every)\u001b[0m\n\u001b[1;32m    300\u001b[0m \u001b[0;34m\u001b[0m\u001b[0m\n\u001b[1;32m    301\u001b[0m             \u001b[0;32mfor\u001b[0m \u001b[0mreal_img\u001b[0m\u001b[0;34m,\u001b[0m \u001b[0mreal_c\u001b[0m\u001b[0;34m,\u001b[0m \u001b[0mgen_z\u001b[0m\u001b[0;34m,\u001b[0m \u001b[0mgen_c\u001b[0m \u001b[0;32min\u001b[0m \u001b[0mzip\u001b[0m\u001b[0;34m(\u001b[0m\u001b[0mphase_real_img\u001b[0m\u001b[0;34m,\u001b[0m \u001b[0mphase_real_c\u001b[0m\u001b[0;34m,\u001b[0m \u001b[0mphase_gen_z\u001b[0m\u001b[0;34m,\u001b[0m \u001b[0mphase_gen_c\u001b[0m\u001b[0;34m)\u001b[0m\u001b[0;34m:\u001b[0m\u001b[0;34m\u001b[0m\u001b[0;34m\u001b[0m\u001b[0m\n\u001b[0;32m--> 302\u001b[0;31m                 \u001b[0mloss\u001b[0m\u001b[0;34m.\u001b[0m\u001b[0maccumulate_gradients\u001b[0m\u001b[0;34m(\u001b[0m\u001b[0mphase\u001b[0m\u001b[0;34m=\u001b[0m\u001b[0mphase\u001b[0m\u001b[0;34m.\u001b[0m\u001b[0mname\u001b[0m\u001b[0;34m,\u001b[0m \u001b[0mreal_img\u001b[0m\u001b[0;34m=\u001b[0m\u001b[0mreal_img\u001b[0m\u001b[0;34m,\u001b[0m \u001b[0mreal_c\u001b[0m\u001b[0;34m=\u001b[0m\u001b[0mreal_c\u001b[0m\u001b[0;34m,\u001b[0m \u001b[0mgen_z\u001b[0m\u001b[0;34m=\u001b[0m\u001b[0mgen_z\u001b[0m\u001b[0;34m,\u001b[0m \u001b[0mgen_c\u001b[0m\u001b[0;34m=\u001b[0m\u001b[0mgen_c\u001b[0m\u001b[0;34m,\u001b[0m \u001b[0mgain\u001b[0m\u001b[0;34m=\u001b[0m\u001b[0mphase\u001b[0m\u001b[0;34m.\u001b[0m\u001b[0minterval\u001b[0m\u001b[0;34m,\u001b[0m \u001b[0mcur_nimg\u001b[0m\u001b[0;34m=\u001b[0m\u001b[0mcur_nimg\u001b[0m\u001b[0;34m)\u001b[0m\u001b[0;34m\u001b[0m\u001b[0;34m\u001b[0m\u001b[0m\n\u001b[0m\u001b[1;32m    303\u001b[0m             \u001b[0mphase\u001b[0m\u001b[0;34m.\u001b[0m\u001b[0mmodule\u001b[0m\u001b[0;34m.\u001b[0m\u001b[0mrequires_grad_\u001b[0m\u001b[0;34m(\u001b[0m\u001b[0;32mFalse\u001b[0m\u001b[0;34m)\u001b[0m\u001b[0;34m\u001b[0m\u001b[0;34m\u001b[0m\u001b[0m\n\u001b[1;32m    304\u001b[0m \u001b[0;34m\u001b[0m\u001b[0m\n",
            "\u001b[0;32m/content/projected_gan/training/loss.py\u001b[0m in \u001b[0;36maccumulate_gradients\u001b[0;34m(self, phase, real_img, real_c, gen_z, gen_c, gain, cur_nimg)\u001b[0m\n\u001b[1;32m     60\u001b[0m             \u001b[0;32mwith\u001b[0m \u001b[0mtorch\u001b[0m\u001b[0;34m.\u001b[0m\u001b[0mautograd\u001b[0m\u001b[0;34m.\u001b[0m\u001b[0mprofiler\u001b[0m\u001b[0;34m.\u001b[0m\u001b[0mrecord_function\u001b[0m\u001b[0;34m(\u001b[0m\u001b[0;34m'Gmain_forward'\u001b[0m\u001b[0;34m)\u001b[0m\u001b[0;34m:\u001b[0m\u001b[0;34m\u001b[0m\u001b[0;34m\u001b[0m\u001b[0m\n\u001b[1;32m     61\u001b[0m                 \u001b[0mgen_img\u001b[0m \u001b[0;34m=\u001b[0m \u001b[0mself\u001b[0m\u001b[0;34m.\u001b[0m\u001b[0mrun_G\u001b[0m\u001b[0;34m(\u001b[0m\u001b[0mgen_z\u001b[0m\u001b[0;34m,\u001b[0m \u001b[0mgen_c\u001b[0m\u001b[0;34m)\u001b[0m\u001b[0;34m\u001b[0m\u001b[0;34m\u001b[0m\u001b[0m\n\u001b[0;32m---> 62\u001b[0;31m                 \u001b[0mgen_logits\u001b[0m \u001b[0;34m=\u001b[0m \u001b[0mself\u001b[0m\u001b[0;34m.\u001b[0m\u001b[0mrun_D\u001b[0m\u001b[0;34m(\u001b[0m\u001b[0mgen_img\u001b[0m\u001b[0;34m,\u001b[0m \u001b[0mgen_c\u001b[0m\u001b[0;34m,\u001b[0m \u001b[0mblur_sigma\u001b[0m\u001b[0;34m=\u001b[0m\u001b[0mblur_sigma\u001b[0m\u001b[0;34m)\u001b[0m\u001b[0;34m\u001b[0m\u001b[0;34m\u001b[0m\u001b[0m\n\u001b[0m\u001b[1;32m     63\u001b[0m                 \u001b[0mloss_Gmain\u001b[0m \u001b[0;34m=\u001b[0m \u001b[0;34m(\u001b[0m\u001b[0;34m-\u001b[0m\u001b[0mgen_logits\u001b[0m\u001b[0;34m)\u001b[0m\u001b[0;34m.\u001b[0m\u001b[0mmean\u001b[0m\u001b[0;34m(\u001b[0m\u001b[0;34m)\u001b[0m\u001b[0;34m\u001b[0m\u001b[0;34m\u001b[0m\u001b[0m\n\u001b[1;32m     64\u001b[0m \u001b[0;34m\u001b[0m\u001b[0m\n",
            "\u001b[0;32m/content/projected_gan/training/loss.py\u001b[0m in \u001b[0;36mrun_D\u001b[0;34m(self, img, c, blur_sigma, update_emas)\u001b[0m\n\u001b[1;32m     43\u001b[0m                 \u001b[0mimg\u001b[0m \u001b[0;34m=\u001b[0m \u001b[0mupfirdn2d\u001b[0m\u001b[0;34m.\u001b[0m\u001b[0mfilter2d\u001b[0m\u001b[0;34m(\u001b[0m\u001b[0mimg\u001b[0m\u001b[0;34m,\u001b[0m \u001b[0mf\u001b[0m \u001b[0;34m/\u001b[0m \u001b[0mf\u001b[0m\u001b[0;34m.\u001b[0m\u001b[0msum\u001b[0m\u001b[0;34m(\u001b[0m\u001b[0;34m)\u001b[0m\u001b[0;34m)\u001b[0m\u001b[0;34m\u001b[0m\u001b[0;34m\u001b[0m\u001b[0m\n\u001b[1;32m     44\u001b[0m \u001b[0;34m\u001b[0m\u001b[0m\n\u001b[0;32m---> 45\u001b[0;31m         \u001b[0mlogits\u001b[0m \u001b[0;34m=\u001b[0m \u001b[0mself\u001b[0m\u001b[0;34m.\u001b[0m\u001b[0mD\u001b[0m\u001b[0;34m(\u001b[0m\u001b[0mimg\u001b[0m\u001b[0;34m,\u001b[0m \u001b[0mc\u001b[0m\u001b[0;34m)\u001b[0m\u001b[0;34m\u001b[0m\u001b[0;34m\u001b[0m\u001b[0m\n\u001b[0m\u001b[1;32m     46\u001b[0m         \u001b[0;32mreturn\u001b[0m \u001b[0mlogits\u001b[0m\u001b[0;34m\u001b[0m\u001b[0;34m\u001b[0m\u001b[0m\n\u001b[1;32m     47\u001b[0m \u001b[0;34m\u001b[0m\u001b[0m\n",
            "\u001b[0;32m/usr/local/lib/python3.7/dist-packages/torch/nn/modules/module.py\u001b[0m in \u001b[0;36m_call_impl\u001b[0;34m(self, *input, **kwargs)\u001b[0m\n\u001b[1;32m   1108\u001b[0m         if not (self._backward_hooks or self._forward_hooks or self._forward_pre_hooks or _global_backward_hooks\n\u001b[1;32m   1109\u001b[0m                 or _global_forward_hooks or _global_forward_pre_hooks):\n\u001b[0;32m-> 1110\u001b[0;31m             \u001b[0;32mreturn\u001b[0m \u001b[0mforward_call\u001b[0m\u001b[0;34m(\u001b[0m\u001b[0;34m*\u001b[0m\u001b[0minput\u001b[0m\u001b[0;34m,\u001b[0m \u001b[0;34m**\u001b[0m\u001b[0mkwargs\u001b[0m\u001b[0;34m)\u001b[0m\u001b[0;34m\u001b[0m\u001b[0;34m\u001b[0m\u001b[0m\n\u001b[0m\u001b[1;32m   1111\u001b[0m         \u001b[0;31m# Do not call functions when jit is used\u001b[0m\u001b[0;34m\u001b[0m\u001b[0;34m\u001b[0m\u001b[0;34m\u001b[0m\u001b[0m\n\u001b[1;32m   1112\u001b[0m         \u001b[0mfull_backward_hooks\u001b[0m\u001b[0;34m,\u001b[0m \u001b[0mnon_full_backward_hooks\u001b[0m \u001b[0;34m=\u001b[0m \u001b[0;34m[\u001b[0m\u001b[0;34m]\u001b[0m\u001b[0;34m,\u001b[0m \u001b[0;34m[\u001b[0m\u001b[0;34m]\u001b[0m\u001b[0;34m\u001b[0m\u001b[0;34m\u001b[0m\u001b[0m\n",
            "\u001b[0;32m/content/projected_gan/pg_modules/discriminator.py\u001b[0m in \u001b[0;36mforward\u001b[0;34m(self, x, c)\u001b[0m\n\u001b[1;32m    176\u001b[0m     \u001b[0;32mdef\u001b[0m \u001b[0mforward\u001b[0m\u001b[0;34m(\u001b[0m\u001b[0mself\u001b[0m\u001b[0;34m,\u001b[0m \u001b[0mx\u001b[0m\u001b[0;34m,\u001b[0m \u001b[0mc\u001b[0m\u001b[0;34m)\u001b[0m\u001b[0;34m:\u001b[0m\u001b[0;34m\u001b[0m\u001b[0;34m\u001b[0m\u001b[0m\n\u001b[1;32m    177\u001b[0m         \u001b[0;32mif\u001b[0m \u001b[0mself\u001b[0m\u001b[0;34m.\u001b[0m\u001b[0mdiffaug\u001b[0m\u001b[0;34m:\u001b[0m\u001b[0;34m\u001b[0m\u001b[0;34m\u001b[0m\u001b[0m\n\u001b[0;32m--> 178\u001b[0;31m             \u001b[0mx\u001b[0m \u001b[0;34m=\u001b[0m \u001b[0mDiffAugment\u001b[0m\u001b[0;34m(\u001b[0m\u001b[0mx\u001b[0m\u001b[0;34m,\u001b[0m \u001b[0mpolicy\u001b[0m\u001b[0;34m=\u001b[0m\u001b[0;34m'color,translation,cutout'\u001b[0m\u001b[0;34m)\u001b[0m\u001b[0;34m\u001b[0m\u001b[0;34m\u001b[0m\u001b[0m\n\u001b[0m\u001b[1;32m    179\u001b[0m \u001b[0;34m\u001b[0m\u001b[0m\n\u001b[1;32m    180\u001b[0m         \u001b[0;32mif\u001b[0m \u001b[0mself\u001b[0m\u001b[0;34m.\u001b[0m\u001b[0minterp224\u001b[0m\u001b[0;34m:\u001b[0m\u001b[0;34m\u001b[0m\u001b[0;34m\u001b[0m\u001b[0m\n",
            "\u001b[0;32m/content/projected_gan/pg_modules/diffaug.py\u001b[0m in \u001b[0;36mDiffAugment\u001b[0;34m(x, policy, channels_first)\u001b[0m\n\u001b[1;32m     13\u001b[0m         \u001b[0;32mfor\u001b[0m \u001b[0mp\u001b[0m \u001b[0;32min\u001b[0m \u001b[0mpolicy\u001b[0m\u001b[0;34m.\u001b[0m\u001b[0msplit\u001b[0m\u001b[0;34m(\u001b[0m\u001b[0;34m','\u001b[0m\u001b[0;34m)\u001b[0m\u001b[0;34m:\u001b[0m\u001b[0;34m\u001b[0m\u001b[0;34m\u001b[0m\u001b[0m\n\u001b[1;32m     14\u001b[0m             \u001b[0;32mfor\u001b[0m \u001b[0mf\u001b[0m \u001b[0;32min\u001b[0m \u001b[0mAUGMENT_FNS\u001b[0m\u001b[0;34m[\u001b[0m\u001b[0mp\u001b[0m\u001b[0;34m]\u001b[0m\u001b[0;34m:\u001b[0m\u001b[0;34m\u001b[0m\u001b[0;34m\u001b[0m\u001b[0m\n\u001b[0;32m---> 15\u001b[0;31m                 \u001b[0mx\u001b[0m \u001b[0;34m=\u001b[0m \u001b[0mf\u001b[0m\u001b[0;34m(\u001b[0m\u001b[0mx\u001b[0m\u001b[0;34m)\u001b[0m\u001b[0;34m\u001b[0m\u001b[0;34m\u001b[0m\u001b[0m\n\u001b[0m\u001b[1;32m     16\u001b[0m         \u001b[0;32mif\u001b[0m \u001b[0;32mnot\u001b[0m \u001b[0mchannels_first\u001b[0m\u001b[0;34m:\u001b[0m\u001b[0;34m\u001b[0m\u001b[0;34m\u001b[0m\u001b[0m\n\u001b[1;32m     17\u001b[0m             \u001b[0mx\u001b[0m \u001b[0;34m=\u001b[0m \u001b[0mx\u001b[0m\u001b[0;34m.\u001b[0m\u001b[0mpermute\u001b[0m\u001b[0;34m(\u001b[0m\u001b[0;36m0\u001b[0m\u001b[0;34m,\u001b[0m \u001b[0;36m2\u001b[0m\u001b[0;34m,\u001b[0m \u001b[0;36m3\u001b[0m\u001b[0;34m,\u001b[0m \u001b[0;36m1\u001b[0m\u001b[0;34m)\u001b[0m\u001b[0;34m\u001b[0m\u001b[0;34m\u001b[0m\u001b[0m\n",
            "\u001b[0;32m/content/projected_gan/pg_modules/diffaug.py\u001b[0m in \u001b[0;36mrand_cutout\u001b[0;34m(x, ratio)\u001b[0m\n\u001b[1;32m     65\u001b[0m     \u001b[0mgrid_y\u001b[0m \u001b[0;34m=\u001b[0m \u001b[0mtorch\u001b[0m\u001b[0;34m.\u001b[0m\u001b[0mclamp\u001b[0m\u001b[0;34m(\u001b[0m\u001b[0mgrid_y\u001b[0m \u001b[0;34m+\u001b[0m \u001b[0moffset_y\u001b[0m \u001b[0;34m-\u001b[0m \u001b[0mcutout_size\u001b[0m\u001b[0;34m[\u001b[0m\u001b[0;36m1\u001b[0m\u001b[0;34m]\u001b[0m \u001b[0;34m//\u001b[0m \u001b[0;36m2\u001b[0m\u001b[0;34m,\u001b[0m \u001b[0mmin\u001b[0m\u001b[0;34m=\u001b[0m\u001b[0;36m0\u001b[0m\u001b[0;34m,\u001b[0m \u001b[0mmax\u001b[0m\u001b[0;34m=\u001b[0m\u001b[0mx\u001b[0m\u001b[0;34m.\u001b[0m\u001b[0msize\u001b[0m\u001b[0;34m(\u001b[0m\u001b[0;36m3\u001b[0m\u001b[0;34m)\u001b[0m \u001b[0;34m-\u001b[0m \u001b[0;36m1\u001b[0m\u001b[0;34m)\u001b[0m\u001b[0;34m\u001b[0m\u001b[0;34m\u001b[0m\u001b[0m\n\u001b[1;32m     66\u001b[0m     \u001b[0mmask\u001b[0m \u001b[0;34m=\u001b[0m \u001b[0mtorch\u001b[0m\u001b[0;34m.\u001b[0m\u001b[0mones\u001b[0m\u001b[0;34m(\u001b[0m\u001b[0mx\u001b[0m\u001b[0;34m.\u001b[0m\u001b[0msize\u001b[0m\u001b[0;34m(\u001b[0m\u001b[0;36m0\u001b[0m\u001b[0;34m)\u001b[0m\u001b[0;34m,\u001b[0m \u001b[0mx\u001b[0m\u001b[0;34m.\u001b[0m\u001b[0msize\u001b[0m\u001b[0;34m(\u001b[0m\u001b[0;36m2\u001b[0m\u001b[0;34m)\u001b[0m\u001b[0;34m,\u001b[0m \u001b[0mx\u001b[0m\u001b[0;34m.\u001b[0m\u001b[0msize\u001b[0m\u001b[0;34m(\u001b[0m\u001b[0;36m3\u001b[0m\u001b[0;34m)\u001b[0m\u001b[0;34m,\u001b[0m \u001b[0mdtype\u001b[0m\u001b[0;34m=\u001b[0m\u001b[0mx\u001b[0m\u001b[0;34m.\u001b[0m\u001b[0mdtype\u001b[0m\u001b[0;34m,\u001b[0m \u001b[0mdevice\u001b[0m\u001b[0;34m=\u001b[0m\u001b[0mx\u001b[0m\u001b[0;34m.\u001b[0m\u001b[0mdevice\u001b[0m\u001b[0;34m)\u001b[0m\u001b[0;34m\u001b[0m\u001b[0;34m\u001b[0m\u001b[0m\n\u001b[0;32m---> 67\u001b[0;31m     \u001b[0mmask\u001b[0m\u001b[0;34m[\u001b[0m\u001b[0mgrid_batch\u001b[0m\u001b[0;34m,\u001b[0m \u001b[0mgrid_x\u001b[0m\u001b[0;34m,\u001b[0m \u001b[0mgrid_y\u001b[0m\u001b[0;34m]\u001b[0m \u001b[0;34m=\u001b[0m \u001b[0;36m0\u001b[0m\u001b[0;34m\u001b[0m\u001b[0;34m\u001b[0m\u001b[0m\n\u001b[0m\u001b[1;32m     68\u001b[0m     \u001b[0mx\u001b[0m \u001b[0;34m=\u001b[0m \u001b[0mx\u001b[0m \u001b[0;34m*\u001b[0m \u001b[0mmask\u001b[0m\u001b[0;34m.\u001b[0m\u001b[0munsqueeze\u001b[0m\u001b[0;34m(\u001b[0m\u001b[0;36m1\u001b[0m\u001b[0;34m)\u001b[0m\u001b[0;34m\u001b[0m\u001b[0;34m\u001b[0m\u001b[0m\n\u001b[1;32m     69\u001b[0m     \u001b[0;32mreturn\u001b[0m \u001b[0mx\u001b[0m\u001b[0;34m\u001b[0m\u001b[0;34m\u001b[0m\u001b[0m\n",
            "\u001b[0;31mKeyboardInterrupt\u001b[0m: "
          ]
        }
      ],
      "source": [
        "# start training!\n",
        "%cp /content/zipfgosavasq.zip /content/projected_gan/data\n",
        "train(\n",
        "    outdir='training-runs', #出力用ディレクトリ\n",
        "    cfg='fastgan',#ganの選択\n",
        "    data='./data/art_painting256.zip', #訓練データ置き場\n",
        "    #data='./data/zipfgosavasq.zip', #訓練データ置き場,\n",
        "    gpus=1, #gpusの数設定\n",
        "    batch=64, #batchのsize\n",
        "    cond=False, #\n",
        "    mirror=1, \n",
        "    batch_gpu=8, \n",
        "    cbase=32768, \n",
        "    cmax=512, \n",
        "    glr=None, \n",
        "    dlr=0.002, \n",
        "    desc='', \n",
        "    metrics=[],\n",
        "    kimg=10000, \n",
        "    tick=4, \n",
        "    snap=1, \n",
        "    seed=0, \n",
        "    workers=0,\n",
        "    restart_every=999999,\n",
        ")"
      ]
    },
    {
      "cell_type": "markdown",
      "metadata": {
        "id": "MqYeDzg3KUMG"
      },
      "source": [
        "To inspect the samples, click on the folder symbol on the left and navigate to \n",
        "\n",
        "```projected_gan/training-runs/YOUR_RUN```\n",
        "\n",
        "The files ```fakesXXXXXX.png``` are the samples for a fixed noise vector at point."
      ]
    },
    {
      "cell_type": "code",
      "source": [
        ""
      ],
      "metadata": {
        "id": "ENlESm6i8RnD"
      },
      "execution_count": null,
      "outputs": []
    }
  ],
  "metadata": {
    "accelerator": "GPU",
    "colab": {
      "collapsed_sections": [],
      "name": "projected_gan.ipynb",
      "provenance": [],
      "include_colab_link": true
    },
    "kernelspec": {
      "display_name": "Python 3",
      "name": "python3"
    },
    "language_info": {
      "name": "python"
    }
  },
  "nbformat": 4,
  "nbformat_minor": 0
}