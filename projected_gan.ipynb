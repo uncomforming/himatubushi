{
  "cells": [
    {
      "cell_type": "markdown",
      "metadata": {
        "id": "view-in-github",
        "colab_type": "text"
      },
      "source": [
        "<a href=\"https://colab.research.google.com/github/uncomforming/himatubushi/blob/main/projected_gan.ipynb\" target=\"_parent\"><img src=\"https://colab.research.google.com/assets/colab-badge.svg\" alt=\"Open In Colab\"/></a>"
      ]
    },
    {
      "cell_type": "markdown",
      "metadata": {
        "id": "RUaixszCnlKd"
      },
      "source": [
        "\n",
        "# Training Projected GAN\n",
        "This is a self-contained notebook for training Projected GAN."
      ]
    },
    {
      "cell_type": "markdown",
      "metadata": {
        "id": "SBwzYACTn05w"
      },
      "source": [
        "## Setup\n",
        "\n",
        "Make sure you're running a GPU runtime; if not, select \"GPU\" as the hardware accelerator in Runtime > Change Runtime Type in the menu. \n",
        "\n",
        "Now, get the repo and install missing dependencies.\n",
        "\n",
        "日本語訳\n",
        "GPU ランタイムを実行していることを確認します。そうでない場合は、メニューの Runtime > Change Runtime Type でハードウェアアクセラレータとして \"GPU\" を選択します。\n",
        "\n",
        "さて、レポを入手し、不足している依存関係をインストールします。\n"
      ]
    },
    {
      "cell_type": "markdown",
      "metadata": {
        "id": "YRrYJBn1Yf3q"
      },
      "source": [
        "git pull#コマンド実行\n",
        "\n",
        "git add .#コミット対象に変更\n",
        "\n",
        "git commit#コミット\n",
        "\n",
        "git push#更新を反映\n",
        "\n"
      ]
    },
    {
      "cell_type": "code",
      "execution_count": 1,
      "metadata": {
        "id": "VZ3pwUJSoOdO"
      },
      "outputs": [],
      "source": [
        "#captureで画面に表示、bashでbashコマンドを有効に（このセル内のみ）\n",
        "%%capture\n",
        "%%bash\n",
        "# clone repo\n",
        "git clone https://github.com/autonomousvision/projected_gan\n",
        "pip install timm dill"
      ]
    },
    {
      "cell_type": "code",
      "execution_count": 2,
      "metadata": {
        "id": "i4N21o-gzMjB",
        "outputId": "38ebbabf-7bb1-4777-ed78-f0fd7304c215",
        "colab": {
          "base_uri": "https://localhost:8080/"
        }
      },
      "outputs": [
        {
          "output_type": "stream",
          "name": "stdout",
          "text": [
            "/content/projected_gan\n"
          ]
        }
      ],
      "source": [
        "%cd projected_gan"
      ]
    },
    {
      "cell_type": "markdown",
      "metadata": {
        "id": "G0hD7dKQR00t"
      },
      "source": [
        "## Data Preparation\n",
        "データの準備。大きなファイルをdriveから持ってくるからgdownを使う\n",
        "We need to download and prepare the data. In this example, we use the few-shot datasets of the [FastGAN repo](https://github.com/odegeasslbc/FastGAN-pytorch)."
      ]
    },
    {
      "cell_type": "code",
      "execution_count": 3,
      "metadata": {
        "colab": {
          "base_uri": "https://localhost:8080/"
        },
        "id": "1mz2_Eynze8K",
        "outputId": "c05723a1-a687-4921-96ce-6227cc68d467"
      },
      "outputs": [
        {
          "output_type": "stream",
          "name": "stdout",
          "text": [
            "Downloading...\n",
            "From: https://drive.google.com/u/0/uc?id=1aAJCZbXNHyraJ6Mi13dSbe7pTyfPXha0\n",
            "To: /content/projected_gan/few-shot-image-datasets.zip\n",
            "100% 913M/913M [00:03<00:00, 270MB/s]\n"
          ]
        }
      ],
      "source": [
        "#gdownでdriveから大きなファイルをダウンロード\n",
        "!gdown https://drive.google.com/u/0/uc?id=1aAJCZbXNHyraJ6Mi13dSbe7pTyfPXha0&export=download"
      ]
    },
    {
      "cell_type": "code",
      "execution_count": 4,
      "metadata": {
        "id": "S6NTT3zVzesu"
      },
      "outputs": [],
      "source": [
        "#captureで画面に表示\n",
        "%%capture\n",
        "!unzip few-shot-image-datasets.zip\n",
        "!mv few-shot-images data"
      ]
    },
    {
      "cell_type": "code",
      "execution_count": 5,
      "metadata": {
        "id": "_TnMmxJrPFZs",
        "outputId": "e3c78137-fc11-43be-87ae-2872bc9c2a91",
        "colab": {
          "base_uri": "https://localhost:8080/"
        }
      },
      "outputs": [
        {
          "output_type": "stream",
          "name": "stderr",
          "text": [
            "\r  0%|          | 0/1000 [00:00<?, ?it/s]\r  0%|          | 5/1000 [00:00<00:23, 43.05it/s]\r  1%|          | 11/1000 [00:00<00:20, 48.30it/s]\r  2%|▏         | 17/1000 [00:00<00:18, 51.97it/s]\r  2%|▏         | 23/1000 [00:00<00:18, 53.22it/s]\r  3%|▎         | 29/1000 [00:00<00:17, 54.53it/s]\r  4%|▎         | 35/1000 [00:00<00:17, 55.29it/s]\r  4%|▍         | 41/1000 [00:00<00:17, 56.05it/s]\r  5%|▍         | 47/1000 [00:00<00:17, 54.81it/s]\r  5%|▌         | 53/1000 [00:00<00:17, 55.61it/s]\r  6%|▌         | 59/1000 [00:01<00:16, 55.83it/s]\r  6%|▋         | 65/1000 [00:01<00:16, 55.83it/s]\r  7%|▋         | 71/1000 [00:01<00:16, 55.67it/s]\r  8%|▊         | 77/1000 [00:01<00:16, 56.41it/s]\r  8%|▊         | 83/1000 [00:01<00:16, 57.06it/s]\r  9%|▉         | 89/1000 [00:01<00:15, 57.02it/s]\r 10%|▉         | 95/1000 [00:01<00:15, 57.28it/s]\r 10%|█         | 101/1000 [00:01<00:15, 56.84it/s]\r 11%|█         | 107/1000 [00:01<00:15, 56.93it/s]\r 11%|█▏        | 113/1000 [00:02<00:15, 56.48it/s]\r 12%|█▏        | 119/1000 [00:02<00:15, 56.87it/s]\r 12%|█▎        | 125/1000 [00:02<00:15, 57.59it/s]\r 13%|█▎        | 131/1000 [00:02<00:15, 57.90it/s]\r 14%|█▎        | 137/1000 [00:02<00:14, 57.82it/s]\r 14%|█▍        | 143/1000 [00:02<00:14, 57.80it/s]\r 15%|█▍        | 149/1000 [00:02<00:14, 57.35it/s]\r 16%|█▌        | 155/1000 [00:02<00:14, 57.02it/s]\r 16%|█▌        | 161/1000 [00:02<00:14, 56.45it/s]\r 17%|█▋        | 167/1000 [00:02<00:14, 57.00it/s]\r 17%|█▋        | 173/1000 [00:03<00:14, 57.64it/s]\r 18%|█▊        | 179/1000 [00:03<00:14, 57.71it/s]\r 18%|█▊        | 185/1000 [00:03<00:14, 57.76it/s]\r 19%|█▉        | 191/1000 [00:03<00:13, 58.31it/s]\r 20%|█▉        | 197/1000 [00:03<00:13, 58.46it/s]\r 20%|██        | 203/1000 [00:03<00:13, 58.50it/s]\r 21%|██        | 209/1000 [00:03<00:13, 58.29it/s]\r 22%|██▏       | 215/1000 [00:03<00:13, 58.42it/s]\r 22%|██▏       | 221/1000 [00:03<00:13, 57.53it/s]\r 23%|██▎       | 227/1000 [00:04<00:13, 57.04it/s]\r 23%|██▎       | 233/1000 [00:04<00:13, 56.66it/s]\r 24%|██▍       | 239/1000 [00:04<00:13, 57.14it/s]\r 24%|██▍       | 245/1000 [00:04<00:14, 52.96it/s]\r 25%|██▌       | 251/1000 [00:04<00:13, 54.58it/s]\r 26%|██▌       | 257/1000 [00:04<00:13, 55.65it/s]\r 26%|██▋       | 263/1000 [00:04<00:13, 56.43it/s]\r 27%|██▋       | 269/1000 [00:04<00:12, 56.32it/s]\r 28%|██▊       | 275/1000 [00:04<00:13, 54.24it/s]\r 28%|██▊       | 281/1000 [00:05<00:13, 52.36it/s]\r 29%|██▊       | 287/1000 [00:05<00:13, 52.49it/s]\r 29%|██▉       | 293/1000 [00:05<00:13, 53.99it/s]\r 30%|██▉       | 299/1000 [00:05<00:12, 54.72it/s]\r 30%|███       | 305/1000 [00:05<00:12, 56.05it/s]\r 31%|███       | 311/1000 [00:05<00:12, 56.82it/s]\r 32%|███▏      | 317/1000 [00:05<00:12, 56.60it/s]\r 32%|███▏      | 323/1000 [00:05<00:11, 56.98it/s]\r 33%|███▎      | 329/1000 [00:05<00:11, 57.20it/s]\r 34%|███▎      | 335/1000 [00:05<00:11, 56.68it/s]\r 34%|███▍      | 341/1000 [00:06<00:11, 56.89it/s]\r 35%|███▍      | 347/1000 [00:06<00:11, 57.48it/s]\r 35%|███▌      | 353/1000 [00:06<00:11, 56.71it/s]\r 36%|███▌      | 359/1000 [00:06<00:11, 57.18it/s]\r 36%|███▋      | 365/1000 [00:06<00:11, 54.49it/s]\r 37%|███▋      | 371/1000 [00:06<00:11, 55.36it/s]\r 38%|███▊      | 377/1000 [00:06<00:11, 56.46it/s]\r 38%|███▊      | 383/1000 [00:06<00:10, 56.75it/s]\r 39%|███▉      | 389/1000 [00:06<00:10, 56.20it/s]\r 40%|███▉      | 395/1000 [00:07<00:10, 56.40it/s]\r 40%|████      | 401/1000 [00:07<00:10, 55.74it/s]\r 41%|████      | 407/1000 [00:07<00:10, 56.68it/s]\r 41%|████▏     | 413/1000 [00:07<00:10, 56.82it/s]\r 42%|████▏     | 419/1000 [00:07<00:10, 57.18it/s]\r 42%|████▎     | 425/1000 [00:07<00:10, 57.31it/s]\r 43%|████▎     | 431/1000 [00:07<00:09, 57.15it/s]\r 44%|████▎     | 437/1000 [00:07<00:09, 56.87it/s]\r 44%|████▍     | 443/1000 [00:07<00:09, 56.85it/s]\r 45%|████▍     | 449/1000 [00:07<00:09, 55.99it/s]\r 46%|████▌     | 455/1000 [00:08<00:09, 56.32it/s]\r 46%|████▌     | 461/1000 [00:08<00:09, 56.44it/s]\r 47%|████▋     | 467/1000 [00:08<00:09, 56.59it/s]\r 47%|████▋     | 473/1000 [00:08<00:09, 57.02it/s]\r 48%|████▊     | 479/1000 [00:08<00:09, 57.57it/s]\r 48%|████▊     | 485/1000 [00:08<00:08, 57.96it/s]\r 49%|████▉     | 491/1000 [00:08<00:08, 57.57it/s]\r 50%|████▉     | 497/1000 [00:08<00:08, 58.07it/s]\r 50%|█████     | 503/1000 [00:08<00:08, 57.92it/s]\r 51%|█████     | 509/1000 [00:09<00:08, 57.40it/s]\r 52%|█████▏    | 515/1000 [00:09<00:08, 57.70it/s]\r 52%|█████▏    | 521/1000 [00:09<00:08, 57.76it/s]\r 53%|█████▎    | 527/1000 [00:09<00:08, 57.77it/s]\r 53%|█████▎    | 533/1000 [00:09<00:08, 53.93it/s]\r 54%|█████▍    | 539/1000 [00:09<00:08, 54.17it/s]\r 55%|█████▍    | 545/1000 [00:09<00:08, 55.05it/s]\r 55%|█████▌    | 551/1000 [00:09<00:07, 56.26it/s]\r 56%|█████▌    | 557/1000 [00:09<00:07, 56.63it/s]\r 56%|█████▋    | 563/1000 [00:09<00:07, 56.11it/s]\r 57%|█████▋    | 569/1000 [00:10<00:07, 56.09it/s]\r 57%|█████▊    | 575/1000 [00:10<00:07, 56.56it/s]\r 58%|█████▊    | 581/1000 [00:10<00:07, 56.79it/s]\r 59%|█████▊    | 587/1000 [00:10<00:07, 57.60it/s]\r 59%|█████▉    | 593/1000 [00:10<00:07, 57.62it/s]\r 60%|█████▉    | 599/1000 [00:10<00:06, 58.30it/s]\r 60%|██████    | 605/1000 [00:10<00:06, 58.43it/s]\r 61%|██████    | 612/1000 [00:10<00:06, 58.88it/s]\r 62%|██████▏   | 618/1000 [00:10<00:06, 58.41it/s]\r 62%|██████▏   | 624/1000 [00:11<00:06, 57.64it/s]\r 63%|██████▎   | 630/1000 [00:11<00:06, 57.94it/s]\r 64%|██████▎   | 636/1000 [00:11<00:06, 58.07it/s]\r 64%|██████▍   | 642/1000 [00:11<00:06, 57.69it/s]\r 65%|██████▍   | 648/1000 [00:11<00:06, 57.91it/s]\r 65%|██████▌   | 654/1000 [00:11<00:05, 58.19it/s]\r 66%|██████▌   | 660/1000 [00:11<00:05, 57.95it/s]\r 67%|██████▋   | 666/1000 [00:11<00:05, 57.91it/s]\r 67%|██████▋   | 672/1000 [00:11<00:05, 57.83it/s]\r 68%|██████▊   | 678/1000 [00:11<00:05, 57.47it/s]\r 68%|██████▊   | 684/1000 [00:12<00:05, 57.71it/s]\r 69%|██████▉   | 690/1000 [00:12<00:05, 57.83it/s]\r 70%|██████▉   | 696/1000 [00:12<00:05, 57.49it/s]\r 70%|███████   | 702/1000 [00:12<00:05, 57.79it/s]\r 71%|███████   | 708/1000 [00:12<00:05, 57.54it/s]\r 71%|███████▏  | 714/1000 [00:12<00:04, 58.00it/s]\r 72%|███████▏  | 720/1000 [00:12<00:04, 57.62it/s]\r 73%|███████▎  | 726/1000 [00:12<00:04, 57.99it/s]\r 73%|███████▎  | 732/1000 [00:12<00:04, 57.85it/s]\r 74%|███████▍  | 738/1000 [00:13<00:04, 57.11it/s]\r 74%|███████▍  | 744/1000 [00:13<00:04, 57.81it/s]\r 75%|███████▌  | 750/1000 [00:13<00:04, 57.76it/s]\r 76%|███████▌  | 756/1000 [00:13<00:04, 57.73it/s]\r 76%|███████▌  | 762/1000 [00:13<00:04, 57.80it/s]\r 77%|███████▋  | 768/1000 [00:13<00:04, 57.53it/s]\r 77%|███████▋  | 774/1000 [00:13<00:03, 57.58it/s]\r 78%|███████▊  | 780/1000 [00:13<00:03, 58.00it/s]\r 79%|███████▊  | 786/1000 [00:13<00:03, 58.12it/s]\r 79%|███████▉  | 792/1000 [00:13<00:03, 57.82it/s]\r 80%|███████▉  | 798/1000 [00:14<00:03, 57.06it/s]\r 80%|████████  | 804/1000 [00:14<00:03, 57.20it/s]\r 81%|████████  | 810/1000 [00:14<00:03, 57.77it/s]\r 82%|████████▏ | 816/1000 [00:14<00:03, 57.46it/s]\r 82%|████████▏ | 822/1000 [00:14<00:03, 57.70it/s]\r 83%|████████▎ | 828/1000 [00:14<00:03, 55.95it/s]\r 83%|████████▎ | 834/1000 [00:14<00:02, 56.27it/s]\r 84%|████████▍ | 840/1000 [00:14<00:02, 56.73it/s]\r 85%|████████▍ | 846/1000 [00:14<00:02, 57.23it/s]\r 85%|████████▌ | 852/1000 [00:15<00:02, 57.61it/s]\r 86%|████████▌ | 858/1000 [00:15<00:02, 56.24it/s]\r 86%|████████▋ | 864/1000 [00:15<00:02, 55.18it/s]\r 87%|████████▋ | 870/1000 [00:15<00:02, 55.42it/s]\r 88%|████████▊ | 876/1000 [00:15<00:02, 56.08it/s]\r 88%|████████▊ | 882/1000 [00:15<00:02, 56.26it/s]\r 89%|████████▉ | 888/1000 [00:15<00:02, 55.94it/s]\r 89%|████████▉ | 894/1000 [00:15<00:01, 56.35it/s]\r 90%|█████████ | 900/1000 [00:15<00:01, 56.22it/s]\r 91%|█████████ | 906/1000 [00:15<00:01, 57.05it/s]\r 91%|█████████ | 912/1000 [00:16<00:01, 57.09it/s]\r 92%|█████████▏| 918/1000 [00:16<00:01, 57.00it/s]\r 92%|█████████▏| 924/1000 [00:16<00:01, 57.47it/s]\r 93%|█████████▎| 930/1000 [00:16<00:01, 57.38it/s]\r 94%|█████████▎| 936/1000 [00:16<00:01, 57.57it/s]\r 94%|█████████▍| 942/1000 [00:16<00:01, 57.58it/s]\r 95%|█████████▍| 948/1000 [00:16<00:00, 57.65it/s]\r 95%|█████████▌| 954/1000 [00:16<00:00, 58.12it/s]\r 96%|█████████▌| 960/1000 [00:16<00:00, 57.88it/s]\r 97%|█████████▋| 966/1000 [00:17<00:00, 57.96it/s]\r 97%|█████████▋| 972/1000 [00:17<00:00, 57.53it/s]\r 98%|█████████▊| 978/1000 [00:17<00:00, 57.67it/s]\r 98%|█████████▊| 984/1000 [00:17<00:00, 57.43it/s]\r 99%|█████████▉| 990/1000 [00:17<00:00, 57.89it/s]\r100%|█████████▉| 996/1000 [00:17<00:00, 58.12it/s]\r100%|██████████| 1000/1000 [00:17<00:00, 56.84it/s]\n"
          ]
        }
      ],
      "source": [
        "#bashでbashコマンドを有効に（このセル内のみ）\n",
        "%%bash\n",
        "python dataset_tool.py --source=./data/art-painting --dest=./data/art_painting256.zip --resolution=256x256"
      ]
    },
    {
      "cell_type": "code",
      "execution_count": 6,
      "metadata": {
        "id": "6xPtZ8TSYf36",
        "outputId": "caaf1493-fe28-4bd9-f13d-0a5ed575c9a7",
        "colab": {
          "base_uri": "https://localhost:8080/"
        }
      },
      "outputs": [
        {
          "output_type": "stream",
          "name": "stdout",
          "text": [
            "Mounted at /content/drive\n"
          ]
        }
      ],
      "source": [
        "#driveにマウントしてdriveの画像を使えるように\n",
        "from google.colab import drive\n",
        "drive.mount('/content/drive')\n"
      ]
    },
    {
      "cell_type": "markdown",
      "metadata": {
        "id": "OcS63jN9RMdy"
      },
      "source": [
        "## Training\n",
        "\n",
        "Now that the data is prepared, we can start training!  The training loop tracks FID, but the computations seems to lead to problems in colab. Hence, it is disable by default (```metrics=[]```). The loop also generates fixed noise samples after a defined amount of ticks, eg. below ```--snap=1```.\n",
        "\n",
        "日本語訳\n",
        "\n",
        "データの準備ができたので、トレーニングを開始します 学習ループはFIDを追跡しますが、その計算がcolabで問題になるようです。そのため、デフォルトでは無効になっています(metrics=[])。また、このループは、定義されたtick数の後に、固定ノイズサンプルを生成します。\n"
      ]
    },
    {
      "cell_type": "code",
      "execution_count": 7,
      "metadata": {
        "id": "Yrjw0aes9YV_"
      },
      "outputs": [],
      "source": [
        "import os\n",
        "import json\n",
        "import re\n",
        "import dnnlib\n",
        "\n",
        "from training import training_loop\n",
        "from torch_utils import training_stats\n",
        "from train import init_dataset_kwargs\n",
        "from metrics import metric_main"
      ]
    },
    {
      "cell_type": "code",
      "execution_count": 8,
      "metadata": {
        "id": "Q-VAjxpv9s3T"
      },
      "outputs": [],
      "source": [
        "def launch_training(c, desc, outdir, rank=0):\n",
        "    # Pick output directory.(出力用ディレクトリの選択)\n",
        "    prev_run_dirs = []\n",
        "    if os.path.isdir(outdir):\n",
        "        prev_run_dirs = [x for x in os.listdir(outdir) if os.path.isdir(os.path.join(outdir, x))]\n",
        "\n",
        "    matching_dirs = [re.fullmatch(r'\\d{5}' + f'-{desc}', x) for x in prev_run_dirs if re.fullmatch(r'\\d{5}' + f'-{desc}', x) is not None]\n",
        "    if c.restart_every > 0 and len(matching_dirs) > 0:  # expect unique desc, continue in this directory\n",
        "        assert len(matching_dirs) == 1, f'Multiple directories found for resuming: {matching_dirs}'\n",
        "        c.run_dir = os.path.join(outdir, matching_dirs[0].group())\n",
        "    else:                     # fallback to standard\n",
        "        prev_run_ids = [re.match(r'^\\d+', x) for x in prev_run_dirs]\n",
        "        prev_run_ids = [int(x.group()) for x in prev_run_ids if x is not None]\n",
        "        cur_run_id = max(prev_run_ids, default=-1) + 1\n",
        "        c.run_dir = os.path.join(outdir, f'{cur_run_id:05d}-{desc}')\n",
        "        assert not os.path.exists(c.run_dir)\n",
        "\n",
        "\n",
        "    # Print options.\n",
        "    print()\n",
        "    print('Training options:')\n",
        "    print(json.dumps(c, indent=2))\n",
        "    print()\n",
        "    print(f'Output directory:    {c.run_dir}')\n",
        "    print(f'Number of GPUs:      {c.num_gpus}')\n",
        "    print(f'Batch size:          {c.batch_size} images')\n",
        "    print(f'Training duration:   {c.total_kimg} kimg')\n",
        "    print(f'Dataset path:        {c.training_set_kwargs.path}')\n",
        "    print(f'Dataset size:        {c.training_set_kwargs.max_size} images')\n",
        "    print(f'Dataset resolution:  {c.training_set_kwargs.resolution}')\n",
        "    print(f'Dataset labels:      {c.training_set_kwargs.use_labels}')\n",
        "    print(f'Dataset x-flips:     {c.training_set_kwargs.xflip}')\n",
        "    print()\n",
        "\n",
        "    # Create output directory.(出力用ディレクトリの作成)\n",
        "    print('Creating output directory...')\n",
        "    os.makedirs(c.run_dir, exist_ok=c.restart_every > 0)\n",
        "    with open(os.path.join(c.run_dir, 'training_options.json'), 'wt+') as f:\n",
        "        json.dump(c, f, indent=2)\n",
        "\n",
        "    # Start training\n",
        "    dnnlib.util.Logger(file_name=os.path.join(c.run_dir, 'log.txt'), file_mode='a', should_flush=False)\n",
        "    sync_device = torch.device('cuda', rank) if c.num_gpus > 1 else None\n",
        "    training_stats.init_multiprocessing(rank=rank, sync_device=sync_device)\n",
        "    training_loop.training_loop(rank=rank, **c)"
      ]
    },
    {
      "cell_type": "code",
      "execution_count": 9,
      "metadata": {
        "id": "yqqzoKQk9tRt"
      },
      "outputs": [],
      "source": [
        "def train(**kwargs):#kwargs=可変引数キーワード引数を辞書として受け取る\n",
        "    # Initialize config.(configの初期化)\n",
        "    opts = dnnlib.EasyDict(kwargs) # Command line arguments.\n",
        "    c = dnnlib.EasyDict() # Main config dict.\n",
        "    c.G_kwargs = dnnlib.EasyDict(class_name=None, z_dim=64, w_dim=128, mapping_kwargs=dnnlib.EasyDict())\n",
        "    c.G_opt_kwargs = dnnlib.EasyDict(class_name='torch.optim.Adam', betas=[0,0.99], eps=1e-8)\n",
        "    c.D_opt_kwargs = dnnlib.EasyDict(class_name='torch.optim.Adam', betas=[0,0.99], eps=1e-8)\n",
        "    c.data_loader_kwargs = dnnlib.EasyDict(pin_memory=True, prefetch_factor=2)\n",
        "\n",
        "    # Training set.(訓練データの生成)\n",
        "    c.training_set_kwargs, dataset_name = init_dataset_kwargs(data=opts.data)\n",
        "    if opts.cond and not c.training_set_kwargs.use_labels:\n",
        "        raise ValueError('--cond=True requires labels specified in dataset.json')\n",
        "    c.training_set_kwargs.use_labels = opts.cond\n",
        "    c.training_set_kwargs.xflip = opts.mirror\n",
        "\n",
        "    # Hyperparameters & settings.(ハイパーパラメータの設定)\n",
        "    c.num_gpus = opts.gpus\n",
        "    c.batch_size = opts.batch\n",
        "    c.batch_gpu = opts.batch_gpu or opts.batch // opts.gpus\n",
        "    c.G_kwargs.channel_base = opts.cbase\n",
        "    c.G_kwargs.channel_max = opts.cmax\n",
        "    c.G_kwargs.mapping_kwargs.num_layers = 2\n",
        "    c.G_opt_kwargs.lr = (0.002 if opts.cfg == 'stylegan2' else 0.0025) if opts.glr is None else opts.glr\n",
        "    c.D_opt_kwargs.lr = opts.dlr\n",
        "    c.metrics = opts.metrics\n",
        "    c.total_kimg = opts.kimg\n",
        "    c.kimg_per_tick = opts.tick\n",
        "    c.image_snapshot_ticks = c.network_snapshot_ticks = opts.snap\n",
        "    c.random_seed = c.training_set_kwargs.random_seed = opts.seed\n",
        "    c.data_loader_kwargs.num_workers = opts.workers\n",
        "\n",
        "    # Sanity checks.(バグ確認)\n",
        "    if c.batch_size % c.num_gpus != 0:\n",
        "        raise ValueError('--batch must be a multiple of --gpus')\n",
        "    if c.batch_size % (c.num_gpus * c.batch_gpu) != 0:\n",
        "        raise ValueError('--batch must be a multiple of --gpus times --batch-gpu')\n",
        "    if any(not metric_main.is_valid_metric(metric) for metric in c.metrics):\n",
        "        raise ValueError('\\n'.join(['--metrics can only contain the following values:'] + metric_main.list_valid_metrics()))\n",
        "\n",
        "    # Base configuration.(基本構成定義？)(cfgでganの種類を定義(stylegan2 or fastgan))\n",
        "    c.ema_kimg = c.batch_size * 10 / 32\n",
        "    if opts.cfg == 'stylegan2':\n",
        "        c.G_kwargs.class_name = 'pg_modules.networks_stylegan2.Generator'\n",
        "        c.G_kwargs.fused_modconv_default = 'inference_only' # Speed up training by using regular convolutions instead of grouped convolutions.\n",
        "        use_separable_discs = True\n",
        "\n",
        "    elif opts.cfg == 'fastgan':\n",
        "        c.G_kwargs = dnnlib.EasyDict(class_name='pg_modules.networks_fastgan.Generator', cond=opts.cond)\n",
        "        c.G_opt_kwargs.lr = c.D_opt_kwargs.lr = 0.0002\n",
        "        use_separable_discs = False\n",
        "\n",
        "    # Restart.(やり直し)\n",
        "    c.restart_every = opts.restart_every\n",
        "\n",
        "    # Description string.(説明)\n",
        "    desc = f'{opts.cfg:s}-{dataset_name:s}-gpus{c.num_gpus:d}-batch{c.batch_size:d}'\n",
        "    if opts.desc is not None:\n",
        "        desc += f'-{opts.desc}'\n",
        "\n",
        "    # Projected and Multi-Scale Discriminators\n",
        "    c.loss_kwargs = dnnlib.EasyDict(class_name='training.loss.ProjectedGANLoss')\n",
        "    c.D_kwargs = dnnlib.EasyDict(\n",
        "        class_name='pg_modules.discriminator.ProjectedDiscriminator',\n",
        "        diffaug=True,\n",
        "        interp224=(c.training_set_kwargs.resolution < 224),\n",
        "        backbone_kwargs=dnnlib.EasyDict(),\n",
        "    )\n",
        "\n",
        "    c.D_kwargs.backbone_kwargs.cout = 64\n",
        "    c.D_kwargs.backbone_kwargs.expand = True\n",
        "    c.D_kwargs.backbone_kwargs.proj_type = 2\n",
        "    c.D_kwargs.backbone_kwargs.num_discs = 4\n",
        "    c.D_kwargs.backbone_kwargs.separable = use_separable_discs\n",
        "    c.D_kwargs.backbone_kwargs.cond = opts.cond\n",
        "\n",
        "    # Launch.\n",
        "    launch_training(c=c, desc=desc, outdir=opts.outdir)"
      ]
    },
    {
      "cell_type": "code",
      "source": [
        "import shutil\n",
        "\n",
        "shutil.make_archive('zipfgosava', format='zip', root_dir='/content/drive/MyDrive/fgosava')"
      ],
      "metadata": {
        "id": "Nkzl6gp6YjW1",
        "outputId": "e3638f8d-c9ca-424e-ba3f-ce122a631e36",
        "colab": {
          "base_uri": "https://localhost:8080/",
          "height": 36
        }
      },
      "execution_count": 12,
      "outputs": [
        {
          "output_type": "execute_result",
          "data": {
            "text/plain": [
              "'/content/projected_gan/zipfgosava.zip'"
            ],
            "application/vnd.google.colaboratory.intrinsic+json": {
              "type": "string"
            }
          },
          "metadata": {},
          "execution_count": 12
        }
      ]
    },
    {
      "cell_type": "code",
      "execution_count": null,
      "metadata": {
        "id": "uKHfWFKe9tWB",
        "outputId": "32b006e3-a3bd-41e2-921f-8b9ef3b604de",
        "colab": {
          "base_uri": "https://localhost:8080/"
        }
      },
      "outputs": [
        {
          "output_type": "stream",
          "name": "stdout",
          "text": [
            "\n",
            "Training options:\n",
            "{\n",
            "  \"G_kwargs\": {\n",
            "    \"class_name\": \"pg_modules.networks_fastgan.Generator\",\n",
            "    \"cond\": false\n",
            "  },\n",
            "  \"G_opt_kwargs\": {\n",
            "    \"class_name\": \"torch.optim.Adam\",\n",
            "    \"betas\": [\n",
            "      0,\n",
            "      0.99\n",
            "    ],\n",
            "    \"eps\": 1e-08,\n",
            "    \"lr\": 0.0002\n",
            "  },\n",
            "  \"D_opt_kwargs\": {\n",
            "    \"class_name\": \"torch.optim.Adam\",\n",
            "    \"betas\": [\n",
            "      0,\n",
            "      0.99\n",
            "    ],\n",
            "    \"eps\": 1e-08,\n",
            "    \"lr\": 0.0002\n",
            "  },\n",
            "  \"data_loader_kwargs\": {\n",
            "    \"pin_memory\": true,\n",
            "    \"prefetch_factor\": 2,\n",
            "    \"num_workers\": 0\n",
            "  },\n",
            "  \"training_set_kwargs\": {\n",
            "    \"class_name\": \"training.dataset.ImageFolderDataset\",\n",
            "    \"path\": \"./data/art_painting256.zip\",\n",
            "    \"use_labels\": false,\n",
            "    \"max_size\": 1000,\n",
            "    \"xflip\": 1,\n",
            "    \"resolution\": 256,\n",
            "    \"random_seed\": 0\n",
            "  },\n",
            "  \"num_gpus\": 1,\n",
            "  \"batch_size\": 64,\n",
            "  \"batch_gpu\": 8,\n",
            "  \"metrics\": [],\n",
            "  \"total_kimg\": 10000,\n",
            "  \"kimg_per_tick\": 4,\n",
            "  \"image_snapshot_ticks\": 1,\n",
            "  \"network_snapshot_ticks\": 1,\n",
            "  \"random_seed\": 0,\n",
            "  \"ema_kimg\": 20.0,\n",
            "  \"restart_every\": 999999,\n",
            "  \"loss_kwargs\": {\n",
            "    \"class_name\": \"training.loss.ProjectedGANLoss\"\n",
            "  },\n",
            "  \"D_kwargs\": {\n",
            "    \"class_name\": \"pg_modules.discriminator.ProjectedDiscriminator\",\n",
            "    \"diffaug\": true,\n",
            "    \"interp224\": false,\n",
            "    \"backbone_kwargs\": {\n",
            "      \"cout\": 64,\n",
            "      \"expand\": true,\n",
            "      \"proj_type\": 2,\n",
            "      \"num_discs\": 4,\n",
            "      \"separable\": false,\n",
            "      \"cond\": false\n",
            "    }\n",
            "  },\n",
            "  \"run_dir\": \"training-runs/00000-fastgan-art_painting256-gpus1-batch64-\"\n",
            "}\n",
            "\n",
            "Output directory:    training-runs/00000-fastgan-art_painting256-gpus1-batch64-\n",
            "Number of GPUs:      1\n",
            "Batch size:          64 images\n",
            "Training duration:   10000 kimg\n",
            "Dataset path:        ./data/art_painting256.zip\n",
            "Dataset size:        1000 images\n",
            "Dataset resolution:  256\n",
            "Dataset labels:      False\n",
            "Dataset x-flips:     1\n",
            "\n",
            "Creating output directory...\n",
            "Loading training set...\n",
            "\n",
            "Num images:  2000\n",
            "Image shape: [3, 256, 256]\n",
            "Label shape: [0]\n",
            "\n",
            "Constructing networks...\n",
            "Downloading: \"https://github.com/rwightman/pytorch-image-models/releases/download/v0.1-weights/tf_efficientnet_lite0-0aa007d2.pth\" to /root/.cache/torch/hub/checkpoints/tf_efficientnet_lite0-0aa007d2.pth\n",
            "\n",
            "Generator              Parameters  Buffers  Output shape        Datatype\n",
            "---                    ---         ---      ---                 ---     \n",
            "mapping                -           -        [8, 1, 256]         float32 \n",
            "synthesis.init.init    16785408    16385    [8, 2048, 4, 4]     float32 \n",
            "synthesis.feat_8.0     -           -        [8, 2048, 8, 8]     float32 \n",
            "synthesis.feat_8.1     37748736    20480    [8, 2048, 8, 8]     float32 \n",
            "synthesis.feat_8.2     1           -        [8, 2048, 8, 8]     float32 \n",
            "synthesis.feat_8.3     4096        4097     [8, 2048, 8, 8]     float32 \n",
            "synthesis.feat_8.4     -           -        [8, 1024, 8, 8]     float32 \n",
            "synthesis.feat_8.5     18874368    11264    [8, 2048, 8, 8]     float32 \n",
            "synthesis.feat_8.6     1           -        [8, 2048, 8, 8]     float32 \n",
            "synthesis.feat_8.7     4096        4097     [8, 2048, 8, 8]     float32 \n",
            "synthesis.feat_8.8     -           -        [8, 1024, 8, 8]     float32 \n",
            "synthesis.feat_16.0    -           -        [8, 1024, 16, 16]   float32 \n",
            "synthesis.feat_16.1    9437184     10240    [8, 1024, 16, 16]   float32 \n",
            "synthesis.feat_16.2    1           -        [8, 1024, 16, 16]   float32 \n",
            "synthesis.feat_16.3    2048        2049     [8, 1024, 16, 16]   float32 \n",
            "synthesis.feat_16.4    -           -        [8, 512, 16, 16]    float32 \n",
            "synthesis.feat_16.5    4718592     5632     [8, 1024, 16, 16]   float32 \n",
            "synthesis.feat_16.6    1           -        [8, 1024, 16, 16]   float32 \n",
            "synthesis.feat_16.7    2048        2049     [8, 1024, 16, 16]   float32 \n",
            "synthesis.feat_16.8    -           -        [8, 512, 16, 16]    float32 \n",
            "synthesis.feat_32.0    -           -        [8, 512, 32, 32]    float32 \n",
            "synthesis.feat_32.1    2359296     5120     [8, 512, 32, 32]    float32 \n",
            "synthesis.feat_32.2    1           -        [8, 512, 32, 32]    float32 \n",
            "synthesis.feat_32.3    1024        1025     [8, 512, 32, 32]    float32 \n",
            "synthesis.feat_32.4    -           -        [8, 256, 32, 32]    float32 \n",
            "synthesis.feat_32.5    1179648     2816     [8, 512, 32, 32]    float32 \n",
            "synthesis.feat_32.6    1           -        [8, 512, 32, 32]    float32 \n",
            "synthesis.feat_32.7    1024        1025     [8, 512, 32, 32]    float32 \n",
            "synthesis.feat_32.8    -           -        [8, 256, 32, 32]    float32 \n",
            "synthesis.feat_64.0    -           -        [8, 256, 64, 64]    float32 \n",
            "synthesis.feat_64.1    1179648     2816     [8, 512, 64, 64]    float32 \n",
            "synthesis.feat_64.2    1           -        [8, 512, 64, 64]    float32 \n",
            "synthesis.feat_64.3    1024        1025     [8, 512, 64, 64]    float32 \n",
            "synthesis.feat_64.4    -           -        [8, 256, 64, 64]    float32 \n",
            "synthesis.feat_64.5    1179648     2816     [8, 512, 64, 64]    float32 \n",
            "synthesis.feat_64.6    1           -        [8, 512, 64, 64]    float32 \n",
            "synthesis.feat_64.7    1024        1025     [8, 512, 64, 64]    float32 \n",
            "synthesis.feat_64.8    -           -        [8, 256, 64, 64]    float32 \n",
            "synthesis.se_64.main   8454144     33536    [8, 256, 1, 1]      float32 \n",
            "synthesis.se_64        -           -        [8, 256, 64, 64]    float32 \n",
            "synthesis.feat_128.0   -           -        [8, 256, 128, 128]  float32 \n",
            "synthesis.feat_128.1   589824      2560     [8, 256, 128, 128]  float32 \n",
            "synthesis.feat_128.2   1           -        [8, 256, 128, 128]  float32 \n",
            "synthesis.feat_128.3   512         513      [8, 256, 128, 128]  float32 \n",
            "synthesis.feat_128.4   -           -        [8, 128, 128, 128]  float32 \n",
            "synthesis.feat_128.5   294912      1408     [8, 256, 128, 128]  float32 \n",
            "synthesis.feat_128.6   1           -        [8, 256, 128, 128]  float32 \n",
            "synthesis.feat_128.7   512         513      [8, 256, 128, 128]  float32 \n",
            "synthesis.feat_128.8   -           -        [8, 128, 128, 128]  float32 \n",
            "synthesis.se_128.main  2113536     16768    [8, 128, 1, 1]      float32 \n",
            "synthesis.se_128       -           -        [8, 128, 128, 128]  float32 \n",
            "synthesis.feat_256.0   -           -        [8, 128, 256, 256]  float32 \n",
            "synthesis.feat_256.1   147456      1280     [8, 128, 256, 256]  float32 \n",
            "synthesis.feat_256.2   1           -        [8, 128, 256, 256]  float32 \n",
            "synthesis.feat_256.3   256         257      [8, 128, 256, 256]  float32 \n",
            "synthesis.feat_256.4   -           -        [8, 64, 256, 256]   float32 \n",
            "synthesis.feat_256.5   73728       704      [8, 128, 256, 256]  float32 \n",
            "synthesis.feat_256.6   1           -        [8, 128, 256, 256]  float32 \n",
            "synthesis.feat_256.7   256         257      [8, 128, 256, 256]  float32 \n",
            "synthesis.feat_256.8   -           -        [8, 64, 256, 256]   float32 \n",
            "synthesis.se_256.main  528384      8384     [8, 64, 1, 1]       float32 \n",
            "synthesis.se_256       -           -        [8, 64, 256, 256]   float32 \n",
            "synthesis.to_big       1731        579      [8, 3, 256, 256]    float32 \n",
            "---                    ---         ---      ---                 ---     \n",
            "Total                  105684175   160720   -                   -       \n",
            "\n",
            "/usr/local/lib/python3.7/dist-packages/torch/functional.py:568: UserWarning: torch.meshgrid: in an upcoming release, it will be required to pass the indexing argument. (Triggered internally at  ../aten/src/ATen/native/TensorShape.cpp:2228.)\n",
            "  return _VF.meshgrid(tensors, **kwargs)  # type: ignore[attr-defined]\n",
            "\n",
            "ProjectedDiscriminator                                               Parameters  Buffers  Output shape       Datatype\n",
            "---                                                                  ---         ---      ---                ---     \n",
            "feature_network.pretrained.layer0.0                                  864         -        [8, 32, 128, 128]  float32 \n",
            "feature_network.pretrained.layer0.1                                  64          65       [8, 32, 128, 128]  float32 \n",
            "feature_network.pretrained.layer0.3                                  896         98       [8, 16, 128, 128]  float32 \n",
            "feature_network.pretrained.layer0.4                                  13968       1062     [8, 24, 64, 64]    float32 \n",
            "feature_network.pretrained.layer1.0                                  39712       1702     [8, 40, 32, 32]    float32 \n",
            "feature_network.pretrained.layer2.0                                  198480      5289     [8, 80, 16, 16]    float32 \n",
            "feature_network.pretrained.layer2.1                                  446784      7977     [8, 112, 16, 16]   float32 \n",
            "feature_network.pretrained.layer3.0                                  1652640     18060    [8, 192, 8, 8]     float32 \n",
            "feature_network.pretrained.layer3.1                                  605440      5251     [8, 320, 8, 8]     float32 \n",
            "feature_network.scratch.layer0_ccm                                   1600        -        [8, 64, 64, 64]    float32 \n",
            "feature_network.scratch.layer1_ccm                                   5248        -        [8, 128, 32, 32]   float32 \n",
            "feature_network.scratch.layer2_ccm                                   28928       -        [8, 256, 16, 16]   float32 \n",
            "feature_network.scratch.layer3_ccm                                   164352      -        [8, 512, 8, 8]     float32 \n",
            "feature_network.scratch.layer3_csm.out_conv                          131328      -        [8, 256, 16, 16]   float32 \n",
            "feature_network.scratch.layer2_csm.skip_add.activation_post_process  -           -        [8, 256, 16, 16]   float32 \n",
            "feature_network.scratch.layer2_csm.out_conv                          32896       -        [8, 128, 32, 32]   float32 \n",
            "feature_network.scratch.layer1_csm.skip_add.activation_post_process  -           -        [8, 128, 32, 32]   float32 \n",
            "feature_network.scratch.layer1_csm.out_conv                          8256        -        [8, 64, 64, 64]    float32 \n",
            "feature_network.scratch.layer0_csm.skip_add.activation_post_process  -           -        [8, 64, 64, 64]    float32 \n",
            "feature_network.scratch.layer0_csm.out_conv                          4160        -        [8, 64, 128, 128]  float32 \n",
            "discriminator.mini_discs.0.main                                      2829120     19269    [8, 1, 5, 5]       float32 \n",
            "discriminator.mini_discs.1.main                                      2763392     18052    [8, 1, 5, 5]       float32 \n",
            "discriminator.mini_discs.2.main                                      2631936     16643    [8, 1, 5, 5]       float32 \n",
            "discriminator.mini_discs.3.main                                      2106880     13826    [8, 1, 5, 5]       float32 \n",
            "discriminator                                                        -           -        [8, 100]           float32 \n",
            "---                                                                  ---         ---      ---                ---     \n",
            "Total                                                                13666944    107294   -                  -       \n",
            "\n",
            "Distributing across 1 GPUs...\n",
            "Setting up training phases...\n",
            "Exporting sample images...\n",
            "Initializing logs...\n",
            "Training for 10000 kimg...\n",
            "\n",
            "tick 0     kimg 0.1      time 1m 06s       sec/tick 10.1    sec/kimg 158.11  maintenance 55.5   cpumem 6.08   gpumem 6.68   reserved 10.26 \n"
          ]
        }
      ],
      "source": [
        "# start training!\n",
        "\n",
        "train(\n",
        "    outdir='training-runs', #出力用ディレクトリ\n",
        "    cfg='fastgan',#ganの選択\n",
        "    data='./data/art_painting256.zip', #訓練データ置き場\n",
        "    gpus=1, #gpusの数設定\n",
        "    batch=64, #batchのsize\n",
        "    cond=False, #\n",
        "    mirror=1, \n",
        "    batch_gpu=8, \n",
        "    cbase=32768, \n",
        "    cmax=512, \n",
        "    glr=None, \n",
        "    dlr=0.002, \n",
        "    desc='', \n",
        "    metrics=[],\n",
        "    kimg=10000, \n",
        "    tick=4, \n",
        "    snap=1, \n",
        "    seed=0, \n",
        "    workers=0,\n",
        "    restart_every=999999,\n",
        ")"
      ]
    },
    {
      "cell_type": "markdown",
      "metadata": {
        "id": "MqYeDzg3KUMG"
      },
      "source": [
        "To inspect the samples, click on the folder symbol on the left and navigate to \n",
        "\n",
        "```projected_gan/training-runs/YOUR_RUN```\n",
        "\n",
        "The files ```fakesXXXXXX.png``` are the samples for a fixed noise vector at point."
      ]
    }
  ],
  "metadata": {
    "accelerator": "GPU",
    "colab": {
      "collapsed_sections": [],
      "name": "projected_gan.ipynb",
      "provenance": [],
      "include_colab_link": true
    },
    "kernelspec": {
      "display_name": "Python 3",
      "name": "python3"
    },
    "language_info": {
      "name": "python"
    }
  },
  "nbformat": 4,
  "nbformat_minor": 0
}