{
  "cells": [
    {
      "cell_type": "markdown",
      "metadata": {
        "id": "view-in-github",
        "colab_type": "text"
      },
      "source": [
        "<a href=\"https://colab.research.google.com/github/uncomforming/himatubushi/blob/main/projected_gan.ipynb\" target=\"_parent\"><img src=\"https://colab.research.google.com/assets/colab-badge.svg\" alt=\"Open In Colab\"/></a>"
      ]
    },
    {
      "cell_type": "markdown",
      "source": [
        "ドライブの画像データの前処理"
      ],
      "metadata": {
        "id": "0NsAUwmM2U-C"
      }
    },
    {
      "cell_type": "code",
      "source": [
        "import shutil\n",
        "#driveにマウントしてdriveの画像を使えるように\n",
        "from google.colab import drive\n",
        "from PIL import Image\n",
        "drive.mount('/content/drive')\n",
        "%mkdir fgopng"
      ],
      "metadata": {
        "id": "Nkzl6gp6YjW1"
      },
      "execution_count": null,
      "outputs": []
    },
    {
      "cell_type": "markdown",
      "metadata": {
        "id": "RUaixszCnlKd"
      },
      "source": [
        "\n",
        "# Training Projected GAN\n",
        "This is a self-contained notebook for training Projected GAN."
      ]
    },
    {
      "cell_type": "markdown",
      "metadata": {
        "id": "SBwzYACTn05w"
      },
      "source": [
        "## Setup\n",
        "\n",
        "Make sure you're running a GPU runtime; if not, select \"GPU\" as the hardware accelerator in Runtime > Change Runtime Type in the menu. \n",
        "\n",
        "Now, get the repo and install missing dependencies.\n",
        "\n",
        "日本語訳\n",
        "GPU ランタイムを実行していることを確認します。そうでない場合は、メニューの Runtime > Change Runtime Type でハードウェアアクセラレータとして \"GPU\" を選択します。\n",
        "\n",
        "さて、レポを入手し、不足している依存関係をインストールします。\n"
      ]
    },
    {
      "cell_type": "markdown",
      "metadata": {
        "id": "YRrYJBn1Yf3q"
      },
      "source": [
        "git pull#コマンド実行\n",
        "\n",
        "git add .#コミット対象に変更\n",
        "\n",
        "git commit#コミット\n",
        "\n",
        "git push#更新を反映\n",
        "\n"
      ]
    },
    {
      "cell_type": "code",
      "execution_count": 11,
      "metadata": {
        "id": "VZ3pwUJSoOdO"
      },
      "outputs": [],
      "source": [
        "#captureで画面に表示、bashでbashコマンドを有効に（このセル内のみ）\n",
        "%%capture\n",
        "%%bash\n",
        "# clone repo\n",
        "git clone https://github.com/autonomousvision/projected_gan\n",
        "pip install timm dill"
      ]
    },
    {
      "cell_type": "code",
      "execution_count": 12,
      "metadata": {
        "id": "i4N21o-gzMjB",
        "outputId": "be563e89-9da2-4315-e8e7-2abe5cb88bcd",
        "colab": {
          "base_uri": "https://localhost:8080/"
        }
      },
      "outputs": [
        {
          "output_type": "stream",
          "name": "stdout",
          "text": [
            "/content/projected_gan/projected_gan\n"
          ]
        }
      ],
      "source": [
        "%cd projected_gan"
      ]
    },
    {
      "cell_type": "markdown",
      "metadata": {
        "id": "G0hD7dKQR00t"
      },
      "source": [
        "## Data Preparation\n",
        "データの準備。大きなファイルをdriveから持ってくるからgdownを使う\n",
        "We need to download and prepare the data. In this example, we use the few-shot datasets of the [FastGAN repo](https://github.com/odegeasslbc/FastGAN-pytorch)."
      ]
    },
    {
      "cell_type": "code",
      "execution_count": 13,
      "metadata": {
        "colab": {
          "base_uri": "https://localhost:8080/"
        },
        "id": "1mz2_Eynze8K",
        "outputId": "fa3e231d-ea6e-41c7-c633-44daf0329370"
      },
      "outputs": [
        {
          "output_type": "stream",
          "name": "stdout",
          "text": [
            "Downloading...\n",
            "From: https://drive.google.com/u/0/uc?id=1aAJCZbXNHyraJ6Mi13dSbe7pTyfPXha0\n",
            "To: /content/projected_gan/projected_gan/few-shot-image-datasets.zip\n",
            "100% 913M/913M [00:04<00:00, 204MB/s]\n"
          ]
        }
      ],
      "source": [
        "#gdownでdriveから大きなファイルをダウンロード\n",
        "!gdown https://drive.google.com/u/0/uc?id=1aAJCZbXNHyraJ6Mi13dSbe7pTyfPXha0&export=download"
      ]
    },
    {
      "cell_type": "code",
      "execution_count": 14,
      "metadata": {
        "id": "S6NTT3zVzesu"
      },
      "outputs": [],
      "source": [
        "#captureで画面に表示\n",
        "%%capture\n",
        "!unzip few-shot-image-datasets.zip\n",
        "!mv few-shot-images data"
      ]
    },
    {
      "cell_type": "code",
      "execution_count": 15,
      "metadata": {
        "id": "_TnMmxJrPFZs",
        "outputId": "d927c3f4-6213-4506-cfa1-5f50f9054e80",
        "colab": {
          "base_uri": "https://localhost:8080/"
        }
      },
      "outputs": [
        {
          "output_type": "stream",
          "name": "stderr",
          "text": [
            "\r  0%|          | 0/1000 [00:00<?, ?it/s]\r  0%|          | 4/1000 [00:00<00:25, 38.37it/s]\r  1%|          | 8/1000 [00:00<00:26, 37.44it/s]\r  1%|          | 12/1000 [00:00<00:26, 37.00it/s]\r  2%|▏         | 16/1000 [00:00<00:28, 35.06it/s]\r  2%|▏         | 20/1000 [00:00<00:27, 36.18it/s]\r  2%|▏         | 24/1000 [00:00<00:26, 36.90it/s]\r  3%|▎         | 28/1000 [00:00<00:25, 37.51it/s]\r  3%|▎         | 32/1000 [00:00<00:25, 37.51it/s]\r  4%|▎         | 36/1000 [00:00<00:26, 36.75it/s]\r  4%|▍         | 40/1000 [00:01<00:25, 36.95it/s]\r  4%|▍         | 44/1000 [00:01<00:25, 37.22it/s]\r  5%|▍         | 48/1000 [00:01<00:26, 35.56it/s]\r  5%|▌         | 52/1000 [00:01<00:25, 36.56it/s]\r  6%|▌         | 56/1000 [00:01<00:29, 32.16it/s]\r  6%|▌         | 60/1000 [00:01<00:29, 31.44it/s]\r  6%|▋         | 64/1000 [00:01<00:30, 30.52it/s]\r  7%|▋         | 68/1000 [00:01<00:30, 30.57it/s]\r  7%|▋         | 72/1000 [00:02<00:29, 31.79it/s]\r  8%|▊         | 76/1000 [00:02<00:28, 32.89it/s]\r  8%|▊         | 81/1000 [00:02<00:25, 36.29it/s]\r  9%|▊         | 87/1000 [00:02<00:21, 41.80it/s]\r  9%|▉         | 93/1000 [00:02<00:20, 44.88it/s]\r 10%|▉         | 99/1000 [00:02<00:18, 47.99it/s]\r 10%|█         | 105/1000 [00:02<00:17, 50.57it/s]\r 11%|█         | 111/1000 [00:02<00:16, 52.59it/s]\r 12%|█▏        | 117/1000 [00:02<00:16, 54.28it/s]\r 12%|█▏        | 123/1000 [00:03<00:15, 55.33it/s]\r 13%|█▎        | 129/1000 [00:03<00:15, 55.70it/s]\r 14%|█▎        | 135/1000 [00:03<00:15, 56.21it/s]\r 14%|█▍        | 141/1000 [00:03<00:15, 56.32it/s]\r 15%|█▍        | 147/1000 [00:03<00:15, 55.65it/s]\r 15%|█▌        | 153/1000 [00:03<00:15, 55.52it/s]\r 16%|█▌        | 159/1000 [00:03<00:15, 55.56it/s]\r 16%|█▋        | 165/1000 [00:03<00:14, 55.92it/s]\r 17%|█▋        | 171/1000 [00:03<00:14, 55.74it/s]\r 18%|█▊        | 177/1000 [00:04<00:15, 54.50it/s]\r 18%|█▊        | 183/1000 [00:04<00:14, 54.89it/s]\r 19%|█▉        | 189/1000 [00:04<00:14, 55.62it/s]\r 20%|█▉        | 195/1000 [00:04<00:15, 53.45it/s]\r 20%|██        | 201/1000 [00:04<00:15, 51.02it/s]\r 21%|██        | 207/1000 [00:04<00:15, 52.04it/s]\r 21%|██▏       | 213/1000 [00:04<00:14, 53.65it/s]\r 22%|██▏       | 219/1000 [00:04<00:14, 54.93it/s]\r 22%|██▎       | 225/1000 [00:04<00:13, 55.93it/s]\r 23%|██▎       | 231/1000 [00:05<00:13, 56.52it/s]\r 24%|██▎       | 237/1000 [00:05<00:13, 56.87it/s]\r 24%|██▍       | 243/1000 [00:05<00:13, 56.95it/s]\r 25%|██▍       | 249/1000 [00:05<00:13, 57.14it/s]\r 26%|██▌       | 255/1000 [00:05<00:13, 57.08it/s]\r 26%|██▌       | 261/1000 [00:05<00:13, 56.41it/s]\r 27%|██▋       | 267/1000 [00:05<00:12, 56.78it/s]\r 27%|██▋       | 273/1000 [00:05<00:12, 56.82it/s]\r 28%|██▊       | 279/1000 [00:05<00:12, 57.12it/s]\r 28%|██▊       | 285/1000 [00:05<00:12, 57.03it/s]\r 29%|██▉       | 291/1000 [00:06<00:12, 57.07it/s]\r 30%|██▉       | 297/1000 [00:06<00:12, 56.44it/s]\r 30%|███       | 303/1000 [00:06<00:12, 56.56it/s]\r 31%|███       | 309/1000 [00:06<00:12, 56.41it/s]\r 32%|███▏      | 315/1000 [00:06<00:12, 55.91it/s]\r 32%|███▏      | 321/1000 [00:06<00:12, 55.29it/s]\r 33%|███▎      | 327/1000 [00:06<00:12, 55.55it/s]\r 33%|███▎      | 333/1000 [00:06<00:11, 55.97it/s]\r 34%|███▍      | 339/1000 [00:06<00:11, 56.19it/s]\r 34%|███▍      | 345/1000 [00:07<00:11, 55.55it/s]\r 35%|███▌      | 351/1000 [00:07<00:11, 55.22it/s]\r 36%|███▌      | 357/1000 [00:07<00:11, 55.13it/s]\r 36%|███▋      | 363/1000 [00:07<00:11, 55.42it/s]\r 37%|███▋      | 369/1000 [00:07<00:11, 55.58it/s]\r 38%|███▊      | 375/1000 [00:07<00:11, 55.40it/s]\r 38%|███▊      | 381/1000 [00:07<00:11, 56.03it/s]\r 39%|███▊      | 387/1000 [00:07<00:10, 56.48it/s]\r 39%|███▉      | 393/1000 [00:07<00:10, 56.74it/s]\r 40%|███▉      | 399/1000 [00:08<00:10, 56.88it/s]\r 40%|████      | 405/1000 [00:08<00:10, 57.30it/s]\r 41%|████      | 411/1000 [00:08<00:10, 56.86it/s]\r 42%|████▏     | 417/1000 [00:08<00:10, 57.20it/s]\r 42%|████▏     | 423/1000 [00:08<00:10, 57.31it/s]\r 43%|████▎     | 429/1000 [00:08<00:10, 57.08it/s]\r 44%|████▎     | 435/1000 [00:08<00:10, 56.13it/s]\r 44%|████▍     | 441/1000 [00:08<00:09, 56.33it/s]\r 45%|████▍     | 447/1000 [00:08<00:09, 56.58it/s]\r 45%|████▌     | 453/1000 [00:08<00:09, 56.82it/s]\r 46%|████▌     | 459/1000 [00:09<00:09, 56.88it/s]\r 46%|████▋     | 465/1000 [00:09<00:09, 56.89it/s]\r 47%|████▋     | 471/1000 [00:09<00:09, 57.23it/s]\r 48%|████▊     | 477/1000 [00:09<00:09, 57.30it/s]\r 48%|████▊     | 483/1000 [00:09<00:09, 54.10it/s]\r 49%|████▉     | 489/1000 [00:09<00:09, 54.43it/s]\r 50%|████▉     | 495/1000 [00:09<00:09, 54.54it/s]\r 50%|█████     | 501/1000 [00:09<00:09, 54.79it/s]\r 51%|█████     | 507/1000 [00:09<00:08, 55.63it/s]\r 51%|█████▏    | 513/1000 [00:10<00:08, 55.78it/s]\r 52%|█████▏    | 519/1000 [00:10<00:08, 56.02it/s]\r 52%|█████▎    | 525/1000 [00:10<00:08, 56.03it/s]\r 53%|█████▎    | 531/1000 [00:10<00:08, 56.16it/s]\r 54%|█████▎    | 537/1000 [00:10<00:08, 56.11it/s]\r 54%|█████▍    | 543/1000 [00:10<00:08, 56.79it/s]\r 55%|█████▍    | 549/1000 [00:10<00:08, 56.02it/s]\r 56%|█████▌    | 555/1000 [00:10<00:07, 56.41it/s]\r 56%|█████▌    | 561/1000 [00:10<00:07, 56.69it/s]\r 57%|█████▋    | 567/1000 [00:10<00:07, 56.91it/s]\r 57%|█████▋    | 573/1000 [00:11<00:07, 57.14it/s]\r 58%|█████▊    | 579/1000 [00:11<00:07, 56.68it/s]\r 58%|█████▊    | 585/1000 [00:11<00:07, 56.72it/s]\r 59%|█████▉    | 591/1000 [00:11<00:07, 57.22it/s]\r 60%|█████▉    | 597/1000 [00:11<00:06, 57.58it/s]\r 60%|██████    | 603/1000 [00:11<00:06, 57.67it/s]\r 61%|██████    | 609/1000 [00:11<00:06, 57.89it/s]\r 62%|██████▏   | 615/1000 [00:11<00:06, 57.79it/s]\r 62%|██████▏   | 621/1000 [00:11<00:06, 57.83it/s]\r 63%|██████▎   | 627/1000 [00:12<00:06, 58.35it/s]\r 63%|██████▎   | 633/1000 [00:12<00:06, 57.87it/s]\r 64%|██████▍   | 639/1000 [00:12<00:06, 57.24it/s]\r 64%|██████▍   | 645/1000 [00:12<00:06, 57.03it/s]\r 65%|██████▌   | 651/1000 [00:12<00:06, 57.04it/s]\r 66%|██████▌   | 657/1000 [00:12<00:06, 55.69it/s]\r 66%|██████▋   | 663/1000 [00:12<00:06, 54.69it/s]\r 67%|██████▋   | 669/1000 [00:12<00:06, 55.12it/s]\r 68%|██████▊   | 675/1000 [00:12<00:05, 55.95it/s]\r 68%|██████▊   | 681/1000 [00:12<00:05, 56.34it/s]\r 69%|██████▊   | 687/1000 [00:13<00:05, 56.84it/s]\r 69%|██████▉   | 693/1000 [00:13<00:05, 56.64it/s]\r 70%|██████▉   | 699/1000 [00:13<00:05, 56.72it/s]\r 70%|███████   | 705/1000 [00:13<00:05, 56.48it/s]\r 71%|███████   | 711/1000 [00:13<00:05, 56.73it/s]\r 72%|███████▏  | 717/1000 [00:13<00:04, 56.71it/s]\r 72%|███████▏  | 723/1000 [00:13<00:04, 56.09it/s]\r 73%|███████▎  | 729/1000 [00:13<00:04, 56.27it/s]\r 74%|███████▎  | 735/1000 [00:13<00:04, 56.92it/s]\r 74%|███████▍  | 741/1000 [00:14<00:04, 57.36it/s]\r 75%|███████▍  | 747/1000 [00:14<00:04, 57.61it/s]\r 75%|███████▌  | 753/1000 [00:14<00:04, 57.49it/s]\r 76%|███████▌  | 759/1000 [00:14<00:04, 56.41it/s]\r 76%|███████▋  | 765/1000 [00:14<00:04, 55.59it/s]\r 77%|███████▋  | 771/1000 [00:14<00:04, 53.97it/s]\r 78%|███████▊  | 777/1000 [00:14<00:04, 54.17it/s]\r 78%|███████▊  | 783/1000 [00:14<00:03, 55.08it/s]\r 79%|███████▉  | 789/1000 [00:14<00:03, 55.70it/s]\r 80%|███████▉  | 795/1000 [00:15<00:03, 55.99it/s]\r 80%|████████  | 801/1000 [00:15<00:03, 56.20it/s]\r 81%|████████  | 807/1000 [00:15<00:03, 56.71it/s]\r 81%|████████▏ | 813/1000 [00:15<00:03, 57.14it/s]\r 82%|████████▏ | 819/1000 [00:15<00:03, 57.36it/s]\r 82%|████████▎ | 825/1000 [00:15<00:03, 57.00it/s]\r 83%|████████▎ | 831/1000 [00:15<00:02, 57.00it/s]\r 84%|████████▎ | 837/1000 [00:15<00:02, 55.88it/s]\r 84%|████████▍ | 843/1000 [00:15<00:02, 56.48it/s]\r 85%|████████▍ | 849/1000 [00:15<00:02, 56.36it/s]\r 86%|████████▌ | 855/1000 [00:16<00:02, 56.90it/s]\r 86%|████████▌ | 861/1000 [00:16<00:02, 56.96it/s]\r 87%|████████▋ | 867/1000 [00:16<00:02, 56.84it/s]\r 87%|████████▋ | 873/1000 [00:16<00:02, 56.71it/s]\r 88%|████████▊ | 879/1000 [00:16<00:02, 56.93it/s]\r 88%|████████▊ | 885/1000 [00:16<00:02, 56.81it/s]\r 89%|████████▉ | 891/1000 [00:16<00:01, 56.04it/s]\r 90%|████████▉ | 897/1000 [00:16<00:01, 56.70it/s]\r 90%|█████████ | 903/1000 [00:16<00:01, 56.83it/s]\r 91%|█████████ | 909/1000 [00:17<00:01, 56.95it/s]\r 92%|█████████▏| 915/1000 [00:17<00:01, 56.92it/s]\r 92%|█████████▏| 921/1000 [00:17<00:01, 56.77it/s]\r 93%|█████████▎| 927/1000 [00:17<00:01, 56.76it/s]\r 93%|█████████▎| 933/1000 [00:17<00:01, 56.95it/s]\r 94%|█████████▍| 939/1000 [00:17<00:01, 56.82it/s]\r 94%|█████████▍| 945/1000 [00:17<00:00, 56.83it/s]\r 95%|█████████▌| 951/1000 [00:17<00:00, 56.19it/s]\r 96%|█████████▌| 957/1000 [00:17<00:00, 56.35it/s]\r 96%|█████████▋| 963/1000 [00:17<00:00, 56.45it/s]\r 97%|█████████▋| 969/1000 [00:18<00:00, 56.63it/s]\r 98%|█████████▊| 975/1000 [00:18<00:00, 56.65it/s]\r 98%|█████████▊| 981/1000 [00:18<00:00, 56.25it/s]\r 99%|█████████▊| 987/1000 [00:18<00:00, 56.64it/s]\r 99%|█████████▉| 993/1000 [00:18<00:00, 56.47it/s]\r100%|█████████▉| 999/1000 [00:18<00:00, 56.65it/s]\r100%|██████████| 1000/1000 [00:18<00:00, 53.65it/s]\n"
          ]
        }
      ],
      "source": [
        "#bashでbashコマンドを有効に（このセル内のみ）\n",
        "%%bash\n",
        "python dataset_tool.py --source=./data/art-painting --dest=./data/art_painting256.zip --resolution=256x256"
      ]
    },
    {
      "cell_type": "markdown",
      "metadata": {
        "id": "OcS63jN9RMdy"
      },
      "source": [
        "## Training\n",
        "\n",
        "Now that the data is prepared, we can start training!  The training loop tracks FID, but the computations seems to lead to problems in colab. Hence, it is disable by default (```metrics=[]```). The loop also generates fixed noise samples after a defined amount of ticks, eg. below ```--snap=1```.\n",
        "\n",
        "日本語訳\n",
        "\n",
        "データの準備ができたので、トレーニングを開始します 学習ループはFIDを追跡しますが、その計算がcolabで問題になるようです。そのため、デフォルトでは無効になっています(metrics=[])。また、このループは、定義されたtick数の後に、固定ノイズサンプルを生成します。\n"
      ]
    },
    {
      "cell_type": "code",
      "execution_count": 16,
      "metadata": {
        "id": "Yrjw0aes9YV_"
      },
      "outputs": [],
      "source": [
        "import os\n",
        "import json\n",
        "import re\n",
        "import dnnlib\n",
        "\n",
        "from training import training_loop\n",
        "from torch_utils import training_stats\n",
        "from train import init_dataset_kwargs\n",
        "from metrics import metric_main"
      ]
    },
    {
      "cell_type": "code",
      "execution_count": 17,
      "metadata": {
        "id": "Q-VAjxpv9s3T"
      },
      "outputs": [],
      "source": [
        "def launch_training(c, desc, outdir, rank=0):\n",
        "    # Pick output directory.(出力用ディレクトリの選択)\n",
        "    prev_run_dirs = []\n",
        "    if os.path.isdir(outdir):\n",
        "        prev_run_dirs = [x for x in os.listdir(outdir) if os.path.isdir(os.path.join(outdir, x))]\n",
        "\n",
        "    matching_dirs = [re.fullmatch(r'\\d{5}' + f'-{desc}', x) for x in prev_run_dirs if re.fullmatch(r'\\d{5}' + f'-{desc}', x) is not None]\n",
        "    if c.restart_every > 0 and len(matching_dirs) > 0:  # expect unique desc, continue in this directory\n",
        "        assert len(matching_dirs) == 1, f'Multiple directories found for resuming: {matching_dirs}'\n",
        "        c.run_dir = os.path.join(outdir, matching_dirs[0].group())\n",
        "    else:                     # fallback to standard\n",
        "        prev_run_ids = [re.match(r'^\\d+', x) for x in prev_run_dirs]\n",
        "        prev_run_ids = [int(x.group()) for x in prev_run_ids if x is not None]\n",
        "        cur_run_id = max(prev_run_ids, default=-1) + 1\n",
        "        c.run_dir = os.path.join(outdir, f'{cur_run_id:05d}-{desc}')\n",
        "        assert not os.path.exists(c.run_dir)\n",
        "\n",
        "\n",
        "    # Print options.\n",
        "    print()\n",
        "    print('Training options:')\n",
        "    print(json.dumps(c, indent=2))\n",
        "    print()\n",
        "    print(f'Output directory:    {c.run_dir}')\n",
        "    print(f'Number of GPUs:      {c.num_gpus}')\n",
        "    print(f'Batch size:          {c.batch_size} images')\n",
        "    print(f'Training duration:   {c.total_kimg} kimg')\n",
        "    print(f'Dataset path:        {c.training_set_kwargs.path}')\n",
        "    print(f'Dataset size:        {c.training_set_kwargs.max_size} images')\n",
        "    print(f'Dataset resolution:  {c.training_set_kwargs.resolution}')\n",
        "    print(f'Dataset labels:      {c.training_set_kwargs.use_labels}')\n",
        "    print(f'Dataset x-flips:     {c.training_set_kwargs.xflip}')\n",
        "    print()\n",
        "\n",
        "    # Create output directory.(出力用ディレクトリの作成)\n",
        "    print('Creating output directory...')\n",
        "    os.makedirs(c.run_dir, exist_ok=c.restart_every > 0)\n",
        "    with open(os.path.join(c.run_dir, 'training_options.json'), 'wt+') as f:\n",
        "        json.dump(c, f, indent=2)\n",
        "\n",
        "    # Start training\n",
        "    dnnlib.util.Logger(file_name=os.path.join(c.run_dir, 'log.txt'), file_mode='a', should_flush=False)\n",
        "    sync_device = torch.device('cuda', rank) if c.num_gpus > 1 else None\n",
        "    training_stats.init_multiprocessing(rank=rank, sync_device=sync_device)\n",
        "    training_loop.training_loop(rank=rank, **c)"
      ]
    },
    {
      "cell_type": "code",
      "execution_count": 18,
      "metadata": {
        "id": "yqqzoKQk9tRt"
      },
      "outputs": [],
      "source": [
        "def train(**kwargs):#kwargs=可変引数キーワード引数を辞書として受け取る\n",
        "    # Initialize config.(configの初期化)\n",
        "    opts = dnnlib.EasyDict(kwargs) # Command line arguments.\n",
        "    c = dnnlib.EasyDict() # Main config dict.\n",
        "    c.G_kwargs = dnnlib.EasyDict(class_name=None, z_dim=64, w_dim=128, mapping_kwargs=dnnlib.EasyDict())\n",
        "    c.G_opt_kwargs = dnnlib.EasyDict(class_name='torch.optim.Adam', betas=[0,0.99], eps=1e-8)\n",
        "    c.D_opt_kwargs = dnnlib.EasyDict(class_name='torch.optim.Adam', betas=[0,0.99], eps=1e-8)\n",
        "    c.data_loader_kwargs = dnnlib.EasyDict(pin_memory=True, prefetch_factor=2)\n",
        "\n",
        "    # Training set.(訓練データの生成)\n",
        "    c.training_set_kwargs, dataset_name = init_dataset_kwargs(data=opts.data)\n",
        "    if opts.cond and not c.training_set_kwargs.use_labels:\n",
        "        raise ValueError('--cond=True requires labels specified in dataset.json')\n",
        "    c.training_set_kwargs.use_labels = opts.cond\n",
        "    c.training_set_kwargs.xflip = opts.mirror\n",
        "\n",
        "    # Hyperparameters & settings.(ハイパーパラメータの設定)\n",
        "    c.num_gpus = opts.gpus\n",
        "    c.batch_size = opts.batch\n",
        "    c.batch_gpu = opts.batch_gpu or opts.batch // opts.gpus\n",
        "    c.G_kwargs.channel_base = opts.cbase\n",
        "    c.G_kwargs.channel_max = opts.cmax\n",
        "    c.G_kwargs.mapping_kwargs.num_layers = 2\n",
        "    c.G_opt_kwargs.lr = (0.002 if opts.cfg == 'stylegan2' else 0.0025) if opts.glr is None else opts.glr\n",
        "    c.D_opt_kwargs.lr = opts.dlr\n",
        "    c.metrics = opts.metrics\n",
        "    c.total_kimg = opts.kimg\n",
        "    c.kimg_per_tick = opts.tick\n",
        "    c.image_snapshot_ticks = c.network_snapshot_ticks = opts.snap\n",
        "    c.random_seed = c.training_set_kwargs.random_seed = opts.seed\n",
        "    c.data_loader_kwargs.num_workers = opts.workers\n",
        "\n",
        "    # Sanity checks.(バグ確認)\n",
        "    if c.batch_size % c.num_gpus != 0:\n",
        "        raise ValueError('--batch must be a multiple of --gpus')\n",
        "    if c.batch_size % (c.num_gpus * c.batch_gpu) != 0:\n",
        "        raise ValueError('--batch must be a multiple of --gpus times --batch-gpu')\n",
        "    if any(not metric_main.is_valid_metric(metric) for metric in c.metrics):\n",
        "        raise ValueError('\\n'.join(['--metrics can only contain the following values:'] + metric_main.list_valid_metrics()))\n",
        "\n",
        "    # Base configuration.(基本構成定義？)(cfgでganの種類を定義(stylegan2 or fastgan))\n",
        "    c.ema_kimg = c.batch_size * 10 / 32\n",
        "    if opts.cfg == 'stylegan2':\n",
        "        c.G_kwargs.class_name = 'pg_modules.networks_stylegan2.Generator'\n",
        "        c.G_kwargs.fused_modconv_default = 'inference_only' # Speed up training by using regular convolutions instead of grouped convolutions.\n",
        "        use_separable_discs = True\n",
        "\n",
        "    elif opts.cfg == 'fastgan':\n",
        "        c.G_kwargs = dnnlib.EasyDict(class_name='pg_modules.networks_fastgan.Generator', cond=opts.cond)\n",
        "        c.G_opt_kwargs.lr = c.D_opt_kwargs.lr = 0.0002\n",
        "        use_separable_discs = False\n",
        "\n",
        "    # Restart.(やり直し)\n",
        "    c.restart_every = opts.restart_every\n",
        "\n",
        "    # Description string.(説明)\n",
        "    desc = f'{opts.cfg:s}-{dataset_name:s}-gpus{c.num_gpus:d}-batch{c.batch_size:d}'\n",
        "    if opts.desc is not None:\n",
        "        desc += f'-{opts.desc}'\n",
        "\n",
        "    # Projected and Multi-Scale Discriminators\n",
        "    c.loss_kwargs = dnnlib.EasyDict(class_name='training.loss.ProjectedGANLoss')\n",
        "    c.D_kwargs = dnnlib.EasyDict(\n",
        "        class_name='pg_modules.discriminator.ProjectedDiscriminator',\n",
        "        diffaug=True,\n",
        "        interp224=(c.training_set_kwargs.resolution < 224),\n",
        "        backbone_kwargs=dnnlib.EasyDict(),\n",
        "    )\n",
        "\n",
        "    c.D_kwargs.backbone_kwargs.cout = 64\n",
        "    c.D_kwargs.backbone_kwargs.expand = True\n",
        "    c.D_kwargs.backbone_kwargs.proj_type = 2\n",
        "    c.D_kwargs.backbone_kwargs.num_discs = 4\n",
        "    c.D_kwargs.backbone_kwargs.separable = use_separable_discs\n",
        "    c.D_kwargs.backbone_kwargs.cond = opts.cond\n",
        "\n",
        "    # Launch.\n",
        "    launch_training(c=c, desc=desc, outdir=opts.outdir)"
      ]
    },
    {
      "cell_type": "code",
      "execution_count": 20,
      "metadata": {
        "id": "uKHfWFKe9tWB",
        "outputId": "5a3f82e7-f3f8-4b08-83cd-c0ac3da0ed3d",
        "colab": {
          "base_uri": "https://localhost:8080/",
          "height": 377
        }
      },
      "outputs": [
        {
          "output_type": "error",
          "ename": "AssertionError",
          "evalue": "ignored",
          "traceback": [
            "\u001b[0;31m---------------------------------------------------------------------------\u001b[0m",
            "\u001b[0;31mAssertionError\u001b[0m                            Traceback (most recent call last)",
            "\u001b[0;32m<ipython-input-20-0f9a64453673>\u001b[0m in \u001b[0;36m<module>\u001b[0;34m()\u001b[0m\n\u001b[1;32m     22\u001b[0m     \u001b[0mseed\u001b[0m\u001b[0;34m=\u001b[0m\u001b[0;36m0\u001b[0m\u001b[0;34m,\u001b[0m\u001b[0;34m\u001b[0m\u001b[0;34m\u001b[0m\u001b[0m\n\u001b[1;32m     23\u001b[0m     \u001b[0mworkers\u001b[0m\u001b[0;34m=\u001b[0m\u001b[0;36m0\u001b[0m\u001b[0;34m,\u001b[0m\u001b[0;34m\u001b[0m\u001b[0;34m\u001b[0m\u001b[0m\n\u001b[0;32m---> 24\u001b[0;31m     \u001b[0mrestart_every\u001b[0m\u001b[0;34m=\u001b[0m\u001b[0;36m999999\u001b[0m\u001b[0;34m,\u001b[0m\u001b[0;34m\u001b[0m\u001b[0;34m\u001b[0m\u001b[0m\n\u001b[0m\u001b[1;32m     25\u001b[0m )\n",
            "\u001b[0;32m<ipython-input-18-1817d67a9e4a>\u001b[0m in \u001b[0;36mtrain\u001b[0;34m(**kwargs)\u001b[0m\n\u001b[1;32m      9\u001b[0m \u001b[0;34m\u001b[0m\u001b[0m\n\u001b[1;32m     10\u001b[0m     \u001b[0;31m# Training set.(訓練データの生成)\u001b[0m\u001b[0;34m\u001b[0m\u001b[0;34m\u001b[0m\u001b[0;34m\u001b[0m\u001b[0m\n\u001b[0;32m---> 11\u001b[0;31m     \u001b[0mc\u001b[0m\u001b[0;34m.\u001b[0m\u001b[0mtraining_set_kwargs\u001b[0m\u001b[0;34m,\u001b[0m \u001b[0mdataset_name\u001b[0m \u001b[0;34m=\u001b[0m \u001b[0minit_dataset_kwargs\u001b[0m\u001b[0;34m(\u001b[0m\u001b[0mdata\u001b[0m\u001b[0;34m=\u001b[0m\u001b[0mopts\u001b[0m\u001b[0;34m.\u001b[0m\u001b[0mdata\u001b[0m\u001b[0;34m)\u001b[0m\u001b[0;34m\u001b[0m\u001b[0;34m\u001b[0m\u001b[0m\n\u001b[0m\u001b[1;32m     12\u001b[0m     \u001b[0;32mif\u001b[0m \u001b[0mopts\u001b[0m\u001b[0;34m.\u001b[0m\u001b[0mcond\u001b[0m \u001b[0;32mand\u001b[0m \u001b[0;32mnot\u001b[0m \u001b[0mc\u001b[0m\u001b[0;34m.\u001b[0m\u001b[0mtraining_set_kwargs\u001b[0m\u001b[0;34m.\u001b[0m\u001b[0muse_labels\u001b[0m\u001b[0;34m:\u001b[0m\u001b[0;34m\u001b[0m\u001b[0;34m\u001b[0m\u001b[0m\n\u001b[1;32m     13\u001b[0m         \u001b[0;32mraise\u001b[0m \u001b[0mValueError\u001b[0m\u001b[0;34m(\u001b[0m\u001b[0;34m'--cond=True requires labels specified in dataset.json'\u001b[0m\u001b[0;34m)\u001b[0m\u001b[0;34m\u001b[0m\u001b[0;34m\u001b[0m\u001b[0m\n",
            "\u001b[0;32m/content/projected_gan/projected_gan/train.py\u001b[0m in \u001b[0;36minit_dataset_kwargs\u001b[0;34m(data)\u001b[0m\n\u001b[1;32m    108\u001b[0m         \u001b[0mdataset_kwargs\u001b[0m \u001b[0;34m=\u001b[0m \u001b[0mdnnlib\u001b[0m\u001b[0;34m.\u001b[0m\u001b[0mEasyDict\u001b[0m\u001b[0;34m(\u001b[0m\u001b[0mclass_name\u001b[0m\u001b[0;34m=\u001b[0m\u001b[0;34m'training.dataset.ImageFolderDataset'\u001b[0m\u001b[0;34m,\u001b[0m \u001b[0mpath\u001b[0m\u001b[0;34m=\u001b[0m\u001b[0mdata\u001b[0m\u001b[0;34m,\u001b[0m \u001b[0muse_labels\u001b[0m\u001b[0;34m=\u001b[0m\u001b[0;32mTrue\u001b[0m\u001b[0;34m,\u001b[0m \u001b[0mmax_size\u001b[0m\u001b[0;34m=\u001b[0m\u001b[0;32mNone\u001b[0m\u001b[0;34m,\u001b[0m \u001b[0mxflip\u001b[0m\u001b[0;34m=\u001b[0m\u001b[0;32mFalse\u001b[0m\u001b[0;34m)\u001b[0m\u001b[0;34m\u001b[0m\u001b[0;34m\u001b[0m\u001b[0m\n\u001b[1;32m    109\u001b[0m         \u001b[0mdataset_obj\u001b[0m \u001b[0;34m=\u001b[0m \u001b[0mdnnlib\u001b[0m\u001b[0;34m.\u001b[0m\u001b[0mutil\u001b[0m\u001b[0;34m.\u001b[0m\u001b[0mconstruct_class_by_name\u001b[0m\u001b[0;34m(\u001b[0m\u001b[0;34m**\u001b[0m\u001b[0mdataset_kwargs\u001b[0m\u001b[0;34m)\u001b[0m \u001b[0;31m# Subclass of training.dataset.Dataset.\u001b[0m\u001b[0;34m\u001b[0m\u001b[0;34m\u001b[0m\u001b[0m\n\u001b[0;32m--> 110\u001b[0;31m         \u001b[0mdataset_kwargs\u001b[0m\u001b[0;34m.\u001b[0m\u001b[0mresolution\u001b[0m \u001b[0;34m=\u001b[0m \u001b[0mdataset_obj\u001b[0m\u001b[0;34m.\u001b[0m\u001b[0mresolution\u001b[0m \u001b[0;31m# Be explicit about resolution.\u001b[0m\u001b[0;34m\u001b[0m\u001b[0;34m\u001b[0m\u001b[0m\n\u001b[0m\u001b[1;32m    111\u001b[0m         \u001b[0mdataset_kwargs\u001b[0m\u001b[0;34m.\u001b[0m\u001b[0muse_labels\u001b[0m \u001b[0;34m=\u001b[0m \u001b[0mdataset_obj\u001b[0m\u001b[0;34m.\u001b[0m\u001b[0mhas_labels\u001b[0m \u001b[0;31m# Be explicit about labels.\u001b[0m\u001b[0;34m\u001b[0m\u001b[0;34m\u001b[0m\u001b[0m\n\u001b[1;32m    112\u001b[0m         \u001b[0mdataset_kwargs\u001b[0m\u001b[0;34m.\u001b[0m\u001b[0mmax_size\u001b[0m \u001b[0;34m=\u001b[0m \u001b[0mlen\u001b[0m\u001b[0;34m(\u001b[0m\u001b[0mdataset_obj\u001b[0m\u001b[0;34m)\u001b[0m \u001b[0;31m# Be explicit about dataset size.\u001b[0m\u001b[0;34m\u001b[0m\u001b[0;34m\u001b[0m\u001b[0m\n",
            "\u001b[0;32m/content/projected_gan/projected_gan/training/dataset.py\u001b[0m in \u001b[0;36mresolution\u001b[0;34m(self)\u001b[0m\n\u001b[1;32m    140\u001b[0m     \u001b[0;32mdef\u001b[0m \u001b[0mresolution\u001b[0m\u001b[0;34m(\u001b[0m\u001b[0mself\u001b[0m\u001b[0;34m)\u001b[0m\u001b[0;34m:\u001b[0m\u001b[0;34m\u001b[0m\u001b[0;34m\u001b[0m\u001b[0m\n\u001b[1;32m    141\u001b[0m         \u001b[0;32massert\u001b[0m \u001b[0mlen\u001b[0m\u001b[0;34m(\u001b[0m\u001b[0mself\u001b[0m\u001b[0;34m.\u001b[0m\u001b[0mimage_shape\u001b[0m\u001b[0;34m)\u001b[0m \u001b[0;34m==\u001b[0m \u001b[0;36m3\u001b[0m \u001b[0;31m# CHW\u001b[0m\u001b[0;34m\u001b[0m\u001b[0;34m\u001b[0m\u001b[0m\n\u001b[0;32m--> 142\u001b[0;31m         \u001b[0;32massert\u001b[0m \u001b[0mself\u001b[0m\u001b[0;34m.\u001b[0m\u001b[0mimage_shape\u001b[0m\u001b[0;34m[\u001b[0m\u001b[0;36m1\u001b[0m\u001b[0;34m]\u001b[0m \u001b[0;34m==\u001b[0m \u001b[0mself\u001b[0m\u001b[0;34m.\u001b[0m\u001b[0mimage_shape\u001b[0m\u001b[0;34m[\u001b[0m\u001b[0;36m2\u001b[0m\u001b[0;34m]\u001b[0m\u001b[0;34m\u001b[0m\u001b[0;34m\u001b[0m\u001b[0m\n\u001b[0m\u001b[1;32m    143\u001b[0m         \u001b[0;32mreturn\u001b[0m \u001b[0mself\u001b[0m\u001b[0;34m.\u001b[0m\u001b[0mimage_shape\u001b[0m\u001b[0;34m[\u001b[0m\u001b[0;36m1\u001b[0m\u001b[0;34m]\u001b[0m\u001b[0;34m\u001b[0m\u001b[0;34m\u001b[0m\u001b[0m\n\u001b[1;32m    144\u001b[0m \u001b[0;34m\u001b[0m\u001b[0m\n",
            "\u001b[0;31mAssertionError\u001b[0m: "
          ]
        }
      ],
      "source": [
        "# start training!\n",
        "\n",
        "train(\n",
        "    outdir='training-runs', #出力用ディレクトリ\n",
        "    cfg='fastgan',#ganの選択\n",
        "    #data='./data/art_painting256.zip', #訓練データ置き場\n",
        "    data='./data/zipfgosava.zip', #訓練データ置き場,\n",
        "    gpus=1, #gpusの数設定\n",
        "    batch=64, #batchのsize\n",
        "    cond=False, #\n",
        "    mirror=1, \n",
        "    batch_gpu=8, \n",
        "    cbase=32768, \n",
        "    cmax=512, \n",
        "    glr=None, \n",
        "    dlr=0.002, \n",
        "    desc='', \n",
        "    metrics=[],\n",
        "    kimg=10000, \n",
        "    tick=4, \n",
        "    snap=1, \n",
        "    seed=0, \n",
        "    workers=0,\n",
        "    restart_every=999999,\n",
        ")"
      ]
    },
    {
      "cell_type": "markdown",
      "metadata": {
        "id": "MqYeDzg3KUMG"
      },
      "source": [
        "To inspect the samples, click on the folder symbol on the left and navigate to \n",
        "\n",
        "```projected_gan/training-runs/YOUR_RUN```\n",
        "\n",
        "The files ```fakesXXXXXX.png``` are the samples for a fixed noise vector at point."
      ]
    }
  ],
  "metadata": {
    "accelerator": "GPU",
    "colab": {
      "collapsed_sections": [],
      "name": "projected_gan.ipynb",
      "provenance": [],
      "include_colab_link": true
    },
    "kernelspec": {
      "display_name": "Python 3",
      "name": "python3"
    },
    "language_info": {
      "name": "python"
    }
  },
  "nbformat": 4,
  "nbformat_minor": 0
}