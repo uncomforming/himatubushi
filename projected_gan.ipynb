{
  "cells": [
    {
      "cell_type": "markdown",
      "metadata": {
        "id": "view-in-github",
        "colab_type": "text"
      },
      "source": [
        "<a href=\"https://colab.research.google.com/github/uncomforming/himatubushi/blob/main/projected_gan.ipynb\" target=\"_parent\"><img src=\"https://colab.research.google.com/assets/colab-badge.svg\" alt=\"Open In Colab\"/></a>"
      ]
    },
    {
      "cell_type": "markdown",
      "source": [
        "ドライブの画像データの前処理"
      ],
      "metadata": {
        "id": "0NsAUwmM2U-C"
      }
    },
    {
      "cell_type": "code",
      "source": [
        "import shutil\n",
        "#driveにマウントしてdriveの画像を使えるように\n",
        "from google.colab import drive\n",
        "from PIL import Image\n",
        "drive.mount('/content/drive')\n",
        "%mkdir \"/content/fgopng/0000\"\n",
        "%cp /content/drive/MyDrive/fgosava/dataset.json /content/fgopng\n",
        "for j in range(342):\n",
        "  i =j+1\n",
        "  try:\n",
        "     im = Image.open(f'/content/drive/MyDrive/fgosava/0000/{i:3}.jpg')\n",
        "     im.save(f'/content/fgopng/0000/{i:03}.png')\n",
        "  except:\n",
        "    pass\n",
        "shutil.make_archive('/content/zipfgosava', format='zip', root_dir='/content/fgopng')"
      ],
      "metadata": {
        "id": "Nkzl6gp6YjW1",
        "outputId": "8f48d646-0824-473e-fe54-01ce67ff7188",
        "colab": {
          "base_uri": "https://localhost:8080/",
          "height": 72
        }
      },
      "execution_count": 32,
      "outputs": [
        {
          "output_type": "stream",
          "name": "stdout",
          "text": [
            "Drive already mounted at /content/drive; to attempt to forcibly remount, call drive.mount(\"/content/drive\", force_remount=True).\n",
            "mkdir: cannot create directory ‘/content/fgopng/0000’: File exists\n"
          ]
        },
        {
          "output_type": "execute_result",
          "data": {
            "text/plain": [
              "'/content/zipfgosava.zip'"
            ],
            "application/vnd.google.colaboratory.intrinsic+json": {
              "type": "string"
            }
          },
          "metadata": {},
          "execution_count": 32
        }
      ]
    },
    {
      "cell_type": "markdown",
      "metadata": {
        "id": "RUaixszCnlKd"
      },
      "source": [
        "\n",
        "# Training Projected GAN\n",
        "This is a self-contained notebook for training Projected GAN."
      ]
    },
    {
      "cell_type": "markdown",
      "metadata": {
        "id": "SBwzYACTn05w"
      },
      "source": [
        "## Setup\n",
        "\n",
        "Make sure you're running a GPU runtime; if not, select \"GPU\" as the hardware accelerator in Runtime > Change Runtime Type in the menu. \n",
        "\n",
        "Now, get the repo and install missing dependencies.\n",
        "\n",
        "日本語訳\n",
        "GPU ランタイムを実行していることを確認します。そうでない場合は、メニューの Runtime > Change Runtime Type でハードウェアアクセラレータとして \"GPU\" を選択します。\n",
        "\n",
        "さて、レポを入手し、不足している依存関係をインストールします。\n"
      ]
    },
    {
      "cell_type": "markdown",
      "metadata": {
        "id": "YRrYJBn1Yf3q"
      },
      "source": [
        "git pull#コマンド実行\n",
        "\n",
        "git add .#コミット対象に変更\n",
        "\n",
        "git commit#コミット\n",
        "\n",
        "git push#更新を反映\n",
        "\n"
      ]
    },
    {
      "cell_type": "code",
      "execution_count": 33,
      "metadata": {
        "id": "VZ3pwUJSoOdO"
      },
      "outputs": [],
      "source": [
        "#captureで画面に表示、bashでbashコマンドを有効に（このセル内のみ）\n",
        "%%capture\n",
        "%%bash\n",
        "# clone repo\n",
        "git clone https://github.com/autonomousvision/projected_gan\n",
        "pip install timm dill"
      ]
    },
    {
      "cell_type": "code",
      "execution_count": 34,
      "metadata": {
        "id": "i4N21o-gzMjB",
        "outputId": "50cc0f3d-0913-44df-bbdc-95013343ccd8",
        "colab": {
          "base_uri": "https://localhost:8080/"
        }
      },
      "outputs": [
        {
          "output_type": "stream",
          "name": "stdout",
          "text": [
            "/projected_gan\n"
          ]
        }
      ],
      "source": [
        "%cd projected_gan"
      ]
    },
    {
      "cell_type": "markdown",
      "metadata": {
        "id": "G0hD7dKQR00t"
      },
      "source": [
        "## Data Preparation\n",
        "データの準備。大きなファイルをdriveから持ってくるからgdownを使う\n",
        "We need to download and prepare the data. In this example, we use the few-shot datasets of the [FastGAN repo](https://github.com/odegeasslbc/FastGAN-pytorch)."
      ]
    },
    {
      "cell_type": "code",
      "execution_count": 35,
      "metadata": {
        "colab": {
          "base_uri": "https://localhost:8080/"
        },
        "id": "1mz2_Eynze8K",
        "outputId": "eab17f5f-475e-4bfa-ccd0-01621a44c79a"
      },
      "outputs": [
        {
          "output_type": "stream",
          "name": "stdout",
          "text": [
            "Downloading...\n",
            "From: https://drive.google.com/u/0/uc?id=1aAJCZbXNHyraJ6Mi13dSbe7pTyfPXha0\n",
            "To: /projected_gan/few-shot-image-datasets.zip\n",
            "100% 913M/913M [00:04<00:00, 219MB/s]\n"
          ]
        }
      ],
      "source": [
        "#gdownでdriveから大きなファイルをダウンロード\n",
        "!gdown https://drive.google.com/u/0/uc?id=1aAJCZbXNHyraJ6Mi13dSbe7pTyfPXha0&export=download"
      ]
    },
    {
      "cell_type": "code",
      "execution_count": 36,
      "metadata": {
        "id": "S6NTT3zVzesu"
      },
      "outputs": [],
      "source": [
        "#captureで画面に表示\n",
        "%%capture\n",
        "!unzip few-shot-image-datasets.zip\n",
        "!mv few-shot-images data"
      ]
    },
    {
      "cell_type": "code",
      "execution_count": 37,
      "metadata": {
        "id": "_TnMmxJrPFZs",
        "outputId": "cd77806a-b9c2-47bd-9263-05080c3d4b30",
        "colab": {
          "base_uri": "https://localhost:8080/"
        }
      },
      "outputs": [
        {
          "output_type": "stream",
          "name": "stderr",
          "text": [
            "\r  0%|          | 0/1000 [00:00<?, ?it/s]\r  0%|          | 5/1000 [00:00<00:20, 49.18it/s]\r  1%|          | 11/1000 [00:00<00:19, 50.85it/s]\r  2%|▏         | 17/1000 [00:00<00:18, 52.30it/s]\r  2%|▏         | 23/1000 [00:00<00:18, 53.67it/s]\r  3%|▎         | 29/1000 [00:00<00:17, 54.90it/s]\r  4%|▎         | 35/1000 [00:00<00:17, 55.58it/s]\r  4%|▍         | 41/1000 [00:00<00:17, 55.26it/s]\r  5%|▍         | 47/1000 [00:00<00:17, 55.21it/s]\r  5%|▌         | 53/1000 [00:00<00:17, 54.68it/s]\r  6%|▌         | 59/1000 [00:01<00:17, 54.98it/s]\r  6%|▋         | 65/1000 [00:01<00:17, 54.54it/s]\r  7%|▋         | 71/1000 [00:01<00:17, 53.79it/s]\r  8%|▊         | 77/1000 [00:01<00:17, 54.03it/s]\r  8%|▊         | 83/1000 [00:01<00:16, 54.71it/s]\r  9%|▉         | 89/1000 [00:01<00:16, 54.99it/s]\r 10%|▉         | 95/1000 [00:01<00:16, 55.25it/s]\r 10%|█         | 101/1000 [00:01<00:16, 55.48it/s]\r 11%|█         | 107/1000 [00:01<00:16, 54.72it/s]\r 11%|█▏        | 113/1000 [00:02<00:16, 54.62it/s]\r 12%|█▏        | 119/1000 [00:02<00:15, 55.40it/s]\r 12%|█▎        | 125/1000 [00:02<00:15, 54.80it/s]\r 13%|█▎        | 131/1000 [00:02<00:15, 55.07it/s]\r 14%|█▎        | 137/1000 [00:02<00:15, 55.15it/s]\r 14%|█▍        | 143/1000 [00:02<00:15, 55.85it/s]\r 15%|█▍        | 149/1000 [00:02<00:15, 56.12it/s]\r 16%|█▌        | 155/1000 [00:02<00:15, 56.05it/s]\r 16%|█▌        | 161/1000 [00:02<00:14, 56.15it/s]\r 17%|█▋        | 167/1000 [00:03<00:15, 55.15it/s]\r 17%|█▋        | 173/1000 [00:03<00:15, 54.72it/s]\r 18%|█▊        | 179/1000 [00:03<00:15, 53.95it/s]\r 18%|█▊        | 185/1000 [00:03<00:14, 54.52it/s]\r 19%|█▉        | 191/1000 [00:03<00:14, 54.96it/s]\r 20%|█▉        | 197/1000 [00:03<00:14, 55.61it/s]\r 20%|██        | 203/1000 [00:03<00:14, 54.60it/s]\r 21%|██        | 209/1000 [00:03<00:14, 54.92it/s]\r 22%|██▏       | 215/1000 [00:03<00:14, 55.18it/s]\r 22%|██▏       | 221/1000 [00:04<00:14, 55.27it/s]\r 23%|██▎       | 227/1000 [00:04<00:13, 55.54it/s]\r 23%|██▎       | 233/1000 [00:04<00:13, 55.92it/s]\r 24%|██▍       | 239/1000 [00:04<00:13, 54.91it/s]\r 24%|██▍       | 245/1000 [00:04<00:13, 54.66it/s]\r 25%|██▌       | 251/1000 [00:04<00:13, 54.88it/s]\r 26%|██▌       | 257/1000 [00:04<00:13, 55.11it/s]\r 26%|██▋       | 263/1000 [00:04<00:13, 56.00it/s]\r 27%|██▋       | 269/1000 [00:04<00:13, 55.84it/s]\r 28%|██▊       | 275/1000 [00:05<00:13, 55.54it/s]\r 28%|██▊       | 281/1000 [00:05<00:13, 55.29it/s]\r 29%|██▊       | 287/1000 [00:05<00:12, 55.64it/s]\r 29%|██▉       | 293/1000 [00:05<00:12, 55.12it/s]\r 30%|██▉       | 299/1000 [00:05<00:13, 53.37it/s]\r 30%|███       | 305/1000 [00:05<00:12, 54.44it/s]\r 31%|███       | 311/1000 [00:05<00:12, 55.33it/s]\r 32%|███▏      | 317/1000 [00:05<00:12, 55.76it/s]\r 32%|███▏      | 323/1000 [00:05<00:12, 55.83it/s]\r 33%|███▎      | 329/1000 [00:05<00:12, 55.24it/s]\r 34%|███▎      | 335/1000 [00:06<00:12, 54.22it/s]\r 34%|███▍      | 341/1000 [00:06<00:12, 54.38it/s]\r 35%|███▍      | 347/1000 [00:06<00:12, 53.81it/s]\r 35%|███▌      | 353/1000 [00:06<00:12, 53.87it/s]\r 36%|███▌      | 359/1000 [00:06<00:11, 54.35it/s]\r 36%|███▋      | 365/1000 [00:06<00:11, 54.66it/s]\r 37%|███▋      | 371/1000 [00:06<00:11, 54.83it/s]\r 38%|███▊      | 377/1000 [00:06<00:11, 55.64it/s]\r 38%|███▊      | 383/1000 [00:06<00:11, 55.65it/s]\r 39%|███▉      | 389/1000 [00:07<00:10, 55.80it/s]\r 40%|███▉      | 395/1000 [00:07<00:10, 55.84it/s]\r 40%|████      | 401/1000 [00:07<00:10, 56.09it/s]\r 41%|████      | 407/1000 [00:07<00:11, 53.31it/s]\r 41%|████▏     | 413/1000 [00:07<00:10, 53.92it/s]\r 42%|████▏     | 419/1000 [00:07<00:10, 54.87it/s]\r 42%|████▎     | 425/1000 [00:07<00:10, 54.76it/s]\r 43%|████▎     | 431/1000 [00:07<00:10, 55.32it/s]\r 44%|████▎     | 437/1000 [00:07<00:10, 55.28it/s]\r 44%|████▍     | 443/1000 [00:08<00:09, 55.74it/s]\r 45%|████▍     | 449/1000 [00:08<00:09, 55.64it/s]\r 46%|████▌     | 455/1000 [00:08<00:10, 54.34it/s]\r 46%|████▌     | 461/1000 [00:08<00:09, 53.93it/s]\r 47%|████▋     | 467/1000 [00:08<00:10, 52.41it/s]\r 47%|████▋     | 473/1000 [00:08<00:09, 53.16it/s]\r 48%|████▊     | 479/1000 [00:08<00:09, 53.72it/s]\r 48%|████▊     | 485/1000 [00:08<00:09, 53.79it/s]\r 49%|████▉     | 491/1000 [00:08<00:09, 54.48it/s]\r 50%|████▉     | 497/1000 [00:09<00:09, 51.25it/s]\r 50%|█████     | 503/1000 [00:09<00:10, 47.03it/s]\r 51%|█████     | 508/1000 [00:09<00:12, 38.77it/s]\r 51%|█████▏    | 513/1000 [00:09<00:12, 38.45it/s]\r 52%|█████▏    | 518/1000 [00:09<00:12, 38.30it/s]\r 52%|█████▏    | 522/1000 [00:09<00:12, 37.98it/s]\r 53%|█████▎    | 526/1000 [00:09<00:12, 37.68it/s]\r 53%|█████▎    | 530/1000 [00:10<00:12, 37.61it/s]\r 53%|█████▎    | 534/1000 [00:10<00:12, 37.52it/s]\r 54%|█████▍    | 538/1000 [00:10<00:12, 37.46it/s]\r 54%|█████▍    | 542/1000 [00:10<00:12, 37.38it/s]\r 55%|█████▍    | 546/1000 [00:10<00:12, 36.84it/s]\r 55%|█████▌    | 550/1000 [00:10<00:12, 37.02it/s]\r 55%|█████▌    | 554/1000 [00:10<00:11, 37.50it/s]\r 56%|█████▌    | 558/1000 [00:10<00:11, 37.49it/s]\r 56%|█████▌    | 562/1000 [00:10<00:11, 37.37it/s]\r 57%|█████▋    | 566/1000 [00:10<00:11, 37.23it/s]\r 57%|█████▋    | 570/1000 [00:11<00:11, 36.70it/s]\r 57%|█████▋    | 574/1000 [00:11<00:11, 36.89it/s]\r 58%|█████▊    | 578/1000 [00:11<00:11, 36.59it/s]\r 58%|█████▊    | 582/1000 [00:11<00:11, 36.48it/s]\r 59%|█████▊    | 586/1000 [00:11<00:11, 36.52it/s]\r 59%|█████▉    | 590/1000 [00:11<00:11, 36.84it/s]\r 59%|█████▉    | 594/1000 [00:11<00:10, 36.92it/s]\r 60%|█████▉    | 598/1000 [00:11<00:10, 37.46it/s]\r 60%|██████    | 602/1000 [00:11<00:10, 37.33it/s]\r 61%|██████    | 606/1000 [00:12<00:10, 37.16it/s]\r 61%|██████    | 610/1000 [00:12<00:10, 36.60it/s]\r 61%|██████▏   | 614/1000 [00:12<00:10, 36.37it/s]\r 62%|██████▏   | 618/1000 [00:12<00:10, 35.79it/s]\r 62%|██████▏   | 622/1000 [00:12<00:10, 35.72it/s]\r 63%|██████▎   | 627/1000 [00:12<00:09, 37.99it/s]\r 63%|██████▎   | 633/1000 [00:12<00:08, 42.60it/s]\r 64%|██████▍   | 639/1000 [00:12<00:07, 46.40it/s]\r 64%|██████▍   | 645/1000 [00:12<00:07, 49.68it/s]\r 65%|██████▌   | 651/1000 [00:13<00:06, 50.90it/s]\r 66%|██████▌   | 657/1000 [00:13<00:06, 51.36it/s]\r 66%|██████▋   | 663/1000 [00:13<00:06, 52.50it/s]\r 67%|██████▋   | 669/1000 [00:13<00:06, 52.40it/s]\r 68%|██████▊   | 675/1000 [00:13<00:06, 53.14it/s]\r 68%|██████▊   | 681/1000 [00:13<00:06, 52.59it/s]\r 69%|██████▊   | 687/1000 [00:13<00:05, 52.78it/s]\r 69%|██████▉   | 693/1000 [00:13<00:05, 52.98it/s]\r 70%|██████▉   | 699/1000 [00:13<00:05, 53.07it/s]\r 70%|███████   | 705/1000 [00:14<00:05, 53.67it/s]\r 71%|███████   | 711/1000 [00:14<00:05, 54.01it/s]\r 72%|███████▏  | 717/1000 [00:14<00:05, 53.92it/s]\r 72%|███████▏  | 723/1000 [00:14<00:05, 53.72it/s]\r 73%|███████▎  | 729/1000 [00:14<00:05, 47.64it/s]\r 74%|███████▎  | 735/1000 [00:14<00:05, 49.99it/s]\r 74%|███████▍  | 741/1000 [00:14<00:04, 51.81it/s]\r 75%|███████▍  | 747/1000 [00:14<00:04, 52.55it/s]\r 75%|███████▌  | 753/1000 [00:15<00:04, 53.04it/s]\r 76%|███████▌  | 759/1000 [00:15<00:04, 53.77it/s]\r 76%|███████▋  | 765/1000 [00:15<00:04, 54.69it/s]\r 77%|███████▋  | 771/1000 [00:15<00:04, 55.08it/s]\r 78%|███████▊  | 777/1000 [00:15<00:04, 55.26it/s]\r 78%|███████▊  | 783/1000 [00:15<00:03, 55.35it/s]\r 79%|███████▉  | 789/1000 [00:15<00:03, 55.08it/s]\r 80%|███████▉  | 795/1000 [00:15<00:03, 55.40it/s]\r 80%|████████  | 801/1000 [00:15<00:03, 55.48it/s]\r 81%|████████  | 807/1000 [00:15<00:03, 55.76it/s]\r 81%|████████▏ | 813/1000 [00:16<00:03, 54.95it/s]\r 82%|████████▏ | 819/1000 [00:16<00:03, 54.96it/s]\r 82%|████████▎ | 825/1000 [00:16<00:03, 54.35it/s]\r 83%|████████▎ | 831/1000 [00:16<00:03, 54.89it/s]\r 84%|████████▎ | 837/1000 [00:16<00:02, 55.06it/s]\r 84%|████████▍ | 843/1000 [00:16<00:02, 54.58it/s]\r 85%|████████▍ | 849/1000 [00:16<00:02, 54.98it/s]\r 86%|████████▌ | 855/1000 [00:16<00:02, 55.20it/s]\r 86%|████████▌ | 861/1000 [00:16<00:02, 55.66it/s]\r 87%|████████▋ | 867/1000 [00:17<00:02, 55.56it/s]\r 87%|████████▋ | 873/1000 [00:17<00:02, 55.89it/s]\r 88%|████████▊ | 879/1000 [00:17<00:02, 55.23it/s]\r 88%|████████▊ | 885/1000 [00:17<00:02, 55.24it/s]\r 89%|████████▉ | 891/1000 [00:17<00:01, 55.54it/s]\r 90%|████████▉ | 897/1000 [00:17<00:01, 55.11it/s]\r 90%|█████████ | 903/1000 [00:17<00:01, 53.82it/s]\r 91%|█████████ | 909/1000 [00:17<00:01, 54.32it/s]\r 92%|█████████▏| 915/1000 [00:17<00:01, 54.87it/s]\r 92%|█████████▏| 921/1000 [00:18<00:01, 55.26it/s]\r 93%|█████████▎| 927/1000 [00:18<00:01, 55.38it/s]\r 93%|█████████▎| 933/1000 [00:18<00:01, 55.55it/s]\r 94%|█████████▍| 939/1000 [00:18<00:01, 55.81it/s]\r 94%|█████████▍| 945/1000 [00:18<00:00, 55.82it/s]\r 95%|█████████▌| 951/1000 [00:18<00:00, 56.18it/s]\r 96%|█████████▌| 957/1000 [00:18<00:00, 55.04it/s]\r 96%|█████████▋| 963/1000 [00:18<00:00, 55.27it/s]\r 97%|█████████▋| 969/1000 [00:18<00:00, 55.40it/s]\r 98%|█████████▊| 975/1000 [00:19<00:00, 55.47it/s]\r 98%|█████████▊| 981/1000 [00:19<00:00, 55.72it/s]\r 99%|█████████▊| 987/1000 [00:19<00:00, 56.37it/s]\r 99%|█████████▉| 993/1000 [00:19<00:00, 56.32it/s]\r100%|█████████▉| 999/1000 [00:19<00:00, 55.85it/s]\r100%|██████████| 1000/1000 [00:19<00:00, 51.35it/s]\n"
          ]
        }
      ],
      "source": [
        "#bashでbashコマンドを有効に（このセル内のみ）\n",
        "%%bash\n",
        "python dataset_tool.py --source=./data/art-painting --dest=./data/art_painting256.zip --resolution=256x256"
      ]
    },
    {
      "cell_type": "markdown",
      "metadata": {
        "id": "OcS63jN9RMdy"
      },
      "source": [
        "## Training\n",
        "\n",
        "Now that the data is prepared, we can start training!  The training loop tracks FID, but the computations seems to lead to problems in colab. Hence, it is disable by default (```metrics=[]```). The loop also generates fixed noise samples after a defined amount of ticks, eg. below ```--snap=1```.\n",
        "\n",
        "日本語訳\n",
        "\n",
        "データの準備ができたので、トレーニングを開始します 学習ループはFIDを追跡しますが、その計算がcolabで問題になるようです。そのため、デフォルトでは無効になっています(metrics=[])。また、このループは、定義されたtick数の後に、固定ノイズサンプルを生成します。\n"
      ]
    },
    {
      "cell_type": "code",
      "execution_count": 38,
      "metadata": {
        "id": "Yrjw0aes9YV_"
      },
      "outputs": [],
      "source": [
        "import os\n",
        "import json\n",
        "import re\n",
        "import dnnlib\n",
        "\n",
        "from training import training_loop\n",
        "from torch_utils import training_stats\n",
        "from train import init_dataset_kwargs\n",
        "from metrics import metric_main"
      ]
    },
    {
      "cell_type": "code",
      "execution_count": 39,
      "metadata": {
        "id": "Q-VAjxpv9s3T"
      },
      "outputs": [],
      "source": [
        "def launch_training(c, desc, outdir, rank=0):\n",
        "    # Pick output directory.(出力用ディレクトリの選択)\n",
        "    prev_run_dirs = []\n",
        "    if os.path.isdir(outdir):\n",
        "        prev_run_dirs = [x for x in os.listdir(outdir) if os.path.isdir(os.path.join(outdir, x))]\n",
        "\n",
        "    matching_dirs = [re.fullmatch(r'\\d{5}' + f'-{desc}', x) for x in prev_run_dirs if re.fullmatch(r'\\d{5}' + f'-{desc}', x) is not None]\n",
        "    if c.restart_every > 0 and len(matching_dirs) > 0:  # expect unique desc, continue in this directory\n",
        "        assert len(matching_dirs) == 1, f'Multiple directories found for resuming: {matching_dirs}'\n",
        "        c.run_dir = os.path.join(outdir, matching_dirs[0].group())\n",
        "    else:                     # fallback to standard\n",
        "        prev_run_ids = [re.match(r'^\\d+', x) for x in prev_run_dirs]\n",
        "        prev_run_ids = [int(x.group()) for x in prev_run_ids if x is not None]\n",
        "        cur_run_id = max(prev_run_ids, default=-1) + 1\n",
        "        c.run_dir = os.path.join(outdir, f'{cur_run_id:05d}-{desc}')\n",
        "        assert not os.path.exists(c.run_dir)\n",
        "\n",
        "\n",
        "    # Print options.\n",
        "    print()\n",
        "    print('Training options:')\n",
        "    print(json.dumps(c, indent=2))\n",
        "    print()\n",
        "    print(f'Output directory:    {c.run_dir}')\n",
        "    print(f'Number of GPUs:      {c.num_gpus}')\n",
        "    print(f'Batch size:          {c.batch_size} images')\n",
        "    print(f'Training duration:   {c.total_kimg} kimg')\n",
        "    print(f'Dataset path:        {c.training_set_kwargs.path}')\n",
        "    print(f'Dataset size:        {c.training_set_kwargs.max_size} images')\n",
        "    print(f'Dataset resolution:  {c.training_set_kwargs.resolution}')\n",
        "    print(f'Dataset labels:      {c.training_set_kwargs.use_labels}')\n",
        "    print(f'Dataset x-flips:     {c.training_set_kwargs.xflip}')\n",
        "    print()\n",
        "\n",
        "    # Create output directory.(出力用ディレクトリの作成)\n",
        "    print('Creating output directory...')\n",
        "    os.makedirs(c.run_dir, exist_ok=c.restart_every > 0)\n",
        "    with open(os.path.join(c.run_dir, 'training_options.json'), 'wt+') as f:\n",
        "        json.dump(c, f, indent=2)\n",
        "\n",
        "    # Start training\n",
        "    dnnlib.util.Logger(file_name=os.path.join(c.run_dir, 'log.txt'), file_mode='a', should_flush=False)\n",
        "    sync_device = torch.device('cuda', rank) if c.num_gpus > 1 else None\n",
        "    training_stats.init_multiprocessing(rank=rank, sync_device=sync_device)\n",
        "    training_loop.training_loop(rank=rank, **c)"
      ]
    },
    {
      "cell_type": "code",
      "execution_count": 40,
      "metadata": {
        "id": "yqqzoKQk9tRt"
      },
      "outputs": [],
      "source": [
        "def train(**kwargs):#kwargs=可変引数キーワード引数を辞書として受け取る\n",
        "    # Initialize config.(configの初期化)\n",
        "    opts = dnnlib.EasyDict(kwargs) # Command line arguments.\n",
        "    c = dnnlib.EasyDict() # Main config dict.\n",
        "    c.G_kwargs = dnnlib.EasyDict(class_name=None, z_dim=64, w_dim=128, mapping_kwargs=dnnlib.EasyDict())\n",
        "    c.G_opt_kwargs = dnnlib.EasyDict(class_name='torch.optim.Adam', betas=[0,0.99], eps=1e-8)\n",
        "    c.D_opt_kwargs = dnnlib.EasyDict(class_name='torch.optim.Adam', betas=[0,0.99], eps=1e-8)\n",
        "    c.data_loader_kwargs = dnnlib.EasyDict(pin_memory=True, prefetch_factor=2)\n",
        "\n",
        "    # Training set.(訓練データの生成)\n",
        "    c.training_set_kwargs, dataset_name = init_dataset_kwargs(data=opts.data)\n",
        "    if opts.cond and not c.training_set_kwargs.use_labels:\n",
        "        raise ValueError('--cond=True requires labels specified in dataset.json')\n",
        "    c.training_set_kwargs.use_labels = opts.cond\n",
        "    c.training_set_kwargs.xflip = opts.mirror\n",
        "\n",
        "    # Hyperparameters & settings.(ハイパーパラメータの設定)\n",
        "    c.num_gpus = opts.gpus\n",
        "    c.batch_size = opts.batch\n",
        "    c.batch_gpu = opts.batch_gpu or opts.batch // opts.gpus\n",
        "    c.G_kwargs.channel_base = opts.cbase\n",
        "    c.G_kwargs.channel_max = opts.cmax\n",
        "    c.G_kwargs.mapping_kwargs.num_layers = 2\n",
        "    c.G_opt_kwargs.lr = (0.002 if opts.cfg == 'stylegan2' else 0.0025) if opts.glr is None else opts.glr\n",
        "    c.D_opt_kwargs.lr = opts.dlr\n",
        "    c.metrics = opts.metrics\n",
        "    c.total_kimg = opts.kimg\n",
        "    c.kimg_per_tick = opts.tick\n",
        "    c.image_snapshot_ticks = c.network_snapshot_ticks = opts.snap\n",
        "    c.random_seed = c.training_set_kwargs.random_seed = opts.seed\n",
        "    c.data_loader_kwargs.num_workers = opts.workers\n",
        "\n",
        "    # Sanity checks.(バグ確認)\n",
        "    if c.batch_size % c.num_gpus != 0:\n",
        "        raise ValueError('--batch must be a multiple of --gpus')\n",
        "    if c.batch_size % (c.num_gpus * c.batch_gpu) != 0:\n",
        "        raise ValueError('--batch must be a multiple of --gpus times --batch-gpu')\n",
        "    if any(not metric_main.is_valid_metric(metric) for metric in c.metrics):\n",
        "        raise ValueError('\\n'.join(['--metrics can only contain the following values:'] + metric_main.list_valid_metrics()))\n",
        "\n",
        "    # Base configuration.(基本構成定義？)(cfgでganの種類を定義(stylegan2 or fastgan))\n",
        "    c.ema_kimg = c.batch_size * 10 / 32\n",
        "    if opts.cfg == 'stylegan2':\n",
        "        c.G_kwargs.class_name = 'pg_modules.networks_stylegan2.Generator'\n",
        "        c.G_kwargs.fused_modconv_default = 'inference_only' # Speed up training by using regular convolutions instead of grouped convolutions.\n",
        "        use_separable_discs = True\n",
        "\n",
        "    elif opts.cfg == 'fastgan':\n",
        "        c.G_kwargs = dnnlib.EasyDict(class_name='pg_modules.networks_fastgan.Generator', cond=opts.cond)\n",
        "        c.G_opt_kwargs.lr = c.D_opt_kwargs.lr = 0.0002\n",
        "        use_separable_discs = False\n",
        "\n",
        "    # Restart.(やり直し)\n",
        "    c.restart_every = opts.restart_every\n",
        "\n",
        "    # Description string.(説明)\n",
        "    desc = f'{opts.cfg:s}-{dataset_name:s}-gpus{c.num_gpus:d}-batch{c.batch_size:d}'\n",
        "    if opts.desc is not None:\n",
        "        desc += f'-{opts.desc}'\n",
        "\n",
        "    # Projected and Multi-Scale Discriminators\n",
        "    c.loss_kwargs = dnnlib.EasyDict(class_name='training.loss.ProjectedGANLoss')\n",
        "    c.D_kwargs = dnnlib.EasyDict(\n",
        "        class_name='pg_modules.discriminator.ProjectedDiscriminator',\n",
        "        diffaug=True,\n",
        "        interp224=(c.training_set_kwargs.resolution < 224),\n",
        "        backbone_kwargs=dnnlib.EasyDict(),\n",
        "    )\n",
        "\n",
        "    c.D_kwargs.backbone_kwargs.cout = 64\n",
        "    c.D_kwargs.backbone_kwargs.expand = True\n",
        "    c.D_kwargs.backbone_kwargs.proj_type = 2\n",
        "    c.D_kwargs.backbone_kwargs.num_discs = 4\n",
        "    c.D_kwargs.backbone_kwargs.separable = use_separable_discs\n",
        "    c.D_kwargs.backbone_kwargs.cond = opts.cond\n",
        "\n",
        "    # Launch.\n",
        "    launch_training(c=c, desc=desc, outdir=opts.outdir)"
      ]
    },
    {
      "cell_type": "code",
      "execution_count": 42,
      "metadata": {
        "id": "uKHfWFKe9tWB",
        "outputId": "25826cb6-d83b-46d7-a7c9-f3f03b5720f5",
        "colab": {
          "base_uri": "https://localhost:8080/",
          "height": 377
        }
      },
      "outputs": [
        {
          "output_type": "error",
          "ename": "AssertionError",
          "evalue": "ignored",
          "traceback": [
            "\u001b[0;31m---------------------------------------------------------------------------\u001b[0m",
            "\u001b[0;31mAssertionError\u001b[0m                            Traceback (most recent call last)",
            "\u001b[0;32m<ipython-input-42-f56770bac0bb>\u001b[0m in \u001b[0;36m<module>\u001b[0;34m()\u001b[0m\n\u001b[1;32m     22\u001b[0m     \u001b[0mseed\u001b[0m\u001b[0;34m=\u001b[0m\u001b[0;36m0\u001b[0m\u001b[0;34m,\u001b[0m\u001b[0;34m\u001b[0m\u001b[0;34m\u001b[0m\u001b[0m\n\u001b[1;32m     23\u001b[0m     \u001b[0mworkers\u001b[0m\u001b[0;34m=\u001b[0m\u001b[0;36m0\u001b[0m\u001b[0;34m,\u001b[0m\u001b[0;34m\u001b[0m\u001b[0;34m\u001b[0m\u001b[0m\n\u001b[0;32m---> 24\u001b[0;31m     \u001b[0mrestart_every\u001b[0m\u001b[0;34m=\u001b[0m\u001b[0;36m999999\u001b[0m\u001b[0;34m,\u001b[0m\u001b[0;34m\u001b[0m\u001b[0;34m\u001b[0m\u001b[0m\n\u001b[0m\u001b[1;32m     25\u001b[0m )\n",
            "\u001b[0;32m<ipython-input-40-1817d67a9e4a>\u001b[0m in \u001b[0;36mtrain\u001b[0;34m(**kwargs)\u001b[0m\n\u001b[1;32m      9\u001b[0m \u001b[0;34m\u001b[0m\u001b[0m\n\u001b[1;32m     10\u001b[0m     \u001b[0;31m# Training set.(訓練データの生成)\u001b[0m\u001b[0;34m\u001b[0m\u001b[0;34m\u001b[0m\u001b[0;34m\u001b[0m\u001b[0m\n\u001b[0;32m---> 11\u001b[0;31m     \u001b[0mc\u001b[0m\u001b[0;34m.\u001b[0m\u001b[0mtraining_set_kwargs\u001b[0m\u001b[0;34m,\u001b[0m \u001b[0mdataset_name\u001b[0m \u001b[0;34m=\u001b[0m \u001b[0minit_dataset_kwargs\u001b[0m\u001b[0;34m(\u001b[0m\u001b[0mdata\u001b[0m\u001b[0;34m=\u001b[0m\u001b[0mopts\u001b[0m\u001b[0;34m.\u001b[0m\u001b[0mdata\u001b[0m\u001b[0;34m)\u001b[0m\u001b[0;34m\u001b[0m\u001b[0;34m\u001b[0m\u001b[0m\n\u001b[0m\u001b[1;32m     12\u001b[0m     \u001b[0;32mif\u001b[0m \u001b[0mopts\u001b[0m\u001b[0;34m.\u001b[0m\u001b[0mcond\u001b[0m \u001b[0;32mand\u001b[0m \u001b[0;32mnot\u001b[0m \u001b[0mc\u001b[0m\u001b[0;34m.\u001b[0m\u001b[0mtraining_set_kwargs\u001b[0m\u001b[0;34m.\u001b[0m\u001b[0muse_labels\u001b[0m\u001b[0;34m:\u001b[0m\u001b[0;34m\u001b[0m\u001b[0;34m\u001b[0m\u001b[0m\n\u001b[1;32m     13\u001b[0m         \u001b[0;32mraise\u001b[0m \u001b[0mValueError\u001b[0m\u001b[0;34m(\u001b[0m\u001b[0;34m'--cond=True requires labels specified in dataset.json'\u001b[0m\u001b[0;34m)\u001b[0m\u001b[0;34m\u001b[0m\u001b[0;34m\u001b[0m\u001b[0m\n",
            "\u001b[0;32m/content/projected_gan/projected_gan/train.py\u001b[0m in \u001b[0;36minit_dataset_kwargs\u001b[0;34m(data)\u001b[0m\n\u001b[1;32m    108\u001b[0m         \u001b[0mdataset_kwargs\u001b[0m \u001b[0;34m=\u001b[0m \u001b[0mdnnlib\u001b[0m\u001b[0;34m.\u001b[0m\u001b[0mEasyDict\u001b[0m\u001b[0;34m(\u001b[0m\u001b[0mclass_name\u001b[0m\u001b[0;34m=\u001b[0m\u001b[0;34m'training.dataset.ImageFolderDataset'\u001b[0m\u001b[0;34m,\u001b[0m \u001b[0mpath\u001b[0m\u001b[0;34m=\u001b[0m\u001b[0mdata\u001b[0m\u001b[0;34m,\u001b[0m \u001b[0muse_labels\u001b[0m\u001b[0;34m=\u001b[0m\u001b[0;32mTrue\u001b[0m\u001b[0;34m,\u001b[0m \u001b[0mmax_size\u001b[0m\u001b[0;34m=\u001b[0m\u001b[0;32mNone\u001b[0m\u001b[0;34m,\u001b[0m \u001b[0mxflip\u001b[0m\u001b[0;34m=\u001b[0m\u001b[0;32mFalse\u001b[0m\u001b[0;34m)\u001b[0m\u001b[0;34m\u001b[0m\u001b[0;34m\u001b[0m\u001b[0m\n\u001b[1;32m    109\u001b[0m         \u001b[0mdataset_obj\u001b[0m \u001b[0;34m=\u001b[0m \u001b[0mdnnlib\u001b[0m\u001b[0;34m.\u001b[0m\u001b[0mutil\u001b[0m\u001b[0;34m.\u001b[0m\u001b[0mconstruct_class_by_name\u001b[0m\u001b[0;34m(\u001b[0m\u001b[0;34m**\u001b[0m\u001b[0mdataset_kwargs\u001b[0m\u001b[0;34m)\u001b[0m \u001b[0;31m# Subclass of training.dataset.Dataset.\u001b[0m\u001b[0;34m\u001b[0m\u001b[0;34m\u001b[0m\u001b[0m\n\u001b[0;32m--> 110\u001b[0;31m         \u001b[0mdataset_kwargs\u001b[0m\u001b[0;34m.\u001b[0m\u001b[0mresolution\u001b[0m \u001b[0;34m=\u001b[0m \u001b[0mdataset_obj\u001b[0m\u001b[0;34m.\u001b[0m\u001b[0mresolution\u001b[0m \u001b[0;31m# Be explicit about resolution.\u001b[0m\u001b[0;34m\u001b[0m\u001b[0;34m\u001b[0m\u001b[0m\n\u001b[0m\u001b[1;32m    111\u001b[0m         \u001b[0mdataset_kwargs\u001b[0m\u001b[0;34m.\u001b[0m\u001b[0muse_labels\u001b[0m \u001b[0;34m=\u001b[0m \u001b[0mdataset_obj\u001b[0m\u001b[0;34m.\u001b[0m\u001b[0mhas_labels\u001b[0m \u001b[0;31m# Be explicit about labels.\u001b[0m\u001b[0;34m\u001b[0m\u001b[0;34m\u001b[0m\u001b[0m\n\u001b[1;32m    112\u001b[0m         \u001b[0mdataset_kwargs\u001b[0m\u001b[0;34m.\u001b[0m\u001b[0mmax_size\u001b[0m \u001b[0;34m=\u001b[0m \u001b[0mlen\u001b[0m\u001b[0;34m(\u001b[0m\u001b[0mdataset_obj\u001b[0m\u001b[0;34m)\u001b[0m \u001b[0;31m# Be explicit about dataset size.\u001b[0m\u001b[0;34m\u001b[0m\u001b[0;34m\u001b[0m\u001b[0m\n",
            "\u001b[0;32m/content/projected_gan/projected_gan/training/dataset.py\u001b[0m in \u001b[0;36mresolution\u001b[0;34m(self)\u001b[0m\n\u001b[1;32m    140\u001b[0m     \u001b[0;32mdef\u001b[0m \u001b[0mresolution\u001b[0m\u001b[0;34m(\u001b[0m\u001b[0mself\u001b[0m\u001b[0;34m)\u001b[0m\u001b[0;34m:\u001b[0m\u001b[0;34m\u001b[0m\u001b[0;34m\u001b[0m\u001b[0m\n\u001b[1;32m    141\u001b[0m         \u001b[0;32massert\u001b[0m \u001b[0mlen\u001b[0m\u001b[0;34m(\u001b[0m\u001b[0mself\u001b[0m\u001b[0;34m.\u001b[0m\u001b[0mimage_shape\u001b[0m\u001b[0;34m)\u001b[0m \u001b[0;34m==\u001b[0m \u001b[0;36m3\u001b[0m \u001b[0;31m# CHW\u001b[0m\u001b[0;34m\u001b[0m\u001b[0;34m\u001b[0m\u001b[0m\n\u001b[0;32m--> 142\u001b[0;31m         \u001b[0;32massert\u001b[0m \u001b[0mself\u001b[0m\u001b[0;34m.\u001b[0m\u001b[0mimage_shape\u001b[0m\u001b[0;34m[\u001b[0m\u001b[0;36m1\u001b[0m\u001b[0;34m]\u001b[0m \u001b[0;34m==\u001b[0m \u001b[0mself\u001b[0m\u001b[0;34m.\u001b[0m\u001b[0mimage_shape\u001b[0m\u001b[0;34m[\u001b[0m\u001b[0;36m2\u001b[0m\u001b[0;34m]\u001b[0m\u001b[0;34m\u001b[0m\u001b[0;34m\u001b[0m\u001b[0m\n\u001b[0m\u001b[1;32m    143\u001b[0m         \u001b[0;32mreturn\u001b[0m \u001b[0mself\u001b[0m\u001b[0;34m.\u001b[0m\u001b[0mimage_shape\u001b[0m\u001b[0;34m[\u001b[0m\u001b[0;36m1\u001b[0m\u001b[0;34m]\u001b[0m\u001b[0;34m\u001b[0m\u001b[0;34m\u001b[0m\u001b[0m\n\u001b[1;32m    144\u001b[0m \u001b[0;34m\u001b[0m\u001b[0m\n",
            "\u001b[0;31mAssertionError\u001b[0m: "
          ]
        }
      ],
      "source": [
        "# start training!\n",
        "\n",
        "train(\n",
        "    outdir='training-runs', #出力用ディレクトリ\n",
        "    cfg='fastgan',#ganの選択\n",
        "    #data='./data/art_painting256.zip', #訓練データ置き場\n",
        "    data='/content/zipfgosava.zip', #訓練データ置き場,\n",
        "    gpus=1, #gpusの数設定\n",
        "    batch=64, #batchのsize\n",
        "    cond=False, #\n",
        "    mirror=1, \n",
        "    batch_gpu=8, \n",
        "    cbase=32768, \n",
        "    cmax=512, \n",
        "    glr=None, \n",
        "    dlr=0.002, \n",
        "    desc='', \n",
        "    metrics=[],\n",
        "    kimg=10000, \n",
        "    tick=4, \n",
        "    snap=1, \n",
        "    seed=0, \n",
        "    workers=0,\n",
        "    restart_every=999999,\n",
        ")"
      ]
    },
    {
      "cell_type": "markdown",
      "metadata": {
        "id": "MqYeDzg3KUMG"
      },
      "source": [
        "To inspect the samples, click on the folder symbol on the left and navigate to \n",
        "\n",
        "```projected_gan/training-runs/YOUR_RUN```\n",
        "\n",
        "The files ```fakesXXXXXX.png``` are the samples for a fixed noise vector at point."
      ]
    },
    {
      "cell_type": "code",
      "source": [
        ""
      ],
      "metadata": {
        "id": "ENlESm6i8RnD"
      },
      "execution_count": null,
      "outputs": []
    }
  ],
  "metadata": {
    "accelerator": "GPU",
    "colab": {
      "collapsed_sections": [],
      "name": "projected_gan.ipynb",
      "provenance": [],
      "include_colab_link": true
    },
    "kernelspec": {
      "display_name": "Python 3",
      "name": "python3"
    },
    "language_info": {
      "name": "python"
    }
  },
  "nbformat": 4,
  "nbformat_minor": 0
}