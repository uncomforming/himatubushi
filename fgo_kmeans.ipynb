{
  "nbformat": 4,
  "nbformat_minor": 0,
  "metadata": {
    "colab": {
      "name": "fgo_kmeans.ipynb ",
      "provenance": [],
      "collapsed_sections": [],
      "private_outputs": true,
      "authorship_tag": "ABX9TyOP5Bj3sjvs9jFtCgNqRIy/",
      "include_colab_link": true
    },
    "kernelspec": {
      "name": "python3",
      "display_name": "Python 3"
    },
    "language_info": {
      "name": "python"
    },
    "accelerator": "GPU"
  },
  "cells": [
    {
      "cell_type": "markdown",
      "metadata": {
        "id": "view-in-github",
        "colab_type": "text"
      },
      "source": [
        "<a href=\"https://colab.research.google.com/github/uncomforming/himatubushi/blob/main/fgo_kmeans.ipynb\" target=\"_parent\"><img src=\"https://colab.research.google.com/assets/colab-badge.svg\" alt=\"Open In Colab\"/></a>"
      ]
    },
    {
      "cell_type": "code",
      "execution_count": null,
      "metadata": {
        "id": "nqfRp4CukyWB"
      },
      "outputs": [],
      "source": [
        "!pip install selenium\n",
        "!apt-get update\n",
        "!apt install chromium-chromedriver\n",
        "!cp /usr/lib/chromium-browser/chromedriver /usr/bin\n",
        "from selenium import webdriver\n",
        "import io\n",
        "from urllib import request\n",
        "import requests\n",
        "#chromeのオプション設定\n",
        "options = webdriver.ChromeOptions()\n",
        "options.add_argument('--headless')#バックグラウンド起動\n",
        "options.add_argument('--no-sandbox')#sandboxのoff\n",
        "options.add_argument('--disable-dev-shm-usage')#/dev/shmパーティションの使用禁止"
      ]
    },
    {
      "cell_type": "code",
      "source": [
        "#gamewithの画像ページにアクセス\n",
        "i=1\n",
        "savanum=int(input())\n",
        "driver=webdriver.Chrome('chromedriver',options=options)\n",
        "#fgosava=\"/\"\n",
        "while True:\n",
        "  if i >savanum:\n",
        "    break\n",
        "  try:\n",
        "    sava=f\"{i:03}\"\n",
        "    url = f\"https://img.gamewith.jp/article_tools/fatego/gacha/ascension_{sava}_1.jpg\"\n",
        "    file_name = f\"{sava}.jpg\"\n",
        "    with open(file_name, mode=\"wb\") as f:\n",
        "      r = requests.get(url)\n",
        "      f.write(r.content)\n",
        "    print(f\"{sava}finish\")\n",
        "    i +=1\n",
        "  except:\n",
        "    break\n",
        "driver.close()\n",
        "driver.quit()\n",
        "print(\"allfinish\")\n",
        "numsava=i"
      ],
      "metadata": {
        "id": "BupUrrPlk6oj"
      },
      "execution_count": null,
      "outputs": []
    },
    {
      "cell_type": "code",
      "source": [
        "#from google.colab import drive\n",
        "#drive.mount('/content/drive')\n",
        "%mkdir fgosava\n",
        "for i in range(1,numsava):\n",
        "  num=f\"{i:03}\"\n",
        "  #%mv \"{num}\".jpg drive/MyDrive/fgosava\n",
        "  %mv \"{num}.jpg\" /content/fgosava\n",
        "#%mv fgosava drive/MyDrive/\n",
        "#driveをマウントして画像を移動\n"
      ],
      "metadata": {
        "id": "8xBs7DJDuzCM"
      },
      "execution_count": null,
      "outputs": []
    },
    {
      "cell_type": "code",
      "source": [
        "from operator import imatmul\n",
        "from glob import glob\n",
        "import shutil\n",
        "import cv2\n",
        "import os\n",
        "from sklearn.cluster import KMeans\n",
        "import numpy as np\n",
        "%mkdir hantei＿sava\n",
        "\n",
        "IMAGE_DIR=\"/content/fgosava\"\n",
        "OUTPUT_DIR=\"/content/hantei_sava\" \n",
        "# 画像をnumpy配列で読み込み、変形\n",
        "impathlist = glob(IMAGE_DIR+\"/*\")\n",
        "print(impathlist)\n",
        "features = np.array([cv2.resize(cv2.imread(p), (64, 64), cv2.INTER_CUBIC) for p in impathlist])\n",
        "features = features.reshape(features.shape[0], -1)\n",
        " \n",
        "# モデルの作成\n",
        "model = KMeans(n_clusters=8).fit(features)\n",
        " \n",
        "# クラスタ数を変更して試したいので古い出力結果は消す\n",
        "for i in range(model.n_clusters):\n",
        "    cluster_dir = OUTPUT_DIR + \"/cluster{}\".format(i)\n",
        "    if os.path.exists(cluster_dir):\n",
        "        shutil.rmtree(cluster_dir)\n",
        "    os.makedirs(cluster_dir)\n",
        "# 結果をクラスタごとにディレクトリに保存\n",
        "for label, p in zip(model.labels_, impathlist):\n",
        "    shutil.copyfile(p, OUTPUT_DIR + '/cluster{}/{}'.format(label, p.split('/')[-1]))"
      ],
      "metadata": {
        "id": "0w3ic6fREzmT"
      },
      "execution_count": null,
      "outputs": []
    },
    {
      "cell_type": "code",
      "source": [
        ""
      ],
      "metadata": {
        "id": "kWpZFwA3onep"
      },
      "execution_count": null,
      "outputs": []
    }
  ]
}