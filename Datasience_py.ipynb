{
  "nbformat": 4,
  "nbformat_minor": 0,
  "metadata": {
    "colab": {
      "name": "Datasience.py",
      "provenance": [],
      "collapsed_sections": [],
      "authorship_tag": "ABX9TyNNohCi4aDjC0B+E3EBotIg",
      "include_colab_link": true
    },
    "kernelspec": {
      "name": "python3",
      "display_name": "Python 3"
    },
    "language_info": {
      "name": "python"
    },
    "accelerator": "GPU",
    "gpuClass": "standard"
  },
  "cells": [
    {
      "cell_type": "markdown",
      "metadata": {
        "id": "view-in-github",
        "colab_type": "text"
      },
      "source": [
        "<a href=\"https://colab.research.google.com/github/uncomforming/himatubushi/blob/main/Datasience_py.ipynb\" target=\"_parent\"><img src=\"https://colab.research.google.com/assets/colab-badge.svg\" alt=\"Open In Colab\"/></a>"
      ]
    },
    {
      "cell_type": "code",
      "execution_count": null,
      "metadata": {
        "colab": {
          "base_uri": "https://localhost:8080/"
        },
        "id": "eZO7pKp6H3AU",
        "outputId": "b528738c-09e9-48bd-8f71-e4f50aee6c3c"
      },
      "outputs": [
        {
          "output_type": "stream",
          "name": "stdout",
          "text": [
            "Mounted at /content/drive\n"
          ]
        }
      ],
      "source": [
        "#driveをマウント\n",
        "from google.colab import drive\n",
        "drive.mount('/content/drive')"
      ]
    },
    {
      "cell_type": "code",
      "source": [
        "import shutil\n",
        "zip_file=\"/content/drive/MyDrive/tabular-playground-series-jun-2022.zip\"\n",
        "shutil.unpack_archive(zip_file, 'dir_out')"
      ],
      "metadata": {
        "id": "9O6CgsuaJCIK"
      },
      "execution_count": null,
      "outputs": []
    },
    {
      "cell_type": "code",
      "source": [
        "%ls"
      ],
      "metadata": {
        "colab": {
          "base_uri": "https://localhost:8080/"
        },
        "id": "RaXrg4pgKg3i",
        "outputId": "aede071f-5f58-4ad7-99f8-321c8adafc4a"
      },
      "execution_count": null,
      "outputs": [
        {
          "output_type": "stream",
          "name": "stdout",
          "text": [
            "\u001b[0m\u001b[01;34mdir_out\u001b[0m/  \u001b[01;34mdrive\u001b[0m/  \u001b[01;34msample_data\u001b[0m/\n"
          ]
        }
      ]
    },
    {
      "cell_type": "code",
      "source": [
        "import pandas as pd\n",
        "data_file=pd.read_csv('/content/dir_out/data.csv')\n",
        "submit_file=pd.read_csv(\"/content/dir_out/sample_submission.csv\")\n",
        "data_file.head()"
      ],
      "metadata": {
        "id": "n6_H2heIKwSb",
        "colab": {
          "base_uri": "https://localhost:8080/",
          "height": 299
        },
        "outputId": "0f2e7da4-0474-41fb-8653-b69c908d2702"
      },
      "execution_count": null,
      "outputs": [
        {
          "output_type": "execute_result",
          "data": {
            "text/plain": [
              "   row_id     F_1_0     F_1_1     F_1_2     F_1_3     F_1_4     F_1_5  \\\n",
              "0       0 -0.354591 -0.464038  2.304115  0.734486  1.696395  0.136285   \n",
              "1       1  1.380940 -0.499626 -0.418548  1.911725 -0.826130 -1.715371   \n",
              "2       2  0.256023 -1.059874       NaN  0.345678  1.513814  1.243864   \n",
              "3       3 -0.728420 -2.432399 -2.453602 -0.020509  0.333397  0.086049   \n",
              "4       4  0.590212 -0.066127  0.468009 -1.096038  0.119399 -1.809710   \n",
              "\n",
              "      F_1_6     F_1_7     F_1_8  ...     F_4_5     F_4_6     F_4_7     F_4_8  \\\n",
              "0 -0.518344  0.502640 -1.852504  ...  3.744152  0.794438  0.265185 -0.561809   \n",
              "1 -0.577091 -1.041486  0.596067  ... -2.895826 -0.738275  2.361818 -0.060753   \n",
              "2 -0.509648 -0.800481 -0.115945  ...  2.252834  0.472496  2.491386  0.353381   \n",
              "3 -1.787601  0.667011  0.761564  ...  2.004600 -4.664806 -0.847211 -0.264249   \n",
              "4  0.466358 -0.053196 -0.580320  ...  0.976937  2.558883  3.377724  0.846891   \n",
              "\n",
              "      F_4_9    F_4_10    F_4_11    F_4_12    F_4_13    F_4_14  \n",
              "0  0.196480  0.373434  6.206995  3.809505  1.236486  1.182055  \n",
              "1  0.727249 -0.271882  5.232157 -4.218259 -2.724883 -0.063775  \n",
              "2 -0.260682 -0.000833 -0.116457 -2.131747  3.661499 -0.131576  \n",
              "3  0.664334 -0.557868  8.499483 -4.738799 -3.054611  0.494152  \n",
              "4  0.696032  0.554121 -5.979714 -2.869631  3.733057 -0.722943  \n",
              "\n",
              "[5 rows x 81 columns]"
            ],
            "text/html": [
              "\n",
              "  <div id=\"df-bd91e65a-dbdc-4644-b6e8-27414a0049fa\">\n",
              "    <div class=\"colab-df-container\">\n",
              "      <div>\n",
              "<style scoped>\n",
              "    .dataframe tbody tr th:only-of-type {\n",
              "        vertical-align: middle;\n",
              "    }\n",
              "\n",
              "    .dataframe tbody tr th {\n",
              "        vertical-align: top;\n",
              "    }\n",
              "\n",
              "    .dataframe thead th {\n",
              "        text-align: right;\n",
              "    }\n",
              "</style>\n",
              "<table border=\"1\" class=\"dataframe\">\n",
              "  <thead>\n",
              "    <tr style=\"text-align: right;\">\n",
              "      <th></th>\n",
              "      <th>row_id</th>\n",
              "      <th>F_1_0</th>\n",
              "      <th>F_1_1</th>\n",
              "      <th>F_1_2</th>\n",
              "      <th>F_1_3</th>\n",
              "      <th>F_1_4</th>\n",
              "      <th>F_1_5</th>\n",
              "      <th>F_1_6</th>\n",
              "      <th>F_1_7</th>\n",
              "      <th>F_1_8</th>\n",
              "      <th>...</th>\n",
              "      <th>F_4_5</th>\n",
              "      <th>F_4_6</th>\n",
              "      <th>F_4_7</th>\n",
              "      <th>F_4_8</th>\n",
              "      <th>F_4_9</th>\n",
              "      <th>F_4_10</th>\n",
              "      <th>F_4_11</th>\n",
              "      <th>F_4_12</th>\n",
              "      <th>F_4_13</th>\n",
              "      <th>F_4_14</th>\n",
              "    </tr>\n",
              "  </thead>\n",
              "  <tbody>\n",
              "    <tr>\n",
              "      <th>0</th>\n",
              "      <td>0</td>\n",
              "      <td>-0.354591</td>\n",
              "      <td>-0.464038</td>\n",
              "      <td>2.304115</td>\n",
              "      <td>0.734486</td>\n",
              "      <td>1.696395</td>\n",
              "      <td>0.136285</td>\n",
              "      <td>-0.518344</td>\n",
              "      <td>0.502640</td>\n",
              "      <td>-1.852504</td>\n",
              "      <td>...</td>\n",
              "      <td>3.744152</td>\n",
              "      <td>0.794438</td>\n",
              "      <td>0.265185</td>\n",
              "      <td>-0.561809</td>\n",
              "      <td>0.196480</td>\n",
              "      <td>0.373434</td>\n",
              "      <td>6.206995</td>\n",
              "      <td>3.809505</td>\n",
              "      <td>1.236486</td>\n",
              "      <td>1.182055</td>\n",
              "    </tr>\n",
              "    <tr>\n",
              "      <th>1</th>\n",
              "      <td>1</td>\n",
              "      <td>1.380940</td>\n",
              "      <td>-0.499626</td>\n",
              "      <td>-0.418548</td>\n",
              "      <td>1.911725</td>\n",
              "      <td>-0.826130</td>\n",
              "      <td>-1.715371</td>\n",
              "      <td>-0.577091</td>\n",
              "      <td>-1.041486</td>\n",
              "      <td>0.596067</td>\n",
              "      <td>...</td>\n",
              "      <td>-2.895826</td>\n",
              "      <td>-0.738275</td>\n",
              "      <td>2.361818</td>\n",
              "      <td>-0.060753</td>\n",
              "      <td>0.727249</td>\n",
              "      <td>-0.271882</td>\n",
              "      <td>5.232157</td>\n",
              "      <td>-4.218259</td>\n",
              "      <td>-2.724883</td>\n",
              "      <td>-0.063775</td>\n",
              "    </tr>\n",
              "    <tr>\n",
              "      <th>2</th>\n",
              "      <td>2</td>\n",
              "      <td>0.256023</td>\n",
              "      <td>-1.059874</td>\n",
              "      <td>NaN</td>\n",
              "      <td>0.345678</td>\n",
              "      <td>1.513814</td>\n",
              "      <td>1.243864</td>\n",
              "      <td>-0.509648</td>\n",
              "      <td>-0.800481</td>\n",
              "      <td>-0.115945</td>\n",
              "      <td>...</td>\n",
              "      <td>2.252834</td>\n",
              "      <td>0.472496</td>\n",
              "      <td>2.491386</td>\n",
              "      <td>0.353381</td>\n",
              "      <td>-0.260682</td>\n",
              "      <td>-0.000833</td>\n",
              "      <td>-0.116457</td>\n",
              "      <td>-2.131747</td>\n",
              "      <td>3.661499</td>\n",
              "      <td>-0.131576</td>\n",
              "    </tr>\n",
              "    <tr>\n",
              "      <th>3</th>\n",
              "      <td>3</td>\n",
              "      <td>-0.728420</td>\n",
              "      <td>-2.432399</td>\n",
              "      <td>-2.453602</td>\n",
              "      <td>-0.020509</td>\n",
              "      <td>0.333397</td>\n",
              "      <td>0.086049</td>\n",
              "      <td>-1.787601</td>\n",
              "      <td>0.667011</td>\n",
              "      <td>0.761564</td>\n",
              "      <td>...</td>\n",
              "      <td>2.004600</td>\n",
              "      <td>-4.664806</td>\n",
              "      <td>-0.847211</td>\n",
              "      <td>-0.264249</td>\n",
              "      <td>0.664334</td>\n",
              "      <td>-0.557868</td>\n",
              "      <td>8.499483</td>\n",
              "      <td>-4.738799</td>\n",
              "      <td>-3.054611</td>\n",
              "      <td>0.494152</td>\n",
              "    </tr>\n",
              "    <tr>\n",
              "      <th>4</th>\n",
              "      <td>4</td>\n",
              "      <td>0.590212</td>\n",
              "      <td>-0.066127</td>\n",
              "      <td>0.468009</td>\n",
              "      <td>-1.096038</td>\n",
              "      <td>0.119399</td>\n",
              "      <td>-1.809710</td>\n",
              "      <td>0.466358</td>\n",
              "      <td>-0.053196</td>\n",
              "      <td>-0.580320</td>\n",
              "      <td>...</td>\n",
              "      <td>0.976937</td>\n",
              "      <td>2.558883</td>\n",
              "      <td>3.377724</td>\n",
              "      <td>0.846891</td>\n",
              "      <td>0.696032</td>\n",
              "      <td>0.554121</td>\n",
              "      <td>-5.979714</td>\n",
              "      <td>-2.869631</td>\n",
              "      <td>3.733057</td>\n",
              "      <td>-0.722943</td>\n",
              "    </tr>\n",
              "  </tbody>\n",
              "</table>\n",
              "<p>5 rows × 81 columns</p>\n",
              "</div>\n",
              "      <button class=\"colab-df-convert\" onclick=\"convertToInteractive('df-bd91e65a-dbdc-4644-b6e8-27414a0049fa')\"\n",
              "              title=\"Convert this dataframe to an interactive table.\"\n",
              "              style=\"display:none;\">\n",
              "        \n",
              "  <svg xmlns=\"http://www.w3.org/2000/svg\" height=\"24px\"viewBox=\"0 0 24 24\"\n",
              "       width=\"24px\">\n",
              "    <path d=\"M0 0h24v24H0V0z\" fill=\"none\"/>\n",
              "    <path d=\"M18.56 5.44l.94 2.06.94-2.06 2.06-.94-2.06-.94-.94-2.06-.94 2.06-2.06.94zm-11 1L8.5 8.5l.94-2.06 2.06-.94-2.06-.94L8.5 2.5l-.94 2.06-2.06.94zm10 10l.94 2.06.94-2.06 2.06-.94-2.06-.94-.94-2.06-.94 2.06-2.06.94z\"/><path d=\"M17.41 7.96l-1.37-1.37c-.4-.4-.92-.59-1.43-.59-.52 0-1.04.2-1.43.59L10.3 9.45l-7.72 7.72c-.78.78-.78 2.05 0 2.83L4 21.41c.39.39.9.59 1.41.59.51 0 1.02-.2 1.41-.59l7.78-7.78 2.81-2.81c.8-.78.8-2.07 0-2.86zM5.41 20L4 18.59l7.72-7.72 1.47 1.35L5.41 20z\"/>\n",
              "  </svg>\n",
              "      </button>\n",
              "      \n",
              "  <style>\n",
              "    .colab-df-container {\n",
              "      display:flex;\n",
              "      flex-wrap:wrap;\n",
              "      gap: 12px;\n",
              "    }\n",
              "\n",
              "    .colab-df-convert {\n",
              "      background-color: #E8F0FE;\n",
              "      border: none;\n",
              "      border-radius: 50%;\n",
              "      cursor: pointer;\n",
              "      display: none;\n",
              "      fill: #1967D2;\n",
              "      height: 32px;\n",
              "      padding: 0 0 0 0;\n",
              "      width: 32px;\n",
              "    }\n",
              "\n",
              "    .colab-df-convert:hover {\n",
              "      background-color: #E2EBFA;\n",
              "      box-shadow: 0px 1px 2px rgba(60, 64, 67, 0.3), 0px 1px 3px 1px rgba(60, 64, 67, 0.15);\n",
              "      fill: #174EA6;\n",
              "    }\n",
              "\n",
              "    [theme=dark] .colab-df-convert {\n",
              "      background-color: #3B4455;\n",
              "      fill: #D2E3FC;\n",
              "    }\n",
              "\n",
              "    [theme=dark] .colab-df-convert:hover {\n",
              "      background-color: #434B5C;\n",
              "      box-shadow: 0px 1px 3px 1px rgba(0, 0, 0, 0.15);\n",
              "      filter: drop-shadow(0px 1px 2px rgba(0, 0, 0, 0.3));\n",
              "      fill: #FFFFFF;\n",
              "    }\n",
              "  </style>\n",
              "\n",
              "      <script>\n",
              "        const buttonEl =\n",
              "          document.querySelector('#df-bd91e65a-dbdc-4644-b6e8-27414a0049fa button.colab-df-convert');\n",
              "        buttonEl.style.display =\n",
              "          google.colab.kernel.accessAllowed ? 'block' : 'none';\n",
              "\n",
              "        async function convertToInteractive(key) {\n",
              "          const element = document.querySelector('#df-bd91e65a-dbdc-4644-b6e8-27414a0049fa');\n",
              "          const dataTable =\n",
              "            await google.colab.kernel.invokeFunction('convertToInteractive',\n",
              "                                                     [key], {});\n",
              "          if (!dataTable) return;\n",
              "\n",
              "          const docLinkHtml = 'Like what you see? Visit the ' +\n",
              "            '<a target=\"_blank\" href=https://colab.research.google.com/notebooks/data_table.ipynb>data table notebook</a>'\n",
              "            + ' to learn more about interactive tables.';\n",
              "          element.innerHTML = '';\n",
              "          dataTable['output_type'] = 'display_data';\n",
              "          await google.colab.output.renderOutput(dataTable, element);\n",
              "          const docLink = document.createElement('div');\n",
              "          docLink.innerHTML = docLinkHtml;\n",
              "          element.appendChild(docLink);\n",
              "        }\n",
              "      </script>\n",
              "    </div>\n",
              "  </div>\n",
              "  "
            ]
          },
          "metadata": {},
          "execution_count": 4
        }
      ]
    },
    {
      "cell_type": "code",
      "source": [
        "print(data_file.isnull().sum())"
      ],
      "metadata": {
        "id": "rFs4KHxqOF3y",
        "colab": {
          "base_uri": "https://localhost:8080/"
        },
        "outputId": "b4a80950-e00f-4a8d-a783-198032144884"
      },
      "execution_count": null,
      "outputs": [
        {
          "output_type": "stream",
          "name": "stdout",
          "text": [
            "row_id        0\n",
            "F_1_0     18397\n",
            "F_1_1     18216\n",
            "F_1_2     18008\n",
            "F_1_3     18250\n",
            "          ...  \n",
            "F_4_10    18225\n",
            "F_4_11    18119\n",
            "F_4_12    18306\n",
            "F_4_13    17995\n",
            "F_4_14    18267\n",
            "Length: 81, dtype: int64\n"
          ]
        }
      ]
    },
    {
      "cell_type": "code",
      "source": [
        ""
      ],
      "metadata": {
        "id": "vsEhH6sfijjA"
      },
      "execution_count": null,
      "outputs": []
    }
  ]
}