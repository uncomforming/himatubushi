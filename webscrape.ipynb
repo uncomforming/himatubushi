{
  "nbformat": 4,
  "nbformat_minor": 0,
  "metadata": {
    "colab": {
      "name": "webscrape.ipynb",
      "provenance": [],
      "collapsed_sections": [],
      "authorship_tag": "ABX9TyNKxbjZTYVkeutLA/a+2n9N",
      "include_colab_link": true
    },
    "kernelspec": {
      "name": "python3",
      "display_name": "Python 3"
    },
    "language_info": {
      "name": "python"
    },
    "accelerator": "GPU"
  },
  "cells": [
    {
      "cell_type": "markdown",
      "metadata": {
        "id": "view-in-github",
        "colab_type": "text"
      },
      "source": [
        "<a href=\"https://colab.research.google.com/github/uncomforming/himatubushi/blob/main/webscrape.ipynb\" target=\"_parent\"><img src=\"https://colab.research.google.com/assets/colab-badge.svg\" alt=\"Open In Colab\"/></a>"
      ]
    },
    {
      "cell_type": "code",
      "execution_count": null,
      "metadata": {
        "colab": {
          "base_uri": "https://localhost:8080/"
        },
        "id": "6lg3098_KA2a",
        "outputId": "1799781b-0488-4516-f5fc-7a4c885984c8"
      },
      "outputs": [
        {
          "output_type": "stream",
          "name": "stdout",
          "text": [
            "Collecting icrawler\n",
            "  Downloading icrawler-0.6.6-py2.py3-none-any.whl (35 kB)\n",
            "Requirement already satisfied: six>=1.10.0 in /usr/local/lib/python3.7/dist-packages (from icrawler) (1.15.0)\n",
            "Requirement already satisfied: requests>=2.9.1 in /usr/local/lib/python3.7/dist-packages (from icrawler) (2.23.0)\n",
            "Requirement already satisfied: lxml in /usr/local/lib/python3.7/dist-packages (from icrawler) (4.2.6)\n",
            "Requirement already satisfied: beautifulsoup4>=4.4.1 in /usr/local/lib/python3.7/dist-packages (from icrawler) (4.6.3)\n",
            "Requirement already satisfied: Pillow in /usr/local/lib/python3.7/dist-packages (from icrawler) (7.1.2)\n",
            "Requirement already satisfied: urllib3!=1.25.0,!=1.25.1,<1.26,>=1.21.1 in /usr/local/lib/python3.7/dist-packages (from requests>=2.9.1->icrawler) (1.24.3)\n",
            "Requirement already satisfied: idna<3,>=2.5 in /usr/local/lib/python3.7/dist-packages (from requests>=2.9.1->icrawler) (2.10)\n",
            "Requirement already satisfied: chardet<4,>=3.0.2 in /usr/local/lib/python3.7/dist-packages (from requests>=2.9.1->icrawler) (3.0.4)\n",
            "Requirement already satisfied: certifi>=2017.4.17 in /usr/local/lib/python3.7/dist-packages (from requests>=2.9.1->icrawler) (2021.10.8)\n",
            "Installing collected packages: icrawler\n",
            "Successfully installed icrawler-0.6.6\n"
          ]
        }
      ],
      "source": [
        "!pip install icrawler\n",
        "from icrawler.builtin import BingImageCrawler\n",
        "from IPython.display import Image,display_jpeg"
      ]
    },
    {
      "cell_type": "code",
      "source": [
        "class_list=[\"セイバー\",\"アーチャー\",\"ランサー\",\"ライダー\",\"キャスター\",\"アサシン\",\"バーサーカー\",\"エクストラ\"]\n",
        "class_en=[\"saber\",\"archer\",\"lancer\",\"rider\",\"caster\",\"assasin\",\"berserker\",\"extra\"]"
      ],
      "metadata": {
        "id": "5opcARoiKH3c"
      },
      "execution_count": null,
      "outputs": []
    },
    {
      "cell_type": "code",
      "source": [
        "for i in range(8):\n",
        "  crawler =BingImageCrawler(storage={\"root_dir\":class_en[i]})\n",
        "  crawler.crawl(keyword=f\"{class_list[i]}立ち絵fgo\",max_num=5)\n",
        "  #for j in range(5):\n",
        "    #display_jpeg(Image(f\"./{class_en[i]}/{j:06}.jpg\"))"
      ],
      "metadata": {
        "colab": {
          "base_uri": "https://localhost:8080/"
        },
        "id": "PQd14orvK5Cd",
        "outputId": "9c94b70c-bf20-43a6-b989-01e13817e93a"
      },
      "execution_count": null,
      "outputs": [
        {
          "output_type": "stream",
          "name": "stderr",
          "text": [
            "2021-12-15 08:33:40,599 - INFO - icrawler.crawler - start crawling...\n",
            "2021-12-15 08:33:40,602 - INFO - icrawler.crawler - starting 1 feeder threads...\n",
            "2021-12-15 08:33:40,608 - INFO - feeder - thread feeder-001 exit\n",
            "2021-12-15 08:33:40,608 - INFO - icrawler.crawler - starting 1 parser threads...\n",
            "2021-12-15 08:33:40,616 - INFO - icrawler.crawler - starting 1 downloader threads...\n",
            "2021-12-15 08:33:40,919 - INFO - parser - parsing result page https://www.bing.com/images/async?q=セイバー立ち絵fgo&first=0\n",
            "2021-12-15 08:33:40,958 - INFO - downloader - skip downloading file 000001.jpg\n",
            "2021-12-15 08:33:40,961 - INFO - downloader - skip downloading file 000002.jpg\n",
            "2021-12-15 08:33:40,962 - INFO - downloader - skip downloading file 000003.jpg\n",
            "2021-12-15 08:33:40,964 - INFO - downloader - skip downloading file 000004.jpg\n",
            "2021-12-15 08:33:40,966 - INFO - downloader - skip downloading file 000005.jpg\n",
            "2021-12-15 08:33:40,968 - INFO - downloader - skip downloading file 000006.jpg\n",
            "2021-12-15 08:33:40,970 - INFO - downloader - skip downloading file 000007.jpg\n",
            "2021-12-15 08:33:40,973 - INFO - downloader - skip downloading file 000008.jpg\n",
            "2021-12-15 08:33:40,976 - INFO - downloader - skip downloading file 000009.jpg\n",
            "2021-12-15 08:33:40,978 - INFO - downloader - skip downloading file 000010.jpg\n",
            "2021-12-15 08:33:40,981 - INFO - downloader - skip downloading file 000011.jpg\n",
            "2021-12-15 08:33:40,984 - INFO - downloader - skip downloading file 000012.jpg\n",
            "2021-12-15 08:33:40,989 - INFO - downloader - skip downloading file 000013.jpg\n",
            "2021-12-15 08:33:40,991 - INFO - downloader - skip downloading file 000014.jpg\n",
            "2021-12-15 08:33:40,994 - INFO - downloader - skip downloading file 000015.jpg\n",
            "2021-12-15 08:33:40,997 - INFO - downloader - skip downloading file 000016.jpg\n",
            "2021-12-15 08:33:41,000 - INFO - downloader - skip downloading file 000017.jpg\n",
            "2021-12-15 08:33:41,002 - INFO - downloader - skip downloading file 000018.jpg\n",
            "2021-12-15 08:33:41,005 - INFO - downloader - skip downloading file 000019.jpg\n",
            "2021-12-15 08:33:41,007 - INFO - downloader - skip downloading file 000020.jpg\n",
            "2021-12-15 08:33:41,010 - INFO - downloader - skip downloading file 000021.jpg\n",
            "2021-12-15 08:33:41,014 - INFO - downloader - skip downloading file 000022.jpg\n",
            "2021-12-15 08:33:41,016 - INFO - downloader - skip downloading file 000023.jpg\n",
            "2021-12-15 08:33:41,019 - INFO - downloader - skip downloading file 000024.jpg\n",
            "2021-12-15 08:33:41,021 - INFO - downloader - skip downloading file 000025.jpg\n",
            "2021-12-15 08:33:41,023 - INFO - downloader - skip downloading file 000026.jpg\n",
            "2021-12-15 08:33:41,025 - INFO - downloader - skip downloading file 000027.jpg\n",
            "2021-12-15 08:33:41,028 - INFO - downloader - skip downloading file 000028.jpg\n",
            "2021-12-15 08:33:41,030 - INFO - downloader - skip downloading file 000029.jpg\n",
            "2021-12-15 08:33:41,032 - INFO - downloader - skip downloading file 000030.jpg\n",
            "2021-12-15 08:33:42,087 - INFO - downloader - downloader-001 is waiting for new download tasks\n",
            "2021-12-15 08:33:42,452 - INFO - downloader - downloader-001 is waiting for new download tasks\n",
            "2021-12-15 08:33:43,021 - INFO - parser - no more page urls for thread parser-001 to parse\n",
            "2021-12-15 08:33:43,023 - INFO - parser - thread parser-001 exit\n",
            "2021-12-15 08:33:46,036 - INFO - downloader - no more download task for thread downloader-001\n",
            "2021-12-15 08:33:46,037 - INFO - downloader - thread downloader-001 exit\n",
            "2021-12-15 08:33:46,629 - INFO - icrawler.crawler - Crawling task done!\n",
            "2021-12-15 08:33:46,631 - INFO - icrawler.crawler - start crawling...\n",
            "2021-12-15 08:33:46,633 - INFO - icrawler.crawler - starting 1 feeder threads...\n",
            "2021-12-15 08:33:46,635 - INFO - feeder - thread feeder-001 exit\n",
            "2021-12-15 08:33:46,636 - INFO - icrawler.crawler - starting 1 parser threads...\n",
            "2021-12-15 08:33:46,646 - INFO - icrawler.crawler - starting 1 downloader threads...\n",
            "2021-12-15 08:33:46,969 - INFO - parser - parsing result page https://www.bing.com/images/async?q=アーチャー立ち絵fgo&first=0\n",
            "2021-12-15 08:33:47,003 - INFO - downloader - skip downloading file 000001.jpg\n",
            "2021-12-15 08:33:47,005 - INFO - downloader - skip downloading file 000002.jpg\n",
            "2021-12-15 08:33:47,006 - INFO - downloader - skip downloading file 000003.jpg\n",
            "2021-12-15 08:33:47,008 - INFO - downloader - skip downloading file 000004.jpg\n",
            "2021-12-15 08:33:47,011 - INFO - downloader - skip downloading file 000005.jpg\n",
            "2021-12-15 08:33:47,089 - INFO - downloader - downloader-001 is waiting for new download tasks\n",
            "2021-12-15 08:33:47,111 - INFO - downloader - downloaded images reach max num, thread downloader-001 is ready to exit\n",
            "2021-12-15 08:33:47,112 - INFO - downloader - thread downloader-001 exit\n",
            "2021-12-15 08:33:47,453 - INFO - downloader - downloader-001 is waiting for new download tasks\n",
            "2021-12-15 08:33:47,651 - INFO - icrawler.crawler - Crawling task done!\n",
            "2021-12-15 08:33:47,653 - INFO - icrawler.crawler - start crawling...\n",
            "2021-12-15 08:33:47,655 - INFO - icrawler.crawler - starting 1 feeder threads...\n",
            "2021-12-15 08:33:47,656 - INFO - feeder - thread feeder-001 exit\n",
            "2021-12-15 08:33:47,658 - INFO - icrawler.crawler - starting 1 parser threads...\n",
            "2021-12-15 08:33:47,667 - INFO - icrawler.crawler - starting 1 downloader threads...\n",
            "2021-12-15 08:33:47,951 - INFO - parser - parsing result page https://www.bing.com/images/async?q=ランサー立ち絵fgo&first=0\n",
            "2021-12-15 08:33:47,986 - INFO - downloader - skip downloading file 000001.jpg\n",
            "2021-12-15 08:33:47,988 - INFO - downloader - skip downloading file 000002.jpg\n",
            "2021-12-15 08:33:47,990 - INFO - downloader - skip downloading file 000003.jpg\n",
            "2021-12-15 08:33:47,995 - INFO - downloader - skip downloading file 000004.jpg\n",
            "2021-12-15 08:33:47,998 - INFO - downloader - skip downloading file 000005.jpg\n",
            "2021-12-15 08:33:48,016 - INFO - parser - downloaded image reached max num, thread parser-001 is ready to exit\n",
            "2021-12-15 08:33:48,019 - INFO - parser - thread parser-001 exit\n",
            "2021-12-15 08:33:48,125 - INFO - downloader - downloaded images reach max num, thread downloader-001 is ready to exit\n",
            "2021-12-15 08:33:48,127 - INFO - downloader - thread downloader-001 exit\n",
            "2021-12-15 08:33:48,677 - INFO - icrawler.crawler - Crawling task done!\n",
            "2021-12-15 08:33:48,679 - INFO - icrawler.crawler - start crawling...\n",
            "2021-12-15 08:33:48,680 - INFO - icrawler.crawler - starting 1 feeder threads...\n",
            "2021-12-15 08:33:48,686 - INFO - feeder - thread feeder-001 exit\n",
            "2021-12-15 08:33:48,687 - INFO - icrawler.crawler - starting 1 parser threads...\n",
            "2021-12-15 08:33:48,695 - INFO - icrawler.crawler - starting 1 downloader threads...\n",
            "2021-12-15 08:33:48,970 - INFO - parser - parsing result page https://www.bing.com/images/async?q=ライダー立ち絵fgo&first=0\n",
            "2021-12-15 08:33:49,009 - INFO - parser - downloaded image reached max num, thread parser-001 is ready to exit\n",
            "2021-12-15 08:33:49,017 - INFO - parser - thread parser-001 exit\n",
            "2021-12-15 08:33:49,020 - INFO - downloader - skip downloading file 000001.jpg\n",
            "2021-12-15 08:33:49,029 - INFO - downloader - skip downloading file 000002.jpg\n",
            "2021-12-15 08:33:49,032 - INFO - downloader - skip downloading file 000003.jpg\n",
            "2021-12-15 08:33:49,035 - INFO - downloader - skip downloading file 000004.jpg\n",
            "2021-12-15 08:33:49,038 - INFO - downloader - skip downloading file 000005.jpg\n",
            "2021-12-15 08:33:49,143 - INFO - downloader - downloaded images reach max num, thread downloader-001 is ready to exit\n",
            "2021-12-15 08:33:49,144 - INFO - downloader - thread downloader-001 exit\n",
            "2021-12-15 08:33:49,705 - INFO - icrawler.crawler - Crawling task done!\n",
            "2021-12-15 08:33:49,708 - INFO - icrawler.crawler - start crawling...\n",
            "2021-12-15 08:33:49,711 - INFO - icrawler.crawler - starting 1 feeder threads...\n",
            "2021-12-15 08:33:49,718 - INFO - feeder - thread feeder-001 exit\n",
            "2021-12-15 08:33:49,719 - INFO - icrawler.crawler - starting 1 parser threads...\n",
            "2021-12-15 08:33:49,725 - INFO - icrawler.crawler - starting 1 downloader threads...\n",
            "2021-12-15 08:33:50,016 - INFO - parser - parsing result page https://www.bing.com/images/async?q=キャスター立ち絵fgo&first=0\n",
            "2021-12-15 08:33:50,049 - INFO - parser - downloaded image reached max num, thread parser-001 is ready to exit\n",
            "2021-12-15 08:33:50,054 - INFO - parser - thread parser-001 exit\n",
            "2021-12-15 08:33:50,054 - INFO - downloader - skip downloading file 000001.jpg\n",
            "2021-12-15 08:33:50,064 - INFO - downloader - skip downloading file 000002.jpg\n",
            "2021-12-15 08:33:50,067 - INFO - downloader - skip downloading file 000003.jpg\n",
            "2021-12-15 08:33:50,070 - INFO - downloader - skip downloading file 000004.jpg\n",
            "2021-12-15 08:33:50,072 - INFO - downloader - skip downloading file 000005.jpg\n",
            "2021-12-15 08:33:51,346 - INFO - downloader - downloaded images reach max num, thread downloader-001 is ready to exit\n",
            "2021-12-15 08:33:51,349 - INFO - downloader - thread downloader-001 exit\n",
            "2021-12-15 08:33:51,735 - INFO - icrawler.crawler - Crawling task done!\n",
            "2021-12-15 08:33:51,738 - INFO - icrawler.crawler - start crawling...\n",
            "2021-12-15 08:33:51,741 - INFO - icrawler.crawler - starting 1 feeder threads...\n",
            "2021-12-15 08:33:51,747 - INFO - feeder - thread feeder-001 exit\n",
            "2021-12-15 08:33:51,747 - INFO - icrawler.crawler - starting 1 parser threads...\n",
            "2021-12-15 08:33:51,759 - INFO - icrawler.crawler - starting 1 downloader threads...\n",
            "2021-12-15 08:33:52,047 - INFO - parser - parsing result page https://www.bing.com/images/async?q=アサシン立ち絵fgo&first=0\n",
            "2021-12-15 08:33:52,078 - INFO - parser - downloaded image reached max num, thread parser-001 is ready to exit\n",
            "2021-12-15 08:33:52,078 - INFO - downloader - skip downloading file 000001.jpg\n",
            "2021-12-15 08:33:52,080 - INFO - parser - thread parser-001 exit\n",
            "2021-12-15 08:33:52,082 - INFO - downloader - skip downloading file 000002.jpg\n",
            "2021-12-15 08:33:52,089 - INFO - downloader - skip downloading file 000003.jpg\n",
            "2021-12-15 08:33:52,090 - INFO - downloader - skip downloading file 000004.jpg\n",
            "2021-12-15 08:33:52,092 - INFO - downloader - skip downloading file 000005.jpg\n",
            "2021-12-15 08:33:52,094 - INFO - downloader - downloader-001 is waiting for new download tasks\n",
            "2021-12-15 08:33:52,159 - INFO - downloader - downloaded images reach max num, thread downloader-001 is ready to exit\n",
            "2021-12-15 08:33:52,161 - INFO - downloader - thread downloader-001 exit\n",
            "2021-12-15 08:33:52,455 - INFO - downloader - downloader-001 is waiting for new download tasks\n",
            "2021-12-15 08:33:52,762 - INFO - icrawler.crawler - Crawling task done!\n",
            "2021-12-15 08:33:52,764 - INFO - icrawler.crawler - start crawling...\n",
            "2021-12-15 08:33:52,766 - INFO - icrawler.crawler - starting 1 feeder threads...\n",
            "2021-12-15 08:33:52,772 - INFO - feeder - thread feeder-001 exit\n",
            "2021-12-15 08:33:52,772 - INFO - icrawler.crawler - starting 1 parser threads...\n",
            "2021-12-15 08:33:52,781 - INFO - icrawler.crawler - starting 1 downloader threads...\n",
            "2021-12-15 08:33:53,068 - INFO - parser - parsing result page https://www.bing.com/images/async?q=バーサーカー立ち絵fgo&first=0\n",
            "2021-12-15 08:33:53,102 - INFO - parser - downloaded image reached max num, thread parser-001 is ready to exit\n",
            "2021-12-15 08:33:53,109 - INFO - downloader - skip downloading file 000001.jpg\n",
            "2021-12-15 08:33:53,110 - INFO - parser - thread parser-001 exit\n",
            "2021-12-15 08:33:53,117 - INFO - downloader - skip downloading file 000002.jpg\n",
            "2021-12-15 08:33:53,129 - INFO - downloader - skip downloading file 000003.jpg\n",
            "2021-12-15 08:33:53,132 - INFO - downloader - skip downloading file 000004.jpg\n",
            "2021-12-15 08:33:53,137 - INFO - downloader - skip downloading file 000005.jpg\n",
            "2021-12-15 08:33:53,270 - INFO - downloader - downloaded images reach max num, thread downloader-001 is ready to exit\n",
            "2021-12-15 08:33:53,271 - INFO - downloader - thread downloader-001 exit\n",
            "2021-12-15 08:33:53,789 - INFO - icrawler.crawler - Crawling task done!\n",
            "2021-12-15 08:33:53,792 - INFO - icrawler.crawler - start crawling...\n",
            "2021-12-15 08:33:53,793 - INFO - icrawler.crawler - starting 1 feeder threads...\n",
            "2021-12-15 08:33:53,795 - INFO - feeder - thread feeder-001 exit\n",
            "2021-12-15 08:33:53,795 - INFO - icrawler.crawler - starting 1 parser threads...\n",
            "2021-12-15 08:33:53,809 - INFO - icrawler.crawler - starting 1 downloader threads...\n",
            "2021-12-15 08:33:54,142 - INFO - parser - downloaded image reached max num, thread parser-001 is ready to exit\n",
            "2021-12-15 08:33:54,144 - INFO - parser - thread parser-001 exit\n",
            "2021-12-15 08:33:54,163 - INFO - parser - parsing result page https://www.bing.com/images/async?q=エクストラ立ち絵fgo&first=0\n",
            "2021-12-15 08:33:54,205 - INFO - downloader - skip downloading file 000001.jpg\n",
            "2021-12-15 08:33:54,207 - INFO - downloader - skip downloading file 000002.jpg\n",
            "2021-12-15 08:33:54,209 - INFO - downloader - skip downloading file 000003.jpg\n",
            "2021-12-15 08:33:54,211 - INFO - downloader - skip downloading file 000004.jpg\n",
            "2021-12-15 08:33:54,213 - INFO - downloader - skip downloading file 000005.jpg\n",
            "2021-12-15 08:33:54,338 - INFO - downloader - downloaded images reach max num, thread downloader-001 is ready to exit\n",
            "2021-12-15 08:33:54,339 - INFO - downloader - thread downloader-001 exit\n",
            "2021-12-15 08:33:54,823 - INFO - icrawler.crawler - Crawling task done!\n"
          ]
        }
      ]
    },
    {
      "cell_type": "code",
      "source": [
        "\"\"\"\n",
        "x=input()\n",
        "y=input()\n",
        "def gazo_scrape(x,y):#xがフォルダ名,yが検索ワード \n",
        "  crawler =BingImageCrawler(storage={\"root_dir\":x})\n",
        "  crawler.crawl(keyword=y,max_num=100)\n",
        "  for i in range(10):\n",
        "    display_jpeg(Image(f\"./x/{i:06}.jpg\"))\n",
        "\"\"\""
      ],
      "metadata": {
        "id": "Lcu4ys_VLb-n"
      },
      "execution_count": null,
      "outputs": []
    },
    {
      "cell_type": "code",
      "source": [
        ""
      ],
      "metadata": {
        "id": "JOAvvjeHN09I"
      },
      "execution_count": null,
      "outputs": []
    },
    {
      "cell_type": "code",
      "source": [
        ""
      ],
      "metadata": {
        "id": "qYVDv5NlOvC8"
      },
      "execution_count": null,
      "outputs": []
    }
  ]
}